{
 "cells": [
  {
   "cell_type": "markdown",
   "metadata": {
    "id": "9ci6rrq2X2If"
   },
   "source": [
    "## Predicting Additional Insurance Product Purchase - Logistic Regression Model - By Group2\n",
    "### Introduction\n",
    "In the competitive insurance industry, retaining customers and expanding relationships with them is key to business growth. One effective strategy is to offer additional products to existing customers. In this project, we aim to develop a predictive model that helps a large insurance company identify which of its current customers are most likely to purchase an additional insurance product.\n",
    "\n",
    "Using a dataset with over 14,000 customer records, we will explore factors such as customer demographics, loyalty levels, product purchase behavior, and financial information to develop and evaluate a logistic regression model. The insights derived from this model will assist the company in tailoring marketing strategies to improve customer retention and cross-selling efforts.\n",
    "\n",
    "### Project Goals:\n",
    "- **Data Understanding & Preprocessing:** Explore the dataset and clean it for any inconsistencies such as missing values or outliers.\n",
    "- **Feature Engineering:** Perform feature encoding and scaling where needed, particularly on categorical data like loyalty levels and product types.\n",
    "- **Model Development:** Build a logistic regression model to predict the likelihood of purchasing additional products.\n",
    "- **Model Evaluation:** Use metrics such as accuracy, precision, recall, and F1-score to assess the performance of the model.\n",
    "  \n",
    "Let’s begin by loading and exploring the dataset."
   ]
  },
  {
   "cell_type": "code",
   "execution_count": 1,
   "metadata": {
    "id": "aYMm03fxPkT5"
   },
   "outputs": [],
   "source": [
    "import pandas as pd\n",
    "import matplotlib.pyplot as plt\n",
    "import seaborn as sns\n",
    "import numpy as np\n",
    "import matplotlib.pyplot as plt\n",
    "\n",
    "import warnings\n",
    "warnings.filterwarnings('ignore')"
   ]
  },
  {
   "cell_type": "code",
   "execution_count": 2,
   "metadata": {
    "id": "FPSozkeaPt7M"
   },
   "outputs": [],
   "source": [
    "# Loading the dataset from the provided URL\n",
    "df=pd.read_csv('https://raw.githubusercontent.com/dheerajyeshiva/DAV-6150/refs/heads/main/M7_Data.csv')"
   ]
  },
  {
   "cell_type": "code",
   "execution_count": 3,
   "metadata": {
    "colab": {
     "base_uri": "https://localhost:8080/"
    },
    "id": "LG0BjibzP1RB",
    "outputId": "cba3f1d7-09a3-41d1-8fac-76b9b73943d3"
   },
   "outputs": [
    {
     "data": {
      "text/plain": [
       "(14016, 15)"
      ]
     },
     "execution_count": 3,
     "metadata": {},
     "output_type": "execute_result"
    }
   ],
   "source": [
    "df.shape"
   ]
  },
  {
   "cell_type": "code",
   "execution_count": 4,
   "metadata": {
    "colab": {
     "base_uri": "https://localhost:8080/"
    },
    "id": "NK38OgH5P2X7",
    "outputId": "c0b00c20-5086-4fe7-e7ed-474e2316bdc6"
   },
   "outputs": [
    {
     "name": "stdout",
     "output_type": "stream",
     "text": [
      "<class 'pandas.core.frame.DataFrame'>\n",
      "RangeIndex: 14016 entries, 0 to 14015\n",
      "Data columns (total 15 columns):\n",
      "TARGET        14016 non-null object\n",
      "loyalty       14016 non-null int64\n",
      "ID            14016 non-null int64\n",
      "age           14016 non-null int64\n",
      "city          14016 non-null int64\n",
      "LOR           14016 non-null int64\n",
      "prod_A        14016 non-null int64\n",
      "type_A        14016 non-null int64\n",
      "type_B        14016 non-null int64\n",
      "prod_B        14016 non-null int64\n",
      "turnover_A    14016 non-null float64\n",
      "turnover_B    14016 non-null float64\n",
      "contract      14016 non-null int64\n",
      "age_P         14016 non-null int64\n",
      "lor_M         14016 non-null int64\n",
      "dtypes: float64(2), int64(12), object(1)\n",
      "memory usage: 1.6+ MB\n"
     ]
    }
   ],
   "source": [
    "df.info()"
   ]
  },
  {
   "cell_type": "code",
   "execution_count": 5,
   "metadata": {
    "colab": {
     "base_uri": "https://localhost:8080/",
     "height": 206
    },
    "id": "0i4XI91oP3q5",
    "outputId": "d10f82cd-e99b-47df-e8de-7b97b407fba8"
   },
   "outputs": [
    {
     "data": {
      "text/html": [
       "<div>\n",
       "<style scoped>\n",
       "    .dataframe tbody tr th:only-of-type {\n",
       "        vertical-align: middle;\n",
       "    }\n",
       "\n",
       "    .dataframe tbody tr th {\n",
       "        vertical-align: top;\n",
       "    }\n",
       "\n",
       "    .dataframe thead th {\n",
       "        text-align: right;\n",
       "    }\n",
       "</style>\n",
       "<table border=\"1\" class=\"dataframe\">\n",
       "  <thead>\n",
       "    <tr style=\"text-align: right;\">\n",
       "      <th></th>\n",
       "      <th>TARGET</th>\n",
       "      <th>loyalty</th>\n",
       "      <th>ID</th>\n",
       "      <th>age</th>\n",
       "      <th>city</th>\n",
       "      <th>LOR</th>\n",
       "      <th>prod_A</th>\n",
       "      <th>type_A</th>\n",
       "      <th>type_B</th>\n",
       "      <th>prod_B</th>\n",
       "      <th>turnover_A</th>\n",
       "      <th>turnover_B</th>\n",
       "      <th>contract</th>\n",
       "      <th>age_P</th>\n",
       "      <th>lor_M</th>\n",
       "    </tr>\n",
       "  </thead>\n",
       "  <tbody>\n",
       "    <tr>\n",
       "      <th>0</th>\n",
       "      <td>Y</td>\n",
       "      <td>99</td>\n",
       "      <td>77</td>\n",
       "      <td>66</td>\n",
       "      <td>2</td>\n",
       "      <td>0</td>\n",
       "      <td>0</td>\n",
       "      <td>0</td>\n",
       "      <td>0</td>\n",
       "      <td>0</td>\n",
       "      <td>333.561114</td>\n",
       "      <td>264.721010</td>\n",
       "      <td>2</td>\n",
       "      <td>66</td>\n",
       "      <td>3</td>\n",
       "    </tr>\n",
       "    <tr>\n",
       "      <th>1</th>\n",
       "      <td>Y</td>\n",
       "      <td>1</td>\n",
       "      <td>159</td>\n",
       "      <td>45</td>\n",
       "      <td>2</td>\n",
       "      <td>3</td>\n",
       "      <td>1</td>\n",
       "      <td>3</td>\n",
       "      <td>3</td>\n",
       "      <td>1</td>\n",
       "      <td>394.735699</td>\n",
       "      <td>284.904978</td>\n",
       "      <td>2</td>\n",
       "      <td>45</td>\n",
       "      <td>39</td>\n",
       "    </tr>\n",
       "    <tr>\n",
       "      <th>2</th>\n",
       "      <td>Y</td>\n",
       "      <td>1</td>\n",
       "      <td>220</td>\n",
       "      <td>42</td>\n",
       "      <td>2</td>\n",
       "      <td>2</td>\n",
       "      <td>1</td>\n",
       "      <td>3</td>\n",
       "      <td>6</td>\n",
       "      <td>1</td>\n",
       "      <td>342.180990</td>\n",
       "      <td>1175.589721</td>\n",
       "      <td>2</td>\n",
       "      <td>42</td>\n",
       "      <td>27</td>\n",
       "    </tr>\n",
       "    <tr>\n",
       "      <th>3</th>\n",
       "      <td>Y</td>\n",
       "      <td>99</td>\n",
       "      <td>303</td>\n",
       "      <td>31</td>\n",
       "      <td>2</td>\n",
       "      <td>0</td>\n",
       "      <td>0</td>\n",
       "      <td>0</td>\n",
       "      <td>0</td>\n",
       "      <td>0</td>\n",
       "      <td>453.757916</td>\n",
       "      <td>242.341754</td>\n",
       "      <td>2</td>\n",
       "      <td>31</td>\n",
       "      <td>3</td>\n",
       "    </tr>\n",
       "    <tr>\n",
       "      <th>4</th>\n",
       "      <td>Y</td>\n",
       "      <td>99</td>\n",
       "      <td>306</td>\n",
       "      <td>62</td>\n",
       "      <td>2</td>\n",
       "      <td>0</td>\n",
       "      <td>0</td>\n",
       "      <td>0</td>\n",
       "      <td>0</td>\n",
       "      <td>0</td>\n",
       "      <td>384.577469</td>\n",
       "      <td>287.008370</td>\n",
       "      <td>2</td>\n",
       "      <td>62</td>\n",
       "      <td>3</td>\n",
       "    </tr>\n",
       "  </tbody>\n",
       "</table>\n",
       "</div>"
      ],
      "text/plain": [
       "  TARGET  loyalty   ID  age  city  LOR  prod_A  type_A  type_B  prod_B  \\\n",
       "0      Y       99   77   66     2    0       0       0       0       0   \n",
       "1      Y        1  159   45     2    3       1       3       3       1   \n",
       "2      Y        1  220   42     2    2       1       3       6       1   \n",
       "3      Y       99  303   31     2    0       0       0       0       0   \n",
       "4      Y       99  306   62     2    0       0       0       0       0   \n",
       "\n",
       "   turnover_A   turnover_B  contract  age_P  lor_M  \n",
       "0  333.561114   264.721010         2     66      3  \n",
       "1  394.735699   284.904978         2     45     39  \n",
       "2  342.180990  1175.589721         2     42     27  \n",
       "3  453.757916   242.341754         2     31      3  \n",
       "4  384.577469   287.008370         2     62      3  "
      ]
     },
     "execution_count": 5,
     "metadata": {},
     "output_type": "execute_result"
    }
   ],
   "source": [
    "df.head()"
   ]
  },
  {
   "cell_type": "markdown",
   "metadata": {
    "id": "yPMjnW0uCsVd"
   },
   "source": [
    "### Exploratary Data Analysis & Data Preparation"
   ]
  },
  {
   "cell_type": "code",
   "execution_count": 6,
   "metadata": {
    "colab": {
     "base_uri": "https://localhost:8080/"
    },
    "id": "j4GF5P_8P6Sn",
    "outputId": "287ab304-403d-4988-d369-6dd76e778ef2"
   },
   "outputs": [
    {
     "name": "stdout",
     "output_type": "stream",
     "text": [
      "Column 'TARGET' has 2 unique values.\n",
      "Column 'loyalty' has 5 unique values.\n",
      "Column 'ID' has 11008 unique values.\n",
      "Column 'age' has 86 unique values.\n",
      "Column 'city' has 65 unique values.\n",
      "Column 'LOR' has 7 unique values.\n",
      "Column 'prod_A' has 2 unique values.\n",
      "Column 'type_A' has 3 unique values.\n",
      "Column 'type_B' has 4 unique values.\n",
      "Column 'prod_B' has 2 unique values.\n",
      "Column 'turnover_A' has 11008 unique values.\n",
      "Column 'turnover_B' has 11008 unique values.\n",
      "Column 'contract' has 1 unique values.\n",
      "Column 'age_P' has 86 unique values.\n",
      "Column 'lor_M' has 7 unique values.\n"
     ]
    }
   ],
   "source": [
    "# Getting count of number of unique values in each column\n",
    "for col in df.columns:\n",
    "    unique_count = df[col].nunique()\n",
    "    print(f\"Column '{col}' has {unique_count} unique values.\")"
   ]
  },
  {
   "cell_type": "code",
   "execution_count": 7,
   "metadata": {
    "colab": {
     "base_uri": "https://localhost:8080/"
    },
    "id": "9kMSBNQs8Vig",
    "outputId": "15503497-74b6-479b-c196-e47fba8ae78e"
   },
   "outputs": [
    {
     "data": {
      "text/plain": [
       "False"
      ]
     },
     "execution_count": 7,
     "metadata": {},
     "output_type": "execute_result"
    }
   ],
   "source": [
    "# Checking if the DataFrame contains any missing (null) values\n",
    "df.isnull().values.any()"
   ]
  },
  {
   "cell_type": "code",
   "execution_count": 8,
   "metadata": {
    "colab": {
     "base_uri": "https://localhost:8080/",
     "height": 146
    },
    "id": "AyNlFtUF9Pm8",
    "outputId": "ddaecf4a-522b-4b79-871a-611542459947"
   },
   "outputs": [
    {
     "data": {
      "text/plain": [
       "False    11008\n",
       "True      3008\n",
       "dtype: int64"
      ]
     },
     "execution_count": 8,
     "metadata": {},
     "output_type": "execute_result"
    }
   ],
   "source": [
    "df.duplicated().value_counts()  # Checking for duplicates"
   ]
  },
  {
   "cell_type": "markdown",
   "metadata": {
    "id": "BS41RRS69arS"
   },
   "source": [
    "There are 3008 duplicate rows in the dataset"
   ]
  },
  {
   "cell_type": "code",
   "execution_count": 9,
   "metadata": {
    "id": "bZAST1_Y8laa"
   },
   "outputs": [],
   "source": [
    "#dropping the duplicate values\n",
    "df.drop_duplicates(keep='first', inplace=True)"
   ]
  },
  {
   "cell_type": "code",
   "execution_count": 10,
   "metadata": {
    "colab": {
     "base_uri": "https://localhost:8080/"
    },
    "id": "6tqZHvhb8rox",
    "outputId": "07a4879d-70cc-4d9f-d354-3558c3346cff"
   },
   "outputs": [
    {
     "data": {
      "text/plain": [
       "(11008, 15)"
      ]
     },
     "execution_count": 10,
     "metadata": {},
     "output_type": "execute_result"
    }
   ],
   "source": [
    "# Checking the shape of the dataset after dropping the duplicate values\n",
    "df.shape"
   ]
  },
  {
   "cell_type": "code",
   "execution_count": 11,
   "metadata": {
    "id": "5J2jUjdo81Tb"
   },
   "outputs": [],
   "source": [
    "# dropping ID as it has all unique values and it is not gonna be useful for our further analysis and model building\n",
    "df.drop('ID', axis=1, inplace=True)"
   ]
  },
  {
   "cell_type": "code",
   "execution_count": 12,
   "metadata": {
    "id": "TOJJSEOrBm7R"
   },
   "outputs": [],
   "source": [
    "# dropping contract feature as it has one unique value(2) which wont be useful too\n",
    "df.drop('contract', axis=1, inplace=True)"
   ]
  },
  {
   "cell_type": "code",
   "execution_count": 13,
   "metadata": {
    "id": "azdcoJu6B03f"
   },
   "outputs": [],
   "source": [
    "# dropping LOR( Length of Relationship in years) as we can derive this using the LOR(in months)\n",
    "df.drop('LOR', axis=1, inplace=True)"
   ]
  },
  {
   "cell_type": "code",
   "execution_count": 14,
   "metadata": {
    "colab": {
     "base_uri": "https://localhost:8080/",
     "height": 300
    },
    "id": "FwYsgnukCAf8",
    "outputId": "8fbbc5a3-ae2a-473b-d5a1-012f4f443020"
   },
   "outputs": [
    {
     "data": {
      "text/html": [
       "<div>\n",
       "<style scoped>\n",
       "    .dataframe tbody tr th:only-of-type {\n",
       "        vertical-align: middle;\n",
       "    }\n",
       "\n",
       "    .dataframe tbody tr th {\n",
       "        vertical-align: top;\n",
       "    }\n",
       "\n",
       "    .dataframe thead th {\n",
       "        text-align: right;\n",
       "    }\n",
       "</style>\n",
       "<table border=\"1\" class=\"dataframe\">\n",
       "  <thead>\n",
       "    <tr style=\"text-align: right;\">\n",
       "      <th></th>\n",
       "      <th>loyalty</th>\n",
       "      <th>age</th>\n",
       "      <th>city</th>\n",
       "      <th>prod_A</th>\n",
       "      <th>type_A</th>\n",
       "      <th>type_B</th>\n",
       "      <th>prod_B</th>\n",
       "      <th>turnover_A</th>\n",
       "      <th>turnover_B</th>\n",
       "      <th>age_P</th>\n",
       "      <th>lor_M</th>\n",
       "    </tr>\n",
       "  </thead>\n",
       "  <tbody>\n",
       "    <tr>\n",
       "      <th>count</th>\n",
       "      <td>11008.000000</td>\n",
       "      <td>11008.000000</td>\n",
       "      <td>11008.000000</td>\n",
       "      <td>11008.000000</td>\n",
       "      <td>11008.000000</td>\n",
       "      <td>11008.000000</td>\n",
       "      <td>11008.000000</td>\n",
       "      <td>11008.000000</td>\n",
       "      <td>11008.000000</td>\n",
       "      <td>11008.000000</td>\n",
       "      <td>11008.000000</td>\n",
       "    </tr>\n",
       "    <tr>\n",
       "      <th>mean</th>\n",
       "      <td>46.533612</td>\n",
       "      <td>34.845203</td>\n",
       "      <td>-724.143078</td>\n",
       "      <td>0.584393</td>\n",
       "      <td>1.759448</td>\n",
       "      <td>2.097929</td>\n",
       "      <td>0.652253</td>\n",
       "      <td>372.332403</td>\n",
       "      <td>344.120565</td>\n",
       "      <td>34.845203</td>\n",
       "      <td>14.791788</td>\n",
       "    </tr>\n",
       "    <tr>\n",
       "      <th>std</th>\n",
       "      <td>48.292402</td>\n",
       "      <td>13.032781</td>\n",
       "      <td>26949.664365</td>\n",
       "      <td>0.492849</td>\n",
       "      <td>1.490133</td>\n",
       "      <td>1.671441</td>\n",
       "      <td>0.476277</td>\n",
       "      <td>96.685932</td>\n",
       "      <td>524.372413</td>\n",
       "      <td>13.032781</td>\n",
       "      <td>11.272981</td>\n",
       "    </tr>\n",
       "    <tr>\n",
       "      <th>min</th>\n",
       "      <td>0.000000</td>\n",
       "      <td>5.000000</td>\n",
       "      <td>-999999.000000</td>\n",
       "      <td>0.000000</td>\n",
       "      <td>0.000000</td>\n",
       "      <td>0.000000</td>\n",
       "      <td>0.000000</td>\n",
       "      <td>300.095909</td>\n",
       "      <td>191.962852</td>\n",
       "      <td>5.000000</td>\n",
       "      <td>3.000000</td>\n",
       "    </tr>\n",
       "    <tr>\n",
       "      <th>25%</th>\n",
       "      <td>2.000000</td>\n",
       "      <td>24.000000</td>\n",
       "      <td>2.000000</td>\n",
       "      <td>0.000000</td>\n",
       "      <td>0.000000</td>\n",
       "      <td>0.000000</td>\n",
       "      <td>0.000000</td>\n",
       "      <td>332.229899</td>\n",
       "      <td>218.302029</td>\n",
       "      <td>24.000000</td>\n",
       "      <td>3.000000</td>\n",
       "    </tr>\n",
       "    <tr>\n",
       "      <th>50%</th>\n",
       "      <td>3.000000</td>\n",
       "      <td>31.000000</td>\n",
       "      <td>2.000000</td>\n",
       "      <td>1.000000</td>\n",
       "      <td>3.000000</td>\n",
       "      <td>3.000000</td>\n",
       "      <td>1.000000</td>\n",
       "      <td>361.930298</td>\n",
       "      <td>235.025216</td>\n",
       "      <td>31.000000</td>\n",
       "      <td>15.000000</td>\n",
       "    </tr>\n",
       "    <tr>\n",
       "      <th>75%</th>\n",
       "      <td>99.000000</td>\n",
       "      <td>42.000000</td>\n",
       "      <td>2.000000</td>\n",
       "      <td>1.000000</td>\n",
       "      <td>3.000000</td>\n",
       "      <td>3.000000</td>\n",
       "      <td>1.000000</td>\n",
       "      <td>391.567662</td>\n",
       "      <td>253.759401</td>\n",
       "      <td>42.000000</td>\n",
       "      <td>15.000000</td>\n",
       "    </tr>\n",
       "    <tr>\n",
       "      <th>max</th>\n",
       "      <td>99.000000</td>\n",
       "      <td>102.000000</td>\n",
       "      <td>235.000000</td>\n",
       "      <td>1.000000</td>\n",
       "      <td>6.000000</td>\n",
       "      <td>9.000000</td>\n",
       "      <td>1.000000</td>\n",
       "      <td>5568.784139</td>\n",
       "      <td>12249.084770</td>\n",
       "      <td>102.000000</td>\n",
       "      <td>75.000000</td>\n",
       "    </tr>\n",
       "  </tbody>\n",
       "</table>\n",
       "</div>"
      ],
      "text/plain": [
       "            loyalty           age           city        prod_A        type_A  \\\n",
       "count  11008.000000  11008.000000   11008.000000  11008.000000  11008.000000   \n",
       "mean      46.533612     34.845203    -724.143078      0.584393      1.759448   \n",
       "std       48.292402     13.032781   26949.664365      0.492849      1.490133   \n",
       "min        0.000000      5.000000 -999999.000000      0.000000      0.000000   \n",
       "25%        2.000000     24.000000       2.000000      0.000000      0.000000   \n",
       "50%        3.000000     31.000000       2.000000      1.000000      3.000000   \n",
       "75%       99.000000     42.000000       2.000000      1.000000      3.000000   \n",
       "max       99.000000    102.000000     235.000000      1.000000      6.000000   \n",
       "\n",
       "             type_B        prod_B    turnover_A    turnover_B         age_P  \\\n",
       "count  11008.000000  11008.000000  11008.000000  11008.000000  11008.000000   \n",
       "mean       2.097929      0.652253    372.332403    344.120565     34.845203   \n",
       "std        1.671441      0.476277     96.685932    524.372413     13.032781   \n",
       "min        0.000000      0.000000    300.095909    191.962852      5.000000   \n",
       "25%        0.000000      0.000000    332.229899    218.302029     24.000000   \n",
       "50%        3.000000      1.000000    361.930298    235.025216     31.000000   \n",
       "75%        3.000000      1.000000    391.567662    253.759401     42.000000   \n",
       "max        9.000000      1.000000   5568.784139  12249.084770    102.000000   \n",
       "\n",
       "              lor_M  \n",
       "count  11008.000000  \n",
       "mean      14.791788  \n",
       "std       11.272981  \n",
       "min        3.000000  \n",
       "25%        3.000000  \n",
       "50%       15.000000  \n",
       "75%       15.000000  \n",
       "max       75.000000  "
      ]
     },
     "execution_count": 14,
     "metadata": {},
     "output_type": "execute_result"
    }
   ],
   "source": [
    "# Display the descriptive statistics\n",
    "df.describe()"
   ]
  },
  {
   "cell_type": "markdown",
   "metadata": {
    "id": "y2-E9k1uZLJQ"
   },
   "source": [
    "## Insights:\n",
    "\n",
    "#### 1. **Data Completeness**\n",
    "- Each feature in the dataset contains **11,008** entries, indicating a complete dataset with no missing values.\n",
    "\n",
    "#### 2. **Age Distribution**\n",
    "- The average age of individuals in the dataset is approximately **34.85** years.\n",
    "- Age ranges from a minimum of **5** years to a maximum of **102** years, indicating a wide demographic spread.\n",
    "\n",
    "#### 3. **Loyalty Scores**\n",
    "- The average loyalty score is around **46.53**, with a notable maximum score of **99**.\n",
    "- A substantial portion of the dataset has a loyalty score of **3 or lower** (median), suggesting many individuals may be at the lower end of the loyalty spectrum.\n",
    "\n",
    "#### 4. **City Values**\n",
    "- The `city` feature shows a significant variance, with a mean of **-724.14** and a maximum value of **235**. The extreme minimum of **-999,999** suggests possible data quality issues or outliers that need addressing.\n",
    "\n",
    "#### 5. **Product Preferences**\n",
    "- The average values for product types (`prod_A` and `prod_B`) are relatively low, suggesting limited engagement with those products. Specifically:\n",
    "  - `prod_A` has a mean of **0.58**.\n",
    "  - `prod_B` has a mean of **0.65**.\n",
    "\n",
    "#### 6. **Turnover Figures**\n",
    "- The average turnover for `turnover_A` is about **372.33**, while `turnover_B` is significantly higher at **344.12**.\n",
    "- The standard deviation of `turnover_B` is notably high (**524.37**), indicating a wide range of turnover values and potential outliers.\n",
    "\n",
    "#### 7. **Age and Loyalty Correlation**\n",
    "- The median age of individuals (31 years) aligns with the mean, suggesting a balanced distribution. Young individuals may show varying loyalty scores, with the average loyalty score of **14.79**.\n",
    "\n",
    "These insights highlight important trends and potential areas for further investigation, such as data quality issues in the `city` feature and the need for strategies to enhance customer loyalty and product engagement."
   ]
  },
  {
   "cell_type": "code",
   "execution_count": 15,
   "metadata": {
    "id": "aGDc-GjfC6aU"
   },
   "outputs": [],
   "source": [
    "# age and age_p are same values and hence one of them can be dropped too\n",
    "df.drop('age_P', axis=1, inplace=True)"
   ]
  },
  {
   "cell_type": "code",
   "execution_count": 16,
   "metadata": {
    "colab": {
     "base_uri": "https://localhost:8080/"
    },
    "id": "05qqdaAfDiYe",
    "outputId": "92aba74a-3f84-442c-86f7-3e365307d9ca"
   },
   "outputs": [
    {
     "data": {
      "text/plain": [
       "Index(['TARGET', 'loyalty', 'age', 'city', 'prod_A', 'type_A', 'type_B',\n",
       "       'prod_B', 'turnover_A', 'turnover_B', 'lor_M'],\n",
       "      dtype='object')"
      ]
     },
     "execution_count": 16,
     "metadata": {},
     "output_type": "execute_result"
    }
   ],
   "source": [
    "df.columns"
   ]
  },
  {
   "cell_type": "code",
   "execution_count": 17,
   "metadata": {
    "colab": {
     "base_uri": "https://localhost:8080/",
     "height": 178
    },
    "id": "ld7qB3HGQvWG",
    "outputId": "5bfba691-9cd6-4daf-c9a1-7ab17cf8960e"
   },
   "outputs": [
    {
     "data": {
      "text/plain": [
       "N    8000\n",
       "Y    3008\n",
       "Name: TARGET, dtype: int64"
      ]
     },
     "execution_count": 17,
     "metadata": {},
     "output_type": "execute_result"
    }
   ],
   "source": [
    "# Count the occurrences of each category in the TARGET variable\n",
    "df.TARGET.value_counts()"
   ]
  },
  {
   "cell_type": "code",
   "execution_count": 18,
   "metadata": {
    "id": "gQoBkosKPOEg"
   },
   "outputs": [],
   "source": [
    "# Changing the Target values from string to boolean\n",
    "df['TARGET']=df['TARGET'].apply(lambda x:1 if x=='Y' else 0)"
   ]
  },
  {
   "cell_type": "code",
   "execution_count": 19,
   "metadata": {
    "colab": {
     "base_uri": "https://localhost:8080/",
     "height": 206
    },
    "id": "Ssjn1uRhRtnG",
    "outputId": "cbf1176a-2d26-465a-d465-aa316b706310"
   },
   "outputs": [
    {
     "data": {
      "text/html": [
       "<div>\n",
       "<style scoped>\n",
       "    .dataframe tbody tr th:only-of-type {\n",
       "        vertical-align: middle;\n",
       "    }\n",
       "\n",
       "    .dataframe tbody tr th {\n",
       "        vertical-align: top;\n",
       "    }\n",
       "\n",
       "    .dataframe thead th {\n",
       "        text-align: right;\n",
       "    }\n",
       "</style>\n",
       "<table border=\"1\" class=\"dataframe\">\n",
       "  <thead>\n",
       "    <tr style=\"text-align: right;\">\n",
       "      <th></th>\n",
       "      <th>TARGET</th>\n",
       "      <th>loyalty</th>\n",
       "      <th>age</th>\n",
       "      <th>city</th>\n",
       "      <th>prod_A</th>\n",
       "      <th>type_A</th>\n",
       "      <th>type_B</th>\n",
       "      <th>prod_B</th>\n",
       "      <th>turnover_A</th>\n",
       "      <th>turnover_B</th>\n",
       "      <th>lor_M</th>\n",
       "    </tr>\n",
       "  </thead>\n",
       "  <tbody>\n",
       "    <tr>\n",
       "      <th>0</th>\n",
       "      <td>1</td>\n",
       "      <td>99</td>\n",
       "      <td>66</td>\n",
       "      <td>2</td>\n",
       "      <td>0</td>\n",
       "      <td>0</td>\n",
       "      <td>0</td>\n",
       "      <td>0</td>\n",
       "      <td>333.561114</td>\n",
       "      <td>264.721010</td>\n",
       "      <td>3</td>\n",
       "    </tr>\n",
       "    <tr>\n",
       "      <th>1</th>\n",
       "      <td>1</td>\n",
       "      <td>1</td>\n",
       "      <td>45</td>\n",
       "      <td>2</td>\n",
       "      <td>1</td>\n",
       "      <td>3</td>\n",
       "      <td>3</td>\n",
       "      <td>1</td>\n",
       "      <td>394.735699</td>\n",
       "      <td>284.904978</td>\n",
       "      <td>39</td>\n",
       "    </tr>\n",
       "    <tr>\n",
       "      <th>2</th>\n",
       "      <td>1</td>\n",
       "      <td>1</td>\n",
       "      <td>42</td>\n",
       "      <td>2</td>\n",
       "      <td>1</td>\n",
       "      <td>3</td>\n",
       "      <td>6</td>\n",
       "      <td>1</td>\n",
       "      <td>342.180990</td>\n",
       "      <td>1175.589721</td>\n",
       "      <td>27</td>\n",
       "    </tr>\n",
       "    <tr>\n",
       "      <th>3</th>\n",
       "      <td>1</td>\n",
       "      <td>99</td>\n",
       "      <td>31</td>\n",
       "      <td>2</td>\n",
       "      <td>0</td>\n",
       "      <td>0</td>\n",
       "      <td>0</td>\n",
       "      <td>0</td>\n",
       "      <td>453.757916</td>\n",
       "      <td>242.341754</td>\n",
       "      <td>3</td>\n",
       "    </tr>\n",
       "    <tr>\n",
       "      <th>4</th>\n",
       "      <td>1</td>\n",
       "      <td>99</td>\n",
       "      <td>62</td>\n",
       "      <td>2</td>\n",
       "      <td>0</td>\n",
       "      <td>0</td>\n",
       "      <td>0</td>\n",
       "      <td>0</td>\n",
       "      <td>384.577469</td>\n",
       "      <td>287.008370</td>\n",
       "      <td>3</td>\n",
       "    </tr>\n",
       "  </tbody>\n",
       "</table>\n",
       "</div>"
      ],
      "text/plain": [
       "   TARGET  loyalty  age  city  prod_A  type_A  type_B  prod_B  turnover_A  \\\n",
       "0       1       99   66     2       0       0       0       0  333.561114   \n",
       "1       1        1   45     2       1       3       3       1  394.735699   \n",
       "2       1        1   42     2       1       3       6       1  342.180990   \n",
       "3       1       99   31     2       0       0       0       0  453.757916   \n",
       "4       1       99   62     2       0       0       0       0  384.577469   \n",
       "\n",
       "    turnover_B  lor_M  \n",
       "0   264.721010      3  \n",
       "1   284.904978     39  \n",
       "2  1175.589721     27  \n",
       "3   242.341754      3  \n",
       "4   287.008370      3  "
      ]
     },
     "execution_count": 19,
     "metadata": {},
     "output_type": "execute_result"
    }
   ],
   "source": [
    "df.head()"
   ]
  },
  {
   "cell_type": "code",
   "execution_count": 20,
   "metadata": {
    "colab": {
     "base_uri": "https://localhost:8080/",
     "height": 143
    },
    "id": "yEIumLNWFA3v",
    "outputId": "da86b881-2175-411a-ce09-1814594745db"
   },
   "outputs": [
    {
     "data": {
      "text/html": [
       "<div>\n",
       "<style scoped>\n",
       "    .dataframe tbody tr th:only-of-type {\n",
       "        vertical-align: middle;\n",
       "    }\n",
       "\n",
       "    .dataframe tbody tr th {\n",
       "        vertical-align: top;\n",
       "    }\n",
       "\n",
       "    .dataframe thead th {\n",
       "        text-align: right;\n",
       "    }\n",
       "</style>\n",
       "<table border=\"1\" class=\"dataframe\">\n",
       "  <thead>\n",
       "    <tr style=\"text-align: right;\">\n",
       "      <th></th>\n",
       "      <th>prod_A</th>\n",
       "      <th>type_A</th>\n",
       "      <th>count</th>\n",
       "    </tr>\n",
       "  </thead>\n",
       "  <tbody>\n",
       "    <tr>\n",
       "      <th>0</th>\n",
       "      <td>0</td>\n",
       "      <td>0</td>\n",
       "      <td>4575</td>\n",
       "    </tr>\n",
       "    <tr>\n",
       "      <th>1</th>\n",
       "      <td>1</td>\n",
       "      <td>3</td>\n",
       "      <td>6410</td>\n",
       "    </tr>\n",
       "    <tr>\n",
       "      <th>2</th>\n",
       "      <td>1</td>\n",
       "      <td>6</td>\n",
       "      <td>23</td>\n",
       "    </tr>\n",
       "  </tbody>\n",
       "</table>\n",
       "</div>"
      ],
      "text/plain": [
       "   prod_A  type_A  count\n",
       "0       0       0   4575\n",
       "1       1       3   6410\n",
       "2       1       6     23"
      ]
     },
     "execution_count": 20,
     "metadata": {},
     "output_type": "execute_result"
    }
   ],
   "source": [
    "# Group by 'prod_A' and 'type_A' and count the occurrences\n",
    "prod_type_count_a = df.groupby(['prod_A', 'type_A']).size().reset_index(name='count')\n",
    "prod_type_count_a"
   ]
  },
  {
   "cell_type": "code",
   "execution_count": 21,
   "metadata": {
    "colab": {
     "base_uri": "https://localhost:8080/",
     "height": 174
    },
    "id": "RENU2wA5d4Ur",
    "outputId": "fa922ad4-1898-4799-9f83-855ec544f490"
   },
   "outputs": [
    {
     "data": {
      "text/html": [
       "<div>\n",
       "<style scoped>\n",
       "    .dataframe tbody tr th:only-of-type {\n",
       "        vertical-align: middle;\n",
       "    }\n",
       "\n",
       "    .dataframe tbody tr th {\n",
       "        vertical-align: top;\n",
       "    }\n",
       "\n",
       "    .dataframe thead th {\n",
       "        text-align: right;\n",
       "    }\n",
       "</style>\n",
       "<table border=\"1\" class=\"dataframe\">\n",
       "  <thead>\n",
       "    <tr style=\"text-align: right;\">\n",
       "      <th></th>\n",
       "      <th>prod_B</th>\n",
       "      <th>type_B</th>\n",
       "      <th>count</th>\n",
       "    </tr>\n",
       "  </thead>\n",
       "  <tbody>\n",
       "    <tr>\n",
       "      <th>0</th>\n",
       "      <td>0</td>\n",
       "      <td>0</td>\n",
       "      <td>3828</td>\n",
       "    </tr>\n",
       "    <tr>\n",
       "      <th>1</th>\n",
       "      <td>1</td>\n",
       "      <td>3</td>\n",
       "      <td>6695</td>\n",
       "    </tr>\n",
       "    <tr>\n",
       "      <th>2</th>\n",
       "      <td>1</td>\n",
       "      <td>6</td>\n",
       "      <td>452</td>\n",
       "    </tr>\n",
       "    <tr>\n",
       "      <th>3</th>\n",
       "      <td>1</td>\n",
       "      <td>9</td>\n",
       "      <td>33</td>\n",
       "    </tr>\n",
       "  </tbody>\n",
       "</table>\n",
       "</div>"
      ],
      "text/plain": [
       "   prod_B  type_B  count\n",
       "0       0       0   3828\n",
       "1       1       3   6695\n",
       "2       1       6    452\n",
       "3       1       9     33"
      ]
     },
     "execution_count": 21,
     "metadata": {},
     "output_type": "execute_result"
    }
   ],
   "source": [
    "# Group by 'prod_B' and 'type_B' and count the occurrences\n",
    "prod_type_count_b = df.groupby(['prod_B', 'type_B']).size().reset_index(name='count')\n",
    "prod_type_count_b"
   ]
  },
  {
   "cell_type": "code",
   "execution_count": 22,
   "metadata": {
    "colab": {
     "base_uri": "https://localhost:8080/",
     "height": 607
    },
    "id": "MEDQlHp5OeTb",
    "outputId": "2e486358-6eab-4c26-e4aa-a220c18428d1"
   },
   "outputs": [
    {
     "data": {
      "image/png": "[encoded data removed]",
      "text/plain": [
       "<Figure size 720x432 with 1 Axes>"
      ]
     },
     "metadata": {
      "needs_background": "light"
     },
     "output_type": "display_data"
    }
   ],
   "source": [
    "# Creating bar plot of 'type_A' at x-axis and 'count' as the y-axis to visualizes the distribution of purchases across different types of Product A\n",
    "plt.figure(figsize=(10, 6))\n",
    "plt.bar(prod_type_count_a['type_A'].astype(str), prod_type_count_a['count'])\n",
    "\n",
    "# Set the labels and title\n",
    "plt.xlabel('prod_A and type_A combinations')\n",
    "plt.ylabel('Count')\n",
    "plt.title('Count of Product A and Type A Combinations')\n",
    "plt.xticks(rotation=90)  # Rotate x labels for better readability\n",
    "\n",
    "# Show the plot\n",
    "plt.tight_layout()\n",
    "plt.show()"
   ]
  },
  {
   "cell_type": "markdown",
   "metadata": {
    "id": "lZQT_zbut11j"
   },
   "source": [
    "The bar chart illustrates the counts of different combinations of product A and type A. There are three unique combinations: 0, 3, and 6. The combination with 0 occurrences is the least common, while the one with 3 occurrences is the most common. The combination with 6 occurrences ranks as the second least common."
   ]
  },
  {
   "cell_type": "code",
   "execution_count": 23,
   "metadata": {
    "colab": {
     "base_uri": "https://localhost:8080/",
     "height": 607
    },
    "id": "SmoctjTheY1O",
    "outputId": "002d701b-d364-4c05-8934-63872df459fc"
   },
   "outputs": [
    {
     "data": {
      "image/png": "[encoded data removed]",
      "text/plain": [
       "<Figure size 720x432 with 1 Axes>"
      ]
     },
     "metadata": {
      "needs_background": "light"
     },
     "output_type": "display_data"
    }
   ],
   "source": [
    "# Creating bar plot of 'type_A' at x-axis and 'count' as the y-axis to visualizes the distribution of purchases across different types of Product A\n",
    "plt.figure(figsize=(10, 6))\n",
    "plt.bar(prod_type_count_b['type_B'].astype(str), prod_type_count_b['count'])\n",
    "\n",
    "# Set the labels and title\n",
    "plt.xlabel('prod_B and type_B combinations')\n",
    "plt.ylabel('Count')\n",
    "plt.title('Count of Product B and Type B Combinations')\n",
    "plt.xticks(rotation=90)  # Rotate x labels for better readability\n",
    "\n",
    "# Show the plot\n",
    "plt.tight_layout()\n",
    "plt.show()"
   ]
  },
  {
   "cell_type": "markdown",
   "metadata": {
    "id": "xZ6mw4O8uHgC"
   },
   "source": [
    "The bar chart illustrates the counts of combinations of product B and type B. There are four distinct combinations: 0, 3, 6, and 9. The combination with 0 occurrences is the second least common, while the combination with 3 occurrences is the most common. The combination with 6 occurrences is the least common, and the one with 9 occurrences is the second most common."
   ]
  },
  {
   "cell_type": "code",
   "execution_count": 24,
   "metadata": {
    "colab": {
     "base_uri": "https://localhost:8080/",
     "height": 391
    },
    "id": "UHT-2LCdSCsp",
    "outputId": "263800e1-0bf1-4fa3-8d43-006eceec229e"
   },
   "outputs": [
    {
     "data": {
      "image/png": "[encoded data removed]",
      "text/plain": [
       "<Figure size 1152x288 with 2 Axes>"
      ]
     },
     "metadata": {
      "needs_background": "light"
     },
     "output_type": "display_data"
    }
   ],
   "source": [
    "# Create a box plot for the 'age'  and 'lor_M' column to visualize its distribution and identify outliers\n",
    "fig = plt.figure(figsize=(16,4))\n",
    "plt.subplot(1, 2, 1)\n",
    "df.boxplot(column='age');\n",
    "plt.title(\"Box plot of Age\");\n",
    "\n",
    "\n",
    "plt.subplot(1, 2, 2)\n",
    "df.boxplot(column='lor_M');\n",
    "plt.title(\" Box plot of Length of Relationship in months\");"
   ]
  },
  {
   "cell_type": "markdown",
   "metadata": {
    "id": "Em3BtC8XuF1u"
   },
   "source": [
    "1. The median age (from the 'age' column) of around 40 indicates a mature demographic, while the median length of relationship (from the 'lor_M' column) of 15 months reflects generally shorter relationships.\n",
    "2. Both distributions exhibit the same interquartile range of 20, suggesting comparable variability in age and relationship length across the dataset.\n",
    "3. Outliers are present in both distributions, with age outliers at the higher end and relationship length outliers appearing on both ends, highlighting diverse relationship dynamics."
   ]
  },
  {
   "cell_type": "markdown",
   "metadata": {
    "id": "4YBCS619DPL1"
   },
   "source": [
    "# Prepped Data Review"
   ]
  },
  {
   "cell_type": "code",
   "execution_count": 25,
   "metadata": {
    "colab": {
     "base_uri": "https://localhost:8080/",
     "height": 272
    },
    "id": "Lqua0jeXYpOt",
    "outputId": "d4276939-f7de-45a9-c2a4-c70aa31ea357"
   },
   "outputs": [
    {
     "data": {
      "text/plain": [
       "99    5048\n",
       "3     2701\n",
       "1     2019\n",
       "2     1184\n",
       "0       56\n",
       "Name: loyalty, dtype: int64"
      ]
     },
     "execution_count": 25,
     "metadata": {},
     "output_type": "execute_result"
    }
   ],
   "source": [
    "df['loyalty'].value_counts()"
   ]
  },
  {
   "cell_type": "markdown",
   "metadata": {
    "id": "y6s6MNX9vKVa"
   },
   "source": [
    "The dataset categorizes loyalty levels as 0: None, 1: Low, 2: Medium, 3: High, and 99: Unclassified. The unclassified group (99) is the most prevalent, with 5,048 instances, suggesting a large portion of customers whose loyalty status is undefined. The high loyalty category (3) follows with 2,701 occurrences, indicating a significant number of highly loyal customers. Low loyalty (1) has 2,019 counts, representing a sizable group that could benefit from loyalty-building efforts. Medium loyalty (2) accounts for 1,184 occurrences, while the no-loyalty group (0) is the least common, with just 56 instances. This distribution highlights opportunities to classify unclassified customers and target low-loyalty groups for engagement."
   ]
  },
  {
   "cell_type": "code",
   "execution_count": 26,
   "metadata": {
    "id": "vo5pr-_BbwvA"
   },
   "outputs": [],
   "source": [
    "def plot_countplots(df, columns):\n",
    "    \"\"\"\n",
    "    Plots countplots for specified columns in the given DataFrame.\n",
    "\n",
    "    Parameters:\n",
    "    df (pd.DataFrame): The DataFrame containing the data.\n",
    "    columns (list): List of column names to create countplots for.\n",
    "    \"\"\"\n",
    "    # Set the number of subplots based on the number of columns\n",
    "    num_columns = len(columns)\n",
    "    num_rows = (num_columns + 1) // 2  # Arrange plots in rows\n",
    "\n",
    "    plt.figure(figsize=(12, num_rows * 4))  # Adjust figure size\n",
    "\n",
    "    for i, column in enumerate(columns):\n",
    "        plt.subplot(num_rows, 2, i + 1)  # Create subplot\n",
    "        sns.countplot(data=df, x=column, hue='TARGET')  # Create countplot\n",
    "        plt.title(f'Count Plot for {column}')\n",
    "        # plt.xticks(rotation=45)  # Rotate x-axis labels for better readability\n",
    "\n",
    "    plt.tight_layout()  # Adjust layout to prevent overlap\n",
    "    plt.show()  # Display the plots\n",
    "\n"
   ]
  },
  {
   "cell_type": "code",
   "execution_count": 27,
   "metadata": {
    "colab": {
     "base_uri": "https://localhost:8080/",
     "height": 807
    },
    "id": "HU7sOPfFfl9a",
    "outputId": "634ddb08-c818-414a-c904-6c677541f711"
   },
   "outputs": [
    {
     "data": {
      "image/png": "[encoded data removed]",
      "text/plain": [
       "<Figure size 864x576 with 4 Axes>"
      ]
     },
     "metadata": {
      "needs_background": "light"
     },
     "output_type": "display_data"
    }
   ],
   "source": [
    "plot_countplots(df, ['loyalty','prod_A','prod_B','lor_M'])"
   ]
  },
  {
   "cell_type": "markdown",
   "metadata": {
    "id": "36pqZrxFvhIK"
   },
   "source": [
    "**Strong Loyalty Influence**: The significant difference in counts between loyalty levels 0 and 1 suggests that loyalty may play a crucial role in the dataset. Higher loyalty levels could be linked to more favorable outcomes, making it a key factor to investigate further.\n",
    "\n",
    "**Moderate Product Engagement**: While there is a difference in counts for prod_A and prod_B, the variation is less dramatic than that observed for loyalty. This indicates that while products A and B are relevant, loyalty might have a more pronounced impact on customer behavior or outcomes.\n",
    "\n",
    "**Potential Relationship Trends**: The decreasing trend in the length of relationship (lor M) suggests that as the relationship length increases, the count of observations decreases. This might indicate that shorter relationships are more common, which could affect customer retention strategies."
   ]
  },
  {
   "cell_type": "code",
   "execution_count": 28,
   "metadata": {
    "colab": {
     "base_uri": "https://localhost:8080/",
     "height": 178
    },
    "id": "Xus7rouEf1rO",
    "outputId": "71ab2928-4ebe-4487-d687-58af15098cd0"
   },
   "outputs": [
    {
     "data": {
      "text/plain": [
       "0    8000\n",
       "1    3008\n",
       "Name: TARGET, dtype: int64"
      ]
     },
     "execution_count": 28,
     "metadata": {},
     "output_type": "execute_result"
    }
   ],
   "source": [
    "df.TARGET.value_counts()"
   ]
  },
  {
   "cell_type": "markdown",
   "metadata": {
    "id": "Zo_ZQg6GE377"
   },
   "source": [
    "### One Hot Encoding"
   ]
  },
  {
   "cell_type": "code",
   "execution_count": 29,
   "metadata": {
    "colab": {
     "base_uri": "https://localhost:8080/",
     "height": 206
    },
    "id": "TTpFY5fsgVRe",
    "outputId": "4a2ef208-d0c2-4283-bc92-fd84b0f78f06"
   },
   "outputs": [
    {
     "data": {
      "text/html": [
       "<div>\n",
       "<style scoped>\n",
       "    .dataframe tbody tr th:only-of-type {\n",
       "        vertical-align: middle;\n",
       "    }\n",
       "\n",
       "    .dataframe tbody tr th {\n",
       "        vertical-align: top;\n",
       "    }\n",
       "\n",
       "    .dataframe thead th {\n",
       "        text-align: right;\n",
       "    }\n",
       "</style>\n",
       "<table border=\"1\" class=\"dataframe\">\n",
       "  <thead>\n",
       "    <tr style=\"text-align: right;\">\n",
       "      <th></th>\n",
       "      <th>TARGET</th>\n",
       "      <th>age</th>\n",
       "      <th>city</th>\n",
       "      <th>prod_A</th>\n",
       "      <th>type_A</th>\n",
       "      <th>type_B</th>\n",
       "      <th>prod_B</th>\n",
       "      <th>turnover_A</th>\n",
       "      <th>turnover_B</th>\n",
       "      <th>lor_M</th>\n",
       "      <th>loyalty_none</th>\n",
       "      <th>loyalty_low</th>\n",
       "      <th>loyalty_medium</th>\n",
       "      <th>loyalty_high</th>\n",
       "      <th>loyalty_unclassified</th>\n",
       "    </tr>\n",
       "  </thead>\n",
       "  <tbody>\n",
       "    <tr>\n",
       "      <th>0</th>\n",
       "      <td>1</td>\n",
       "      <td>66</td>\n",
       "      <td>2</td>\n",
       "      <td>0</td>\n",
       "      <td>0</td>\n",
       "      <td>0</td>\n",
       "      <td>0</td>\n",
       "      <td>333.561114</td>\n",
       "      <td>264.721010</td>\n",
       "      <td>3</td>\n",
       "      <td>0</td>\n",
       "      <td>0</td>\n",
       "      <td>0</td>\n",
       "      <td>0</td>\n",
       "      <td>1</td>\n",
       "    </tr>\n",
       "    <tr>\n",
       "      <th>1</th>\n",
       "      <td>1</td>\n",
       "      <td>45</td>\n",
       "      <td>2</td>\n",
       "      <td>1</td>\n",
       "      <td>3</td>\n",
       "      <td>3</td>\n",
       "      <td>1</td>\n",
       "      <td>394.735699</td>\n",
       "      <td>284.904978</td>\n",
       "      <td>39</td>\n",
       "      <td>0</td>\n",
       "      <td>1</td>\n",
       "      <td>0</td>\n",
       "      <td>0</td>\n",
       "      <td>0</td>\n",
       "    </tr>\n",
       "    <tr>\n",
       "      <th>2</th>\n",
       "      <td>1</td>\n",
       "      <td>42</td>\n",
       "      <td>2</td>\n",
       "      <td>1</td>\n",
       "      <td>3</td>\n",
       "      <td>6</td>\n",
       "      <td>1</td>\n",
       "      <td>342.180990</td>\n",
       "      <td>1175.589721</td>\n",
       "      <td>27</td>\n",
       "      <td>0</td>\n",
       "      <td>1</td>\n",
       "      <td>0</td>\n",
       "      <td>0</td>\n",
       "      <td>0</td>\n",
       "    </tr>\n",
       "    <tr>\n",
       "      <th>3</th>\n",
       "      <td>1</td>\n",
       "      <td>31</td>\n",
       "      <td>2</td>\n",
       "      <td>0</td>\n",
       "      <td>0</td>\n",
       "      <td>0</td>\n",
       "      <td>0</td>\n",
       "      <td>453.757916</td>\n",
       "      <td>242.341754</td>\n",
       "      <td>3</td>\n",
       "      <td>0</td>\n",
       "      <td>0</td>\n",
       "      <td>0</td>\n",
       "      <td>0</td>\n",
       "      <td>1</td>\n",
       "    </tr>\n",
       "    <tr>\n",
       "      <th>4</th>\n",
       "      <td>1</td>\n",
       "      <td>62</td>\n",
       "      <td>2</td>\n",
       "      <td>0</td>\n",
       "      <td>0</td>\n",
       "      <td>0</td>\n",
       "      <td>0</td>\n",
       "      <td>384.577469</td>\n",
       "      <td>287.008370</td>\n",
       "      <td>3</td>\n",
       "      <td>0</td>\n",
       "      <td>0</td>\n",
       "      <td>0</td>\n",
       "      <td>0</td>\n",
       "      <td>1</td>\n",
       "    </tr>\n",
       "  </tbody>\n",
       "</table>\n",
       "</div>"
      ],
      "text/plain": [
       "   TARGET  age  city  prod_A  type_A  type_B  prod_B  turnover_A   turnover_B  \\\n",
       "0       1   66     2       0       0       0       0  333.561114   264.721010   \n",
       "1       1   45     2       1       3       3       1  394.735699   284.904978   \n",
       "2       1   42     2       1       3       6       1  342.180990  1175.589721   \n",
       "3       1   31     2       0       0       0       0  453.757916   242.341754   \n",
       "4       1   62     2       0       0       0       0  384.577469   287.008370   \n",
       "\n",
       "   lor_M  loyalty_none  loyalty_low  loyalty_medium  loyalty_high  \\\n",
       "0      3             0            0               0             0   \n",
       "1     39             0            1               0             0   \n",
       "2     27             0            1               0             0   \n",
       "3      3             0            0               0             0   \n",
       "4      3             0            0               0             0   \n",
       "\n",
       "   loyalty_unclassified  \n",
       "0                     1  \n",
       "1                     0  \n",
       "2                     0  \n",
       "3                     1  \n",
       "4                     1  "
      ]
     },
     "execution_count": 29,
     "metadata": {},
     "output_type": "execute_result"
    }
   ],
   "source": [
    "# we shall perform one hot encoding on loyalty\n",
    "df['loyalty'] = df['loyalty'].replace({0: 'loyalty_0', 1: 'loyalty_1', 2: 'loyalty_2', 3: 'loyalty_3', 99: 'loyalty_99'})\n",
    "\n",
    "# Apply one-hot encoding to create new columns\n",
    "df = pd.get_dummies(df, columns=['loyalty'], prefix='', prefix_sep='')\n",
    "\n",
    "df.head()\n",
    "# # Rename the loyalty columns\n",
    "df.rename(columns={\n",
    "    'loyalty_0': 'loyalty_none',\n",
    "    'loyalty_1': 'loyalty_low',\n",
    "    'loyalty_2': 'loyalty_medium',\n",
    "    'loyalty_3': 'loyalty_high',\n",
    "    'loyalty_99': 'loyalty_unclassified'\n",
    "}, inplace=True)\n",
    "\n",
    "df.head()\n"
   ]
  },
  {
   "cell_type": "code",
   "execution_count": 30,
   "metadata": {
    "colab": {
     "base_uri": "https://localhost:8080/",
     "height": 554
    },
    "id": "v38QeAbxkXrN",
    "outputId": "25cd7e4c-4092-40af-f265-a2b8d0a9ee9f"
   },
   "outputs": [
    {
     "data": {
      "text/plain": [
       "TARGET                    int64\n",
       "age                       int64\n",
       "city                      int64\n",
       "prod_A                    int64\n",
       "type_A                    int64\n",
       "type_B                    int64\n",
       "prod_B                    int64\n",
       "turnover_A              float64\n",
       "turnover_B              float64\n",
       "lor_M                     int64\n",
       "loyalty_none              uint8\n",
       "loyalty_low               uint8\n",
       "loyalty_medium            uint8\n",
       "loyalty_high              uint8\n",
       "loyalty_unclassified      uint8\n",
       "dtype: object"
      ]
     },
     "execution_count": 30,
     "metadata": {},
     "output_type": "execute_result"
    }
   ],
   "source": [
    "df.dtypes"
   ]
  },
  {
   "cell_type": "code",
   "execution_count": 31,
   "metadata": {
    "id": "tXhjeYgjnaH8"
   },
   "outputs": [],
   "source": [
    "df[['loyalty_none','loyalty_low','loyalty_medium','loyalty_high','loyalty_unclassified']] = df[['loyalty_none','loyalty_low','loyalty_medium','loyalty_high','loyalty_unclassified']].astype(int)"
   ]
  },
  {
   "cell_type": "code",
   "execution_count": 32,
   "metadata": {
    "colab": {
     "base_uri": "https://localhost:8080/",
     "height": 489
    },
    "id": "xdqpkUzbtKJr",
    "outputId": "55d06667-bd0c-4546-a11f-bb6a5ab8af4b"
   },
   "outputs": [
    {
     "data": {
      "text/plain": [
       " 2         10769\n",
       " 0            20\n",
       " 8            17\n",
       " 1            17\n",
       " 9            16\n",
       " 4            15\n",
       " 5            13\n",
       " 7            11\n",
       " 14           10\n",
       " 10           10\n",
       " 3            10\n",
       " 6             9\n",
       "-999999        8\n",
       " 13            8\n",
       " 11            8\n",
       " 12            7\n",
       " 16            4\n",
       " 15            3\n",
       " 114           3\n",
       " 209           2\n",
       " 28            2\n",
       " 22            2\n",
       " 137           2\n",
       " 33            1\n",
       " 17            1\n",
       " 177           1\n",
       " 161           1\n",
       " 73            1\n",
       " 49            1\n",
       " 104           1\n",
       "           ...  \n",
       " 122           1\n",
       " 178           1\n",
       " 129           1\n",
       " 191           1\n",
       " 51            1\n",
       " 107           1\n",
       " 111           1\n",
       " 47            1\n",
       " 31            1\n",
       " 23            1\n",
       " 174           1\n",
       " 142           1\n",
       " 126           1\n",
       " 110           1\n",
       " 94            1\n",
       " 30            1\n",
       " 229           1\n",
       " 197           1\n",
       " 141           1\n",
       " 125           1\n",
       " 53            1\n",
       " 148           1\n",
       " 116           1\n",
       " 84            1\n",
       " 235           1\n",
       " 219           1\n",
       " 127           1\n",
       " 131           1\n",
       " 115           1\n",
       " 187           1\n",
       "Name: city, Length: 65, dtype: int64"
      ]
     },
     "execution_count": 32,
     "metadata": {},
     "output_type": "execute_result"
    }
   ],
   "source": [
    "df.city.value_counts()"
   ]
  },
  {
   "cell_type": "code",
   "execution_count": 33,
   "metadata": {
    "colab": {
     "base_uri": "https://localhost:8080/"
    },
    "id": "HfSsDXOpqzzN",
    "outputId": "35570193-6ad0-4eb2-8815-fa7e8a056b4a"
   },
   "outputs": [
    {
     "data": {
      "text/plain": [
       "8"
      ]
     },
     "execution_count": 33,
     "metadata": {},
     "output_type": "execute_result"
    }
   ],
   "source": [
    "len(df[df.city == -999999])"
   ]
  },
  {
   "cell_type": "markdown",
   "metadata": {
    "id": "VPEli1hWrDVb"
   },
   "source": [
    "The value -999999 in your city column is likely an invalid placeholder or a missing data indicator. This is a common approach when datasets use extreme or unlikely values to represent missing or undefined entries (also called sentinel values)."
   ]
  },
  {
   "cell_type": "code",
   "execution_count": 34,
   "metadata": {
    "colab": {
     "base_uri": "https://localhost:8080/"
    },
    "id": "vg2AD0yGt3T_",
    "outputId": "7499b052-205d-4164-ef9e-650756aa4ef8"
   },
   "outputs": [
    {
     "data": {
      "text/plain": [
       "(11000, 15)"
      ]
     },
     "execution_count": 34,
     "metadata": {},
     "output_type": "execute_result"
    }
   ],
   "source": [
    "# Drop rows the with value -999999 as the number  of the rows are around 8 values which is pretty less\n",
    "df = df[df.city != -999999]\n",
    "df.shape"
   ]
  },
  {
   "cell_type": "code",
   "execution_count": 35,
   "metadata": {
    "id": "G_wodfTu_TvR"
   },
   "outputs": [],
   "source": [
    "# Replace other city codes with 'other_city'\n",
    "df['city'] = df['city'].apply(lambda x: 'city_2' if x == 2 else 'other_city')\n",
    "\n",
    "# Apply one-hot encoding to create new columns\n",
    "df = pd.get_dummies(df, columns=['city'], prefix='', prefix_sep='')\n"
   ]
  },
  {
   "cell_type": "code",
   "execution_count": 36,
   "metadata": {
    "id": "nYoezmwEBG5w"
   },
   "outputs": [],
   "source": [
    "df[['city_2','other_city']] = df[['city_2','other_city']].astype(int)"
   ]
  },
  {
   "cell_type": "code",
   "execution_count": 37,
   "metadata": {
    "colab": {
     "base_uri": "https://localhost:8080/",
     "height": 206
    },
    "id": "LZq9YQ0uBVLk",
    "outputId": "638bfb2f-8075-4b86-bc65-88490ec7807f"
   },
   "outputs": [
    {
     "data": {
      "text/html": [
       "<div>\n",
       "<style scoped>\n",
       "    .dataframe tbody tr th:only-of-type {\n",
       "        vertical-align: middle;\n",
       "    }\n",
       "\n",
       "    .dataframe tbody tr th {\n",
       "        vertical-align: top;\n",
       "    }\n",
       "\n",
       "    .dataframe thead th {\n",
       "        text-align: right;\n",
       "    }\n",
       "</style>\n",
       "<table border=\"1\" class=\"dataframe\">\n",
       "  <thead>\n",
       "    <tr style=\"text-align: right;\">\n",
       "      <th></th>\n",
       "      <th>TARGET</th>\n",
       "      <th>age</th>\n",
       "      <th>prod_A</th>\n",
       "      <th>type_A</th>\n",
       "      <th>type_B</th>\n",
       "      <th>prod_B</th>\n",
       "      <th>turnover_A</th>\n",
       "      <th>turnover_B</th>\n",
       "      <th>lor_M</th>\n",
       "      <th>loyalty_none</th>\n",
       "      <th>loyalty_low</th>\n",
       "      <th>loyalty_medium</th>\n",
       "      <th>loyalty_high</th>\n",
       "      <th>loyalty_unclassified</th>\n",
       "      <th>city_2</th>\n",
       "      <th>other_city</th>\n",
       "    </tr>\n",
       "  </thead>\n",
       "  <tbody>\n",
       "    <tr>\n",
       "      <th>0</th>\n",
       "      <td>1</td>\n",
       "      <td>66</td>\n",
       "      <td>0</td>\n",
       "      <td>0</td>\n",
       "      <td>0</td>\n",
       "      <td>0</td>\n",
       "      <td>333.561114</td>\n",
       "      <td>264.721010</td>\n",
       "      <td>3</td>\n",
       "      <td>0</td>\n",
       "      <td>0</td>\n",
       "      <td>0</td>\n",
       "      <td>0</td>\n",
       "      <td>1</td>\n",
       "      <td>1</td>\n",
       "      <td>0</td>\n",
       "    </tr>\n",
       "    <tr>\n",
       "      <th>1</th>\n",
       "      <td>1</td>\n",
       "      <td>45</td>\n",
       "      <td>1</td>\n",
       "      <td>3</td>\n",
       "      <td>3</td>\n",
       "      <td>1</td>\n",
       "      <td>394.735699</td>\n",
       "      <td>284.904978</td>\n",
       "      <td>39</td>\n",
       "      <td>0</td>\n",
       "      <td>1</td>\n",
       "      <td>0</td>\n",
       "      <td>0</td>\n",
       "      <td>0</td>\n",
       "      <td>1</td>\n",
       "      <td>0</td>\n",
       "    </tr>\n",
       "    <tr>\n",
       "      <th>2</th>\n",
       "      <td>1</td>\n",
       "      <td>42</td>\n",
       "      <td>1</td>\n",
       "      <td>3</td>\n",
       "      <td>6</td>\n",
       "      <td>1</td>\n",
       "      <td>342.180990</td>\n",
       "      <td>1175.589721</td>\n",
       "      <td>27</td>\n",
       "      <td>0</td>\n",
       "      <td>1</td>\n",
       "      <td>0</td>\n",
       "      <td>0</td>\n",
       "      <td>0</td>\n",
       "      <td>1</td>\n",
       "      <td>0</td>\n",
       "    </tr>\n",
       "    <tr>\n",
       "      <th>3</th>\n",
       "      <td>1</td>\n",
       "      <td>31</td>\n",
       "      <td>0</td>\n",
       "      <td>0</td>\n",
       "      <td>0</td>\n",
       "      <td>0</td>\n",
       "      <td>453.757916</td>\n",
       "      <td>242.341754</td>\n",
       "      <td>3</td>\n",
       "      <td>0</td>\n",
       "      <td>0</td>\n",
       "      <td>0</td>\n",
       "      <td>0</td>\n",
       "      <td>1</td>\n",
       "      <td>1</td>\n",
       "      <td>0</td>\n",
       "    </tr>\n",
       "    <tr>\n",
       "      <th>4</th>\n",
       "      <td>1</td>\n",
       "      <td>62</td>\n",
       "      <td>0</td>\n",
       "      <td>0</td>\n",
       "      <td>0</td>\n",
       "      <td>0</td>\n",
       "      <td>384.577469</td>\n",
       "      <td>287.008370</td>\n",
       "      <td>3</td>\n",
       "      <td>0</td>\n",
       "      <td>0</td>\n",
       "      <td>0</td>\n",
       "      <td>0</td>\n",
       "      <td>1</td>\n",
       "      <td>1</td>\n",
       "      <td>0</td>\n",
       "    </tr>\n",
       "  </tbody>\n",
       "</table>\n",
       "</div>"
      ],
      "text/plain": [
       "   TARGET  age  prod_A  type_A  type_B  prod_B  turnover_A   turnover_B  \\\n",
       "0       1   66       0       0       0       0  333.561114   264.721010   \n",
       "1       1   45       1       3       3       1  394.735699   284.904978   \n",
       "2       1   42       1       3       6       1  342.180990  1175.589721   \n",
       "3       1   31       0       0       0       0  453.757916   242.341754   \n",
       "4       1   62       0       0       0       0  384.577469   287.008370   \n",
       "\n",
       "   lor_M  loyalty_none  loyalty_low  loyalty_medium  loyalty_high  \\\n",
       "0      3             0            0               0             0   \n",
       "1     39             0            1               0             0   \n",
       "2     27             0            1               0             0   \n",
       "3      3             0            0               0             0   \n",
       "4      3             0            0               0             0   \n",
       "\n",
       "   loyalty_unclassified  city_2  other_city  \n",
       "0                     1       1           0  \n",
       "1                     0       1           0  \n",
       "2                     0       1           0  \n",
       "3                     1       1           0  \n",
       "4                     1       1           0  "
      ]
     },
     "execution_count": 37,
     "metadata": {},
     "output_type": "execute_result"
    }
   ],
   "source": [
    "df.head()"
   ]
  },
  {
   "cell_type": "code",
   "execution_count": 38,
   "metadata": {
    "colab": {
     "base_uri": "https://localhost:8080/",
     "height": 430
    },
    "id": "kxo0Z4JVybgY",
    "outputId": "e1f9b173-cced-4317-afa4-e7935320fa1e"
   },
   "outputs": [
    {
     "data": {
      "image/png": "[encoded data removed]",
      "text/plain": [
       "<Figure size 432x288 with 1 Axes>"
      ]
     },
     "metadata": {
      "needs_background": "light"
     },
     "output_type": "display_data"
    }
   ],
   "source": [
    "plt.boxplot(df['turnover_A'])\n",
    "plt.show()"
   ]
  },
  {
   "cell_type": "markdown",
   "metadata": {
    "id": "0UUZjsJpv6Lh"
   },
   "source": [
    "**Significant Right Skew:** The distribution of turnover_A is skewed to the right, indicating that while most data points are concentrated around the median (approximately 1000), a small number of observations have exceptionally high values. This suggests that there are key factors or unique circumstances driving high turnover, which warrants further investigation.\n",
    "\n",
    "**Presence of High Outliers:** The presence of several outliers on the high end of the distribution indicates that a few clients or transactions generate significantly higher turnover. Understanding the characteristics of these outliers could reveal valuable insights for targeting high-value customers or optimizing strategies for increased turnover."
   ]
  },
  {
   "cell_type": "code",
   "execution_count": 39,
   "metadata": {
    "colab": {
     "base_uri": "https://localhost:8080/",
     "height": 804
    },
    "id": "4denBZH2whE5",
    "outputId": "e478839c-8ff2-4e49-a5eb-01c044249744"
   },
   "outputs": [
    {
     "data": {
      "image/png": "[encoded data removed]",
      "text/plain": [
       "<Figure size 720x576 with 2 Axes>"
      ]
     },
     "metadata": {
      "needs_background": "light"
     },
     "output_type": "display_data"
    }
   ],
   "source": [
    "# Calculate the correlation matrix\n",
    "corr_matrix = df.corr()\n",
    "\n",
    "# Set up the matplotlib figure\n",
    "plt.figure(figsize=(10,8))\n",
    "\n",
    "# Plot the heatmap\n",
    "sns.heatmap(corr_matrix, annot=True, cmap='coolwarm', fmt='.2f', linewidths=0.5)\n",
    "\n",
    "# Show the plot\n",
    "plt.show()"
   ]
  },
  {
   "cell_type": "markdown",
   "metadata": {
    "id": "OxHDHNA16g1U"
   },
   "source": [
    "### Correlation Heatmap Summary\n",
    "\n",
    "- **Target Correlations**:\n",
    "  - `age` has the highest positive correlation with the target (`0.23`).\n",
    "  - `prod_B` and `type_B` show negative correlations.\n",
    "\n",
    "- **Feature Correlations**:\n",
    "  - Strong correlation between `prod_A` and `type_A` (`0.80`), and between `prod_B` and `type_B` (`0.76`).\n",
    "  - `loyalty_unclassified` negatively correlates with `prod_A` and `type_A` (`-0.59`).\n",
    "\n",
    "- **Insights**:\n",
    "  - Features like `prod_A` and `type_A` may indicate multicollinearity.\n",
    "  - Weak target correlations suggest exploring non-linear models.\n"
   ]
  },
  {
   "cell_type": "code",
   "execution_count": 40,
   "metadata": {
    "colab": {
     "base_uri": "https://localhost:8080/",
     "height": 1000
    },
    "id": "kQ9TmKuWkye9",
    "outputId": "bead6839-e1a0-4cb8-cb5e-b59489de1097"
   },
   "outputs": [
    {
     "name": "stdout",
     "output_type": "stream",
     "text": [
      "Boxplot for age\n"
     ]
    },
    {
     "data": {
      "image/png": "[encoded data removed]",
      "text/plain": [
       "<Figure size 432x288 with 1 Axes>"
      ]
     },
     "metadata": {
      "needs_background": "light"
     },
     "output_type": "display_data"
    },
    {
     "name": "stdout",
     "output_type": "stream",
     "text": [
      "\n",
      "\n",
      "Boxplot for turnover_A\n"
     ]
    },
    {
     "data": {
      "image/png": "[encoded data removed]",
      "text/plain": [
       "<Figure size 432x288 with 1 Axes>"
      ]
     },
     "metadata": {
      "needs_background": "light"
     },
     "output_type": "display_data"
    },
    {
     "name": "stdout",
     "output_type": "stream",
     "text": [
      "\n",
      "\n",
      "Boxplot for turnover_B\n"
     ]
    },
    {
     "data": {
      "image/png": "[encoded data removed]",
      "text/plain": [
       "<Figure size 432x288 with 1 Axes>"
      ]
     },
     "metadata": {
      "needs_background": "light"
     },
     "output_type": "display_data"
    },
    {
     "name": "stdout",
     "output_type": "stream",
     "text": [
      "\n",
      "\n",
      "Boxplot for lor_M\n"
     ]
    },
    {
     "data": {
      "image/png": "[encoded data removed]",
      "text/plain": [
       "<Figure size 432x288 with 1 Axes>"
      ]
     },
     "metadata": {
      "needs_background": "light"
     },
     "output_type": "display_data"
    },
    {
     "name": "stdout",
     "output_type": "stream",
     "text": [
      "\n",
      "\n"
     ]
    }
   ],
   "source": [
    "for i in ['age', 'turnover_A', 'turnover_B', 'lor_M']:\n",
    "  print(f\"Boxplot for {i}\")\n",
    "  sns.boxplot(df[i])\n",
    "  plt.show()\n",
    "  print(\"\\n\")"
   ]
  },
  {
   "cell_type": "markdown",
   "metadata": {
    "id": "hJK4bWPG7nyO"
   },
   "source": [
    "####Graph 1: Age Distribution\n",
    "The first boxplot represents the distribution of age, with the median around 40 and an interquartile range (IQR) between 25 and 60. There are significant outliers above 80.\n",
    "\n",
    "####Graph 2: Turnover_A Distribution\n",
    "The second boxplot displays a highly skewed distribution of \"turnover_A\", with most data points concentrated near the lower end, while a considerable number of outliers exceed 1000, stretching up to 5000.\n",
    "\n",
    "####Graph 3: Turnover_B Distribution\n",
    "The boxplot shows the distribution of \"turnover_B\" with a significant concentration of data points near the lower end. There are numerous extreme outliers, with values reaching above 12000, indicating a highly skewed distribution.\n",
    "\n",
    "####Graph 4: LOR_M Distribution\n",
    "This boxplot shows a right-skewed distribution of `lor_M` with several outliers above 30.\n",
    "\n",
    "\n"
   ]
  },
  {
   "cell_type": "code",
   "execution_count": 41,
   "metadata": {
    "colab": {
     "base_uri": "https://localhost:8080/",
     "height": 1000
    },
    "id": "7z8_MnZ6mCcA",
    "outputId": "f031645a-8b9e-4f18-ad13-c76fd3ac5810"
   },
   "outputs": [
    {
     "name": "stdout",
     "output_type": "stream",
     "text": [
      "Histogram for age\n"
     ]
    },
    {
     "ename": "AttributeError",
     "evalue": "module 'seaborn' has no attribute 'histplot'",
     "output_type": "error",
     "traceback": [
      "\u001b[1;31m---------------------------------------------------------------------------\u001b[0m",
      "\u001b[1;31mAttributeError\u001b[0m                            Traceback (most recent call last)",
      "\u001b[1;32m<ipython-input-41-81903f897bad>\u001b[0m in \u001b[0;36m<module>\u001b[1;34m\u001b[0m\n\u001b[0;32m      1\u001b[0m \u001b[1;32mfor\u001b[0m \u001b[0mi\u001b[0m \u001b[1;32min\u001b[0m \u001b[1;33m[\u001b[0m\u001b[1;34m'age'\u001b[0m\u001b[1;33m,\u001b[0m \u001b[1;34m'turnover_A'\u001b[0m\u001b[1;33m,\u001b[0m \u001b[1;34m'turnover_B'\u001b[0m\u001b[1;33m,\u001b[0m \u001b[1;34m'lor_M'\u001b[0m\u001b[1;33m]\u001b[0m\u001b[1;33m:\u001b[0m\u001b[1;33m\u001b[0m\u001b[1;33m\u001b[0m\u001b[0m\n\u001b[0;32m      2\u001b[0m   \u001b[0mprint\u001b[0m\u001b[1;33m(\u001b[0m\u001b[1;34mf\"Histogram for {i}\"\u001b[0m\u001b[1;33m)\u001b[0m\u001b[1;33m\u001b[0m\u001b[1;33m\u001b[0m\u001b[0m\n\u001b[1;32m----> 3\u001b[1;33m   \u001b[0msns\u001b[0m\u001b[1;33m.\u001b[0m\u001b[0mhistplot\u001b[0m\u001b[1;33m(\u001b[0m\u001b[0mdf\u001b[0m\u001b[1;33m[\u001b[0m\u001b[0mi\u001b[0m\u001b[1;33m]\u001b[0m\u001b[1;33m)\u001b[0m\u001b[1;33m\u001b[0m\u001b[1;33m\u001b[0m\u001b[0m\n\u001b[0m\u001b[0;32m      4\u001b[0m   \u001b[0mplt\u001b[0m\u001b[1;33m.\u001b[0m\u001b[0mshow\u001b[0m\u001b[1;33m(\u001b[0m\u001b[1;33m)\u001b[0m\u001b[1;33m\u001b[0m\u001b[1;33m\u001b[0m\u001b[0m\n\u001b[0;32m      5\u001b[0m   \u001b[0mprint\u001b[0m\u001b[1;33m(\u001b[0m\u001b[1;34m\"\\n\"\u001b[0m\u001b[1;33m)\u001b[0m\u001b[1;33m\u001b[0m\u001b[1;33m\u001b[0m\u001b[0m\n",
      "\u001b[1;31mAttributeError\u001b[0m: module 'seaborn' has no attribute 'histplot'"
     ]
    }
   ],
   "source": [
    "for i in ['age', 'turnover_A', 'turnover_B', 'lor_M']:\n",
    "  print(f\"Histogram for {i}\")\n",
    "  sns.histplot(df[i])\n",
    "  plt.show()\n",
    "  print(\"\\n\")"
   ]
  },
  {
   "cell_type": "markdown",
   "metadata": {
    "id": "8TMj6f_597UI"
   },
   "source": [
    "####GRAPH1 :\n",
    "This histogram of `age` shows a right-skewed distribution, with a large concentration of individuals in their early 20s and a gradual decline in frequency as age increases.\n",
    "\n",
    "####GRAPH2 :\n",
    "The histogram displays the frequency distribution of the `turnover_A` variable. The data is heavily skewed to the right, with the majority of values concentrated below 1000. A few outliers extend to values greater than 1000, reaching as far as 5000, though their frequency is significantly lower.\n",
    "\n",
    "\n",
    "\n",
    "####GRAPH3 :\n",
    "The histogram shows a highly right-skewed distribution for `turnover_B`, with the majority of data points concentrated below 2000, while a few outliers extend up to 12000.\n",
    "\n",
    "\n",
    "####GRAPH4 :\n",
    "The graph shows a left-skewed distribution of `lor_M`, with most values concentrated between 0 and 30, peaking around 10 and 20."
   ]
  },
  {
   "cell_type": "code",
   "execution_count": null,
   "metadata": {
    "id": "bY6f15WXoeag"
   },
   "outputs": [],
   "source": [
    "# Expect prod_A and prod_B Applying logscaling on every feature\n",
    "logsc_col = []\n",
    "for i in ['age', 'turnover_A', 'turnover_B', 'lor_M']:\n",
    "  df[f\"logscale_{i}\"] = np.log1p(df[i])\n",
    "  logsc_col.append(f\"logscale_{i}\")"
   ]
  },
  {
   "cell_type": "code",
   "execution_count": 42,
   "metadata": {
    "colab": {
     "base_uri": "https://localhost:8080/",
     "height": 1000
    },
    "id": "yNz7BYc2orQO",
    "outputId": "68922011-2066-4529-c802-0c1ed45e48ed"
   },
   "outputs": [
    {
     "ename": "NameError",
     "evalue": "name 'logsc_col' is not defined",
     "output_type": "error",
     "traceback": [
      "\u001b[1;31m---------------------------------------------------------------------------\u001b[0m",
      "\u001b[1;31mNameError\u001b[0m                                 Traceback (most recent call last)",
      "\u001b[1;32m<ipython-input-42-374f1f27aedd>\u001b[0m in \u001b[0;36m<module>\u001b[1;34m\u001b[0m\n\u001b[1;32m----> 1\u001b[1;33m \u001b[1;32mfor\u001b[0m \u001b[0mi\u001b[0m \u001b[1;32min\u001b[0m \u001b[0mlogsc_col\u001b[0m\u001b[1;33m:\u001b[0m\u001b[1;33m\u001b[0m\u001b[1;33m\u001b[0m\u001b[0m\n\u001b[0m\u001b[0;32m      2\u001b[0m   \u001b[0mprint\u001b[0m\u001b[1;33m(\u001b[0m\u001b[1;34mf\"Boxplot for {i}\"\u001b[0m\u001b[1;33m)\u001b[0m\u001b[1;33m\u001b[0m\u001b[1;33m\u001b[0m\u001b[0m\n\u001b[0;32m      3\u001b[0m   \u001b[0msns\u001b[0m\u001b[1;33m.\u001b[0m\u001b[0mboxplot\u001b[0m\u001b[1;33m(\u001b[0m\u001b[0mdf\u001b[0m\u001b[1;33m[\u001b[0m\u001b[0mi\u001b[0m\u001b[1;33m]\u001b[0m\u001b[1;33m)\u001b[0m\u001b[1;33m\u001b[0m\u001b[1;33m\u001b[0m\u001b[0m\n\u001b[0;32m      4\u001b[0m   \u001b[0mplt\u001b[0m\u001b[1;33m.\u001b[0m\u001b[0mshow\u001b[0m\u001b[1;33m(\u001b[0m\u001b[1;33m)\u001b[0m\u001b[1;33m\u001b[0m\u001b[1;33m\u001b[0m\u001b[0m\n\u001b[0;32m      5\u001b[0m   \u001b[0mprint\u001b[0m\u001b[1;33m(\u001b[0m\u001b[1;34m\"\\n\"\u001b[0m\u001b[1;33m)\u001b[0m\u001b[1;33m\u001b[0m\u001b[1;33m\u001b[0m\u001b[0m\n",
      "\u001b[1;31mNameError\u001b[0m: name 'logsc_col' is not defined"
     ]
    }
   ],
   "source": [
    "for i in logsc_col:\n",
    "  print(f\"Boxplot for {i}\")\n",
    "  sns.boxplot(df[i])\n",
    "  plt.show()\n",
    "  print(\"\\n\")"
   ]
  },
  {
   "cell_type": "markdown",
   "metadata": {
    "id": "pjMlwW5x9S2E"
   },
   "source": [
    "This boxplot after applying a log transformation (`logscale_age`, `logscale_turnover_A`, `logscale_turnover_B`, `logscale_lor_M`) shows a more symmetrical distribution with fewer extreme outliers, improving interpretability and reducing the impact of skewness. Log scaling helps by compressing the range of values, making data more homogenous and highlighting central tendencies without being overly influenced by extreme values.\n"
   ]
  },
  {
   "cell_type": "code",
   "execution_count": 43,
   "metadata": {
    "id": "oW1Rdsuuornc"
   },
   "outputs": [],
   "source": [
    "# drop all the non log transformed columns :\n",
    "df.drop(['age', 'turnover_A', 'turnover_B', 'lor_M'],axis=1,inplace=True)"
   ]
  },
  {
   "cell_type": "code",
   "execution_count": 44,
   "metadata": {
    "colab": {
     "base_uri": "https://localhost:8080/"
    },
    "id": "mNHmpau8or0M",
    "outputId": "3ad0f708-381d-4686-dd63-aa988baeae0c"
   },
   "outputs": [
    {
     "data": {
      "text/plain": [
       "Index(['TARGET', 'prod_A', 'type_A', 'type_B', 'prod_B', 'loyalty_none',\n",
       "       'loyalty_low', 'loyalty_medium', 'loyalty_high', 'loyalty_unclassified',\n",
       "       'city_2', 'other_city'],\n",
       "      dtype='object')"
      ]
     },
     "execution_count": 44,
     "metadata": {},
     "output_type": "execute_result"
    }
   ],
   "source": [
    "df.columns"
   ]
  },
  {
   "cell_type": "markdown",
   "metadata": {
    "id": "2D5nTspDBmu-"
   },
   "source": [
    "### Principal Component Analysis (PCA)"
   ]
  },
  {
   "cell_type": "code",
   "execution_count": 45,
   "metadata": {
    "id": "902Qe8kEDbBH"
   },
   "outputs": [],
   "source": [
    "from sklearn.metrics import accuracy_score, confusion_matrix, classification_report, roc_curve, roc_auc_score\n",
    "def LR_metrics(y_test, y_pred):\n",
    "  print(f\"Accuracy Score: {accuracy_score(y_test, y_pred)}\")\n",
    "  print(f\"Confusion Matrix: \\n{confusion_matrix(y_test, y_pred)}\")\n",
    "  print(f\"Classification Report: \\n{classification_report(y_test, y_pred)}\")\n",
    "  print(f\"ROC AUC Score: {roc_auc_score(y_test, y_pred)}\")\n",
    "  fpr, tpr, thresholds = roc_curve(y_test, y_pred)\n",
    "  plt.plot(fpr, tpr, color='orange', label='ROC')\n",
    "  plt.plot([0, 1], [0, 1], color='darkblue', linestyle='--')\n",
    "  plt.xlabel('False Positive Rate')\n",
    "  plt.ylabel('True Positive Rate')\n",
    "  plt.title('Receiver Operating Characteristic (ROC) Curve')\n",
    "  plt.legend()\n",
    "  plt.show()"
   ]
  },
  {
   "cell_type": "code",
   "execution_count": 46,
   "metadata": {
    "colab": {
     "base_uri": "https://localhost:8080/",
     "height": 605
    },
    "id": "wrfdWWIerbrH",
    "outputId": "5675fa6f-2138-400e-b81e-5a1b399fceaf"
   },
   "outputs": [
    {
     "ename": "KeyError",
     "evalue": "\"['logscale_turnover_B', 'logscale_age', 'logscale_turnover_A', 'logscale_lor_M'] not in index\"",
     "output_type": "error",
     "traceback": [
      "\u001b[1;31m---------------------------------------------------------------------------\u001b[0m",
      "\u001b[1;31mKeyError\u001b[0m                                  Traceback (most recent call last)",
      "\u001b[1;32m<ipython-input-46-e2240dc9c4ba>\u001b[0m in \u001b[0;36m<module>\u001b[1;34m\u001b[0m\n\u001b[0;32m      5\u001b[0m         \u001b[1;34m'loyalty_low'\u001b[0m\u001b[1;33m,\u001b[0m \u001b[1;34m'loyalty_medium'\u001b[0m\u001b[1;33m,\u001b[0m \u001b[1;34m'loyalty_high'\u001b[0m\u001b[1;33m,\u001b[0m \u001b[1;34m'loyalty_unclassified'\u001b[0m\u001b[1;33m,\u001b[0m\u001b[1;33m\u001b[0m\u001b[1;33m\u001b[0m\u001b[0m\n\u001b[0;32m      6\u001b[0m         \u001b[1;34m'city_2'\u001b[0m\u001b[1;33m,\u001b[0m \u001b[1;34m'other_city'\u001b[0m\u001b[1;33m,\u001b[0m \u001b[1;34m'logscale_age'\u001b[0m\u001b[1;33m,\u001b[0m \u001b[1;34m'logscale_turnover_A'\u001b[0m\u001b[1;33m,\u001b[0m\u001b[1;33m\u001b[0m\u001b[1;33m\u001b[0m\u001b[0m\n\u001b[1;32m----> 7\u001b[1;33m         'logscale_turnover_B', 'logscale_lor_M']]\n\u001b[0m\u001b[0;32m      8\u001b[0m \u001b[0my\u001b[0m \u001b[1;33m=\u001b[0m \u001b[0mdf\u001b[0m\u001b[1;33m[\u001b[0m\u001b[1;34m'TARGET'\u001b[0m\u001b[1;33m]\u001b[0m\u001b[1;33m\u001b[0m\u001b[1;33m\u001b[0m\u001b[0m\n\u001b[0;32m      9\u001b[0m \u001b[1;33m\u001b[0m\u001b[0m\n",
      "\u001b[1;32mG:\\Anaconda\\lib\\site-packages\\pandas\\core\\frame.py\u001b[0m in \u001b[0;36m__getitem__\u001b[1;34m(self, key)\u001b[0m\n\u001b[0;32m   2932\u001b[0m                 \u001b[0mkey\u001b[0m \u001b[1;33m=\u001b[0m \u001b[0mlist\u001b[0m\u001b[1;33m(\u001b[0m\u001b[0mkey\u001b[0m\u001b[1;33m)\u001b[0m\u001b[1;33m\u001b[0m\u001b[1;33m\u001b[0m\u001b[0m\n\u001b[0;32m   2933\u001b[0m             indexer = self.loc._convert_to_indexer(key, axis=1,\n\u001b[1;32m-> 2934\u001b[1;33m                                                    raise_missing=True)\n\u001b[0m\u001b[0;32m   2935\u001b[0m \u001b[1;33m\u001b[0m\u001b[0m\n\u001b[0;32m   2936\u001b[0m         \u001b[1;31m# take() does not accept boolean indexers\u001b[0m\u001b[1;33m\u001b[0m\u001b[1;33m\u001b[0m\u001b[1;33m\u001b[0m\u001b[0m\n",
      "\u001b[1;32mG:\\Anaconda\\lib\\site-packages\\pandas\\core\\indexing.py\u001b[0m in \u001b[0;36m_convert_to_indexer\u001b[1;34m(self, obj, axis, is_setter, raise_missing)\u001b[0m\n\u001b[0;32m   1352\u001b[0m                 kwargs = {'raise_missing': True if is_setter else\n\u001b[0;32m   1353\u001b[0m                           raise_missing}\n\u001b[1;32m-> 1354\u001b[1;33m                 \u001b[1;32mreturn\u001b[0m \u001b[0mself\u001b[0m\u001b[1;33m.\u001b[0m\u001b[0m_get_listlike_indexer\u001b[0m\u001b[1;33m(\u001b[0m\u001b[0mobj\u001b[0m\u001b[1;33m,\u001b[0m \u001b[0maxis\u001b[0m\u001b[1;33m,\u001b[0m \u001b[1;33m**\u001b[0m\u001b[0mkwargs\u001b[0m\u001b[1;33m)\u001b[0m\u001b[1;33m[\u001b[0m\u001b[1;36m1\u001b[0m\u001b[1;33m]\u001b[0m\u001b[1;33m\u001b[0m\u001b[1;33m\u001b[0m\u001b[0m\n\u001b[0m\u001b[0;32m   1355\u001b[0m         \u001b[1;32melse\u001b[0m\u001b[1;33m:\u001b[0m\u001b[1;33m\u001b[0m\u001b[1;33m\u001b[0m\u001b[0m\n\u001b[0;32m   1356\u001b[0m             \u001b[1;32mtry\u001b[0m\u001b[1;33m:\u001b[0m\u001b[1;33m\u001b[0m\u001b[1;33m\u001b[0m\u001b[0m\n",
      "\u001b[1;32mG:\\Anaconda\\lib\\site-packages\\pandas\\core\\indexing.py\u001b[0m in \u001b[0;36m_get_listlike_indexer\u001b[1;34m(self, key, axis, raise_missing)\u001b[0m\n\u001b[0;32m   1159\u001b[0m         self._validate_read_indexer(keyarr, indexer,\n\u001b[0;32m   1160\u001b[0m                                     \u001b[0mo\u001b[0m\u001b[1;33m.\u001b[0m\u001b[0m_get_axis_number\u001b[0m\u001b[1;33m(\u001b[0m\u001b[0maxis\u001b[0m\u001b[1;33m)\u001b[0m\u001b[1;33m,\u001b[0m\u001b[1;33m\u001b[0m\u001b[1;33m\u001b[0m\u001b[0m\n\u001b[1;32m-> 1161\u001b[1;33m                                     raise_missing=raise_missing)\n\u001b[0m\u001b[0;32m   1162\u001b[0m         \u001b[1;32mreturn\u001b[0m \u001b[0mkeyarr\u001b[0m\u001b[1;33m,\u001b[0m \u001b[0mindexer\u001b[0m\u001b[1;33m\u001b[0m\u001b[1;33m\u001b[0m\u001b[0m\n\u001b[0;32m   1163\u001b[0m \u001b[1;33m\u001b[0m\u001b[0m\n",
      "\u001b[1;32mG:\\Anaconda\\lib\\site-packages\\pandas\\core\\indexing.py\u001b[0m in \u001b[0;36m_validate_read_indexer\u001b[1;34m(self, key, indexer, axis, raise_missing)\u001b[0m\n\u001b[0;32m   1250\u001b[0m             \u001b[1;32mif\u001b[0m \u001b[1;32mnot\u001b[0m\u001b[1;33m(\u001b[0m\u001b[0mself\u001b[0m\u001b[1;33m.\u001b[0m\u001b[0mname\u001b[0m \u001b[1;33m==\u001b[0m \u001b[1;34m'loc'\u001b[0m \u001b[1;32mand\u001b[0m \u001b[1;32mnot\u001b[0m \u001b[0mraise_missing\u001b[0m\u001b[1;33m)\u001b[0m\u001b[1;33m:\u001b[0m\u001b[1;33m\u001b[0m\u001b[1;33m\u001b[0m\u001b[0m\n\u001b[0;32m   1251\u001b[0m                 \u001b[0mnot_found\u001b[0m \u001b[1;33m=\u001b[0m \u001b[0mlist\u001b[0m\u001b[1;33m(\u001b[0m\u001b[0mset\u001b[0m\u001b[1;33m(\u001b[0m\u001b[0mkey\u001b[0m\u001b[1;33m)\u001b[0m \u001b[1;33m-\u001b[0m \u001b[0mset\u001b[0m\u001b[1;33m(\u001b[0m\u001b[0max\u001b[0m\u001b[1;33m)\u001b[0m\u001b[1;33m)\u001b[0m\u001b[1;33m\u001b[0m\u001b[1;33m\u001b[0m\u001b[0m\n\u001b[1;32m-> 1252\u001b[1;33m                 \u001b[1;32mraise\u001b[0m \u001b[0mKeyError\u001b[0m\u001b[1;33m(\u001b[0m\u001b[1;34m\"{} not in index\"\u001b[0m\u001b[1;33m.\u001b[0m\u001b[0mformat\u001b[0m\u001b[1;33m(\u001b[0m\u001b[0mnot_found\u001b[0m\u001b[1;33m)\u001b[0m\u001b[1;33m)\u001b[0m\u001b[1;33m\u001b[0m\u001b[1;33m\u001b[0m\u001b[0m\n\u001b[0m\u001b[0;32m   1253\u001b[0m \u001b[1;33m\u001b[0m\u001b[0m\n\u001b[0;32m   1254\u001b[0m             \u001b[1;31m# we skip the warning on Categorical/Interval\u001b[0m\u001b[1;33m\u001b[0m\u001b[1;33m\u001b[0m\u001b[1;33m\u001b[0m\u001b[0m\n",
      "\u001b[1;31mKeyError\u001b[0m: \"['logscale_turnover_B', 'logscale_age', 'logscale_turnover_A', 'logscale_lor_M'] not in index\""
     ]
    }
   ],
   "source": [
    "from sklearn.ensemble import RandomForestClassifier\n",
    "\n",
    "# Define X (features) and y (target)\n",
    "X = df[['prod_A', 'type_A', 'type_B', 'prod_B', 'loyalty_none',\n",
    "        'loyalty_low', 'loyalty_medium', 'loyalty_high', 'loyalty_unclassified',\n",
    "        'city_2', 'other_city', 'logscale_age', 'logscale_turnover_A',\n",
    "        'logscale_turnover_B', 'logscale_lor_M']]\n",
    "y = df['TARGET']\n",
    "\n",
    "# Create and train the model\n",
    "model = RandomForestClassifier()\n",
    "model.fit(X, y)\n",
    "\n",
    "# Get feature importances\n",
    "importances = model.feature_importances_\n",
    "\n",
    "# Plotting feature importance\n",
    "import matplotlib.pyplot as plt\n",
    "plt.barh(X.columns, importances)\n",
    "plt.xlabel('Feature Importance')\n",
    "plt.show()\n",
    "\n",
    "# Create a DataFrame for better visualization\n",
    "feature_importances = pd.DataFrame({\n",
    "    'Feature': X.columns,\n",
    "    'Importance': importances\n",
    "})\n",
    "\n",
    "# Sort by importance\n",
    "feature_importances = feature_importances.sort_values(by='Importance', ascending=False)\n",
    "\n",
    "# Display the top 8 most important features\n",
    "print(feature_importances.head(8))"
   ]
  },
  {
   "cell_type": "code",
   "execution_count": null,
   "metadata": {
    "colab": {
     "base_uri": "https://localhost:8080/"
    },
    "id": "3ZV4_aZHuWi7",
    "outputId": "99680cb7-0948-4601-83b3-ffd00f4e9b5f"
   },
   "outputs": [],
   "source": [
    "from sklearn.feature_selection import RFE\n",
    "from sklearn.ensemble import RandomForestClassifier\n",
    "\n",
    "# Define X (features) and y (target)\n",
    "X = df[['prod_A', 'type_A', 'type_B', 'prod_B', 'loyalty_none',\n",
    "        'loyalty_low', 'loyalty_medium', 'loyalty_high', 'loyalty_unclassified',\n",
    "        'city_2', 'other_city', 'logscale_age', 'logscale_turnover_A',\n",
    "        'logscale_turnover_B', 'logscale_lor_M']]\n",
    "y = df['TARGET']\n",
    "\n",
    "# Initialize the model and RFE\n",
    "model = RandomForestClassifier(random_state=42)\n",
    "rfe = RFE(model, n_features_to_select=8)\n",
    "\n",
    "# Fit RFE\n",
    "rfe.fit(X, y)\n",
    "\n",
    "# Get the mask of selected features (True means selected)\n",
    "selected_features = rfe.support_\n",
    "\n",
    "# Create a DataFrame for better visualization\n",
    "rfe_features = pd.DataFrame({\n",
    "    'Feature': X.columns,\n",
    "    'Selected': selected_features\n",
    "})\n",
    "\n",
    "# Filter out the selected features\n",
    "top_features_rfe = rfe_features[rfe_features['Selected']]['Feature'].values\n",
    "X_top_rfe = X[top_features_rfe]\n",
    "\n",
    "# Print the selected top 8 features\n",
    "print(top_features_rfe)\n"
   ]
  },
  {
   "cell_type": "markdown",
   "metadata": {
    "id": "u2KMAUbMwHoT"
   },
   "source": [
    "### Model Building"
   ]
  },
  {
   "cell_type": "code",
   "execution_count": null,
   "metadata": {
    "colab": {
     "base_uri": "https://localhost:8080/"
    },
    "id": "-FbC4QvEwSCR",
    "outputId": "67dd751d-bd0a-44fa-e13e-417510e7fd43"
   },
   "outputs": [],
   "source": [
    "df.shape"
   ]
  },
  {
   "cell_type": "code",
   "execution_count": 50,
   "metadata": {
    "id": "0cb7ftgOjHjT"
   },
   "outputs": [],
   "source": [
    "X= df[top_features_rfe]  # independent variable\n",
    "y = df.TARGET            # Target varaible"
   ]
  },
  {
   "cell_type": "code",
   "execution_count": 51,
   "metadata": {
    "colab": {
     "base_uri": "https://localhost:8080/",
     "height": 206
    },
    "id": "OcOMUiyT4VRT",
    "outputId": "109786ac-8615-4477-b064-5dc99458d2ec"
   },
   "outputs": [
    {
     "data": {
      "application/vnd.google.colaboratory.intrinsic+json": {
       "summary": "{\n  \"name\": \"X\",\n  \"rows\": 11000,\n  \"fields\": [\n    {\n      \"column\": \"type_A\",\n      \"properties\": {\n        \"dtype\": \"number\",\n        \"std\": 1,\n        \"min\": 0,\n        \"max\": 6,\n        \"num_unique_values\": 3,\n        \"samples\": [\n          0,\n          3,\n          6\n        ],\n        \"semantic_type\": \"\",\n        \"description\": \"\"\n      }\n    },\n    {\n      \"column\": \"type_B\",\n      \"properties\": {\n        \"dtype\": \"number\",\n        \"std\": 1,\n        \"min\": 0,\n        \"max\": 9,\n        \"num_unique_values\": 4,\n        \"samples\": [\n          3,\n          9,\n          0\n        ],\n        \"semantic_type\": \"\",\n        \"description\": \"\"\n      }\n    },\n    {\n      \"column\": \"prod_B\",\n      \"properties\": {\n        \"dtype\": \"number\",\n        \"std\": 0,\n        \"min\": 0,\n        \"max\": 1,\n        \"num_unique_values\": 2,\n        \"samples\": [\n          1,\n          0\n        ],\n        \"semantic_type\": \"\",\n        \"description\": \"\"\n      }\n    },\n    {\n      \"column\": \"loyalty_low\",\n      \"properties\": {\n        \"dtype\": \"number\",\n        \"std\": 0,\n        \"min\": 0,\n        \"max\": 1,\n        \"num_unique_values\": 2,\n        \"samples\": [\n          1,\n          0\n        ],\n        \"semantic_type\": \"\",\n        \"description\": \"\"\n      }\n    },\n    {\n      \"column\": \"logscale_age\",\n      \"properties\": {\n        \"dtype\": \"number\",\n        \"std\": 0.3294289235177498,\n        \"min\": 1.791759469228055,\n        \"max\": 4.634728988229636,\n        \"num_unique_values\": 86,\n        \"samples\": [\n          2.639057329615259,\n          4.204692619390966\n        ],\n        \"semantic_type\": \"\",\n        \"description\": \"\"\n      }\n    },\n    {\n      \"column\": \"logscale_turnover_A\",\n      \"properties\": {\n        \"dtype\": \"number\",\n        \"std\": 0.1478591341581106,\n        \"min\": 5.707428847218682,\n        \"max\": 8.625111577951335,\n        \"num_unique_values\": 11000,\n        \"samples\": [\n          6.213642219110915,\n          5.907296164069431\n        ],\n        \"semantic_type\": \"\",\n        \"description\": \"\"\n      }\n    },\n    {\n      \"column\": \"logscale_turnover_B\",\n      \"properties\": {\n        \"dtype\": \"number\",\n        \"std\": 0.4980852414468075,\n        \"min\": 5.262497691621996,\n        \"max\": 9.41328813594893,\n        \"num_unique_values\": 11000,\n        \"samples\": [\n          5.60845270759338,\n          5.435977677694746\n        ],\n        \"semantic_type\": \"\",\n        \"description\": \"\"\n      }\n    },\n    {\n      \"column\": \"logscale_lor_M\",\n      \"properties\": {\n        \"dtype\": \"number\",\n        \"std\": 0.8180796510248012,\n        \"min\": 1.3862943611198906,\n        \"max\": 4.330733340286331,\n        \"num_unique_values\": 7,\n        \"samples\": [\n          1.3862943611198906,\n          3.6888794541139363\n        ],\n        \"semantic_type\": \"\",\n        \"description\": \"\"\n      }\n    }\n  ]\n}",
       "type": "dataframe",
       "variable_name": "X"
      },
      "text/html": [
       "\n",
       "  <div id=\"df-0dceaed0-7d28-4fa7-b639-068e319031fe\" class=\"colab-df-container\">\n",
       "    <div>\n",
       "<style scoped>\n",
       "    .dataframe tbody tr th:only-of-type {\n",
       "        vertical-align: middle;\n",
       "    }\n",
       "\n",
       "    .dataframe tbody tr th {\n",
       "        vertical-align: top;\n",
       "    }\n",
       "\n",
       "    .dataframe thead th {\n",
       "        text-align: right;\n",
       "    }\n",
       "</style>\n",
       "<table border=\"1\" class=\"dataframe\">\n",
       "  <thead>\n",
       "    <tr style=\"text-align: right;\">\n",
       "      <th></th>\n",
       "      <th>type_A</th>\n",
       "      <th>type_B</th>\n",
       "      <th>prod_B</th>\n",
       "      <th>loyalty_low</th>\n",
       "      <th>logscale_age</th>\n",
       "      <th>logscale_turnover_A</th>\n",
       "      <th>logscale_turnover_B</th>\n",
       "      <th>logscale_lor_M</th>\n",
       "    </tr>\n",
       "  </thead>\n",
       "  <tbody>\n",
       "    <tr>\n",
       "      <th>0</th>\n",
       "      <td>0</td>\n",
       "      <td>0</td>\n",
       "      <td>0</td>\n",
       "      <td>0</td>\n",
       "      <td>4.204693</td>\n",
       "      <td>5.812820</td>\n",
       "      <td>5.582447</td>\n",
       "      <td>1.386294</td>\n",
       "    </tr>\n",
       "    <tr>\n",
       "      <th>1</th>\n",
       "      <td>3</td>\n",
       "      <td>3</td>\n",
       "      <td>1</td>\n",
       "      <td>1</td>\n",
       "      <td>3.828641</td>\n",
       "      <td>5.980747</td>\n",
       "      <td>5.655660</td>\n",
       "      <td>3.688879</td>\n",
       "    </tr>\n",
       "    <tr>\n",
       "      <th>2</th>\n",
       "      <td>3</td>\n",
       "      <td>6</td>\n",
       "      <td>1</td>\n",
       "      <td>1</td>\n",
       "      <td>3.761200</td>\n",
       "      <td>5.838258</td>\n",
       "      <td>7.070375</td>\n",
       "      <td>3.332205</td>\n",
       "    </tr>\n",
       "    <tr>\n",
       "      <th>3</th>\n",
       "      <td>0</td>\n",
       "      <td>0</td>\n",
       "      <td>0</td>\n",
       "      <td>0</td>\n",
       "      <td>3.465736</td>\n",
       "      <td>6.119765</td>\n",
       "      <td>5.494467</td>\n",
       "      <td>1.386294</td>\n",
       "    </tr>\n",
       "    <tr>\n",
       "      <th>4</th>\n",
       "      <td>0</td>\n",
       "      <td>0</td>\n",
       "      <td>0</td>\n",
       "      <td>0</td>\n",
       "      <td>4.143135</td>\n",
       "      <td>5.954742</td>\n",
       "      <td>5.662990</td>\n",
       "      <td>1.386294</td>\n",
       "    </tr>\n",
       "  </tbody>\n",
       "</table>\n",
       "</div>\n",
       "    <div class=\"colab-df-buttons\">\n",
       "\n",
       "  <div class=\"colab-df-container\">\n",
       "    <button class=\"colab-df-convert\" onclick=\"convertToInteractive('df-0dceaed0-7d28-4fa7-b639-068e319031fe')\"\n",
       "            title=\"Convert this dataframe to an interactive table.\"\n",
       "            style=\"display:none;\">\n",
       "\n",
       "  <svg xmlns=\"http://www.w3.org/2000/svg\" height=\"24px\" viewBox=\"0 -960 960 960\">\n",
       "    <path d=\"M120-120v-720h720v720H120Zm60-500h600v-160H180v160Zm220 220h160v-160H400v160Zm0 220h160v-160H400v160ZM180-400h160v-160H180v160Zm440 0h160v-160H620v160ZM180-180h160v-160H180v160Zm440 0h160v-160H620v160Z\"/>\n",
       "  </svg>\n",
       "    </button>\n",
       "\n",
       "  <style>\n",
       "    .colab-df-container {\n",
       "      display:flex;\n",
       "      gap: 12px;\n",
       "    }\n",
       "\n",
       "    .colab-df-convert {\n",
       "      background-color: #E8F0FE;\n",
       "      border: none;\n",
       "      border-radius: 50%;\n",
       "      cursor: pointer;\n",
       "      display: none;\n",
       "      fill: #1967D2;\n",
       "      height: 32px;\n",
       "      padding: 0 0 0 0;\n",
       "      width: 32px;\n",
       "    }\n",
       "\n",
       "    .colab-df-convert:hover {\n",
       "      background-color: #E2EBFA;\n",
       "      box-shadow: 0px 1px 2px rgba(60, 64, 67, 0.3), 0px 1px 3px 1px rgba(60, 64, 67, 0.15);\n",
       "      fill: #174EA6;\n",
       "    }\n",
       "\n",
       "    .colab-df-buttons div {\n",
       "      margin-bottom: 4px;\n",
       "    }\n",
       "\n",
       "    [theme=dark] .colab-df-convert {\n",
       "      background-color: #3B4455;\n",
       "      fill: #D2E3FC;\n",
       "    }\n",
       "\n",
       "    [theme=dark] .colab-df-convert:hover {\n",
       "      background-color: #434B5C;\n",
       "      box-shadow: 0px 1px 3px 1px rgba(0, 0, 0, 0.15);\n",
       "      filter: drop-shadow(0px 1px 2px rgba(0, 0, 0, 0.3));\n",
       "      fill: #FFFFFF;\n",
       "    }\n",
       "  </style>\n",
       "\n",
       "    <script>\n",
       "      const buttonEl =\n",
       "        document.querySelector('#df-0dceaed0-7d28-4fa7-b639-068e319031fe button.colab-df-convert');\n",
       "      buttonEl.style.display =\n",
       "        google.colab.kernel.accessAllowed ? 'block' : 'none';\n",
       "\n",
       "      async function convertToInteractive(key) {\n",
       "        const element = document.querySelector('#df-0dceaed0-7d28-4fa7-b639-068e319031fe');\n",
       "        const dataTable =\n",
       "          await google.colab.kernel.invokeFunction('convertToInteractive',\n",
       "                                                    [key], {});\n",
       "        if (!dataTable) return;\n",
       "\n",
       "        const docLinkHtml = 'Like what you see? Visit the ' +\n",
       "          '<a target=\"_blank\" href=https://colab.research.google.com/notebooks/data_table.ipynb>data table notebook</a>'\n",
       "          + ' to learn more about interactive tables.';\n",
       "        element.innerHTML = '';\n",
       "        dataTable['output_type'] = 'display_data';\n",
       "        await google.colab.output.renderOutput(dataTable, element);\n",
       "        const docLink = document.createElement('div');\n",
       "        docLink.innerHTML = docLinkHtml;\n",
       "        element.appendChild(docLink);\n",
       "      }\n",
       "    </script>\n",
       "  </div>\n",
       "\n",
       "\n",
       "<div id=\"df-c7e1c6c4-adeb-49a7-a390-b5585f047487\">\n",
       "  <button class=\"colab-df-quickchart\" onclick=\"quickchart('df-c7e1c6c4-adeb-49a7-a390-b5585f047487')\"\n",
       "            title=\"Suggest charts\"\n",
       "            style=\"display:none;\">\n",
       "\n",
       "<svg xmlns=\"http://www.w3.org/2000/svg\" height=\"24px\"viewBox=\"0 0 24 24\"\n",
       "     width=\"24px\">\n",
       "    <g>\n",
       "        <path d=\"M19 3H5c-1.1 0-2 .9-2 2v14c0 1.1.9 2 2 2h14c1.1 0 2-.9 2-2V5c0-1.1-.9-2-2-2zM9 17H7v-7h2v7zm4 0h-2V7h2v10zm4 0h-2v-4h2v4z\"/>\n",
       "    </g>\n",
       "</svg>\n",
       "  </button>\n",
       "\n",
       "<style>\n",
       "  .colab-df-quickchart {\n",
       "      --bg-color: #E8F0FE;\n",
       "      --fill-color: #1967D2;\n",
       "      --hover-bg-color: #E2EBFA;\n",
       "      --hover-fill-color: #174EA6;\n",
       "      --disabled-fill-color: #AAA;\n",
       "      --disabled-bg-color: #DDD;\n",
       "  }\n",
       "\n",
       "  [theme=dark] .colab-df-quickchart {\n",
       "      --bg-color: #3B4455;\n",
       "      --fill-color: #D2E3FC;\n",
       "      --hover-bg-color: #434B5C;\n",
       "      --hover-fill-color: #FFFFFF;\n",
       "      --disabled-bg-color: #3B4455;\n",
       "      --disabled-fill-color: #666;\n",
       "  }\n",
       "\n",
       "  .colab-df-quickchart {\n",
       "    background-color: var(--bg-color);\n",
       "    border: none;\n",
       "    border-radius: 50%;\n",
       "    cursor: pointer;\n",
       "    display: none;\n",
       "    fill: var(--fill-color);\n",
       "    height: 32px;\n",
       "    padding: 0;\n",
       "    width: 32px;\n",
       "  }\n",
       "\n",
       "  .colab-df-quickchart:hover {\n",
       "    background-color: var(--hover-bg-color);\n",
       "    box-shadow: 0 1px 2px rgba(60, 64, 67, 0.3), 0 1px 3px 1px rgba(60, 64, 67, 0.15);\n",
       "    fill: var(--button-hover-fill-color);\n",
       "  }\n",
       "\n",
       "  .colab-df-quickchart-complete:disabled,\n",
       "  .colab-df-quickchart-complete:disabled:hover {\n",
       "    background-color: var(--disabled-bg-color);\n",
       "    fill: var(--disabled-fill-color);\n",
       "    box-shadow: none;\n",
       "  }\n",
       "\n",
       "  .colab-df-spinner {\n",
       "    border: 2px solid var(--fill-color);\n",
       "    border-color: transparent;\n",
       "    border-bottom-color: var(--fill-color);\n",
       "    animation:\n",
       "      spin 1s steps(1) infinite;\n",
       "  }\n",
       "\n",
       "  @keyframes spin {\n",
       "    0% {\n",
       "      border-color: transparent;\n",
       "      border-bottom-color: var(--fill-color);\n",
       "      border-left-color: var(--fill-color);\n",
       "    }\n",
       "    20% {\n",
       "      border-color: transparent;\n",
       "      border-left-color: var(--fill-color);\n",
       "      border-top-color: var(--fill-color);\n",
       "    }\n",
       "    30% {\n",
       "      border-color: transparent;\n",
       "      border-left-color: var(--fill-color);\n",
       "      border-top-color: var(--fill-color);\n",
       "      border-right-color: var(--fill-color);\n",
       "    }\n",
       "    40% {\n",
       "      border-color: transparent;\n",
       "      border-right-color: var(--fill-color);\n",
       "      border-top-color: var(--fill-color);\n",
       "    }\n",
       "    60% {\n",
       "      border-color: transparent;\n",
       "      border-right-color: var(--fill-color);\n",
       "    }\n",
       "    80% {\n",
       "      border-color: transparent;\n",
       "      border-right-color: var(--fill-color);\n",
       "      border-bottom-color: var(--fill-color);\n",
       "    }\n",
       "    90% {\n",
       "      border-color: transparent;\n",
       "      border-bottom-color: var(--fill-color);\n",
       "    }\n",
       "  }\n",
       "</style>\n",
       "\n",
       "  <script>\n",
       "    async function quickchart(key) {\n",
       "      const quickchartButtonEl =\n",
       "        document.querySelector('#' + key + ' button');\n",
       "      quickchartButtonEl.disabled = true;  // To prevent multiple clicks.\n",
       "      quickchartButtonEl.classList.add('colab-df-spinner');\n",
       "      try {\n",
       "        const charts = await google.colab.kernel.invokeFunction(\n",
       "            'suggestCharts', [key], {});\n",
       "      } catch (error) {\n",
       "        console.error('Error during call to suggestCharts:', error);\n",
       "      }\n",
       "      quickchartButtonEl.classList.remove('colab-df-spinner');\n",
       "      quickchartButtonEl.classList.add('colab-df-quickchart-complete');\n",
       "    }\n",
       "    (() => {\n",
       "      let quickchartButtonEl =\n",
       "        document.querySelector('#df-c7e1c6c4-adeb-49a7-a390-b5585f047487 button');\n",
       "      quickchartButtonEl.style.display =\n",
       "        google.colab.kernel.accessAllowed ? 'block' : 'none';\n",
       "    })();\n",
       "  </script>\n",
       "</div>\n",
       "\n",
       "    </div>\n",
       "  </div>\n"
      ],
      "text/plain": [
       "   type_A  type_B  prod_B  loyalty_low  logscale_age  logscale_turnover_A  \\\n",
       "0       0       0       0            0      4.204693             5.812820   \n",
       "1       3       3       1            1      3.828641             5.980747   \n",
       "2       3       6       1            1      3.761200             5.838258   \n",
       "3       0       0       0            0      3.465736             6.119765   \n",
       "4       0       0       0            0      4.143135             5.954742   \n",
       "\n",
       "   logscale_turnover_B  logscale_lor_M  \n",
       "0             5.582447        1.386294  \n",
       "1             5.655660        3.688879  \n",
       "2             7.070375        3.332205  \n",
       "3             5.494467        1.386294  \n",
       "4             5.662990        1.386294  "
      ]
     },
     "execution_count": 51,
     "metadata": {},
     "output_type": "execute_result"
    }
   ],
   "source": [
    "X.head()"
   ]
  },
  {
   "cell_type": "code",
   "execution_count": 52,
   "metadata": {
    "id": "o51dF_IX4q7S"
   },
   "outputs": [],
   "source": [
    "import statsmodels.api as sm\n",
    "X = sm.add_constant(X)"
   ]
  },
  {
   "cell_type": "code",
   "execution_count": 53,
   "metadata": {
    "id": "pGQ_6s5V4tab"
   },
   "outputs": [],
   "source": [
    "from sklearn.metrics import accuracy_score, confusion_matrix, classification_report, roc_curve, roc_auc_score\n",
    "def LR_metrics(y_test, y_pred):\n",
    "  print(f\"Accuracy Score: {accuracy_score(y_test, y_pred)}\")\n",
    "  print(f\"Confusion Matrix: \\n{confusion_matrix(y_test, y_pred)}\")\n",
    "  print(f\"Classification Report: \\n{classification_report(y_test, y_pred)}\")\n",
    "\n",
    "def ROC_AUC_curve(y_test, y_pred):\n",
    "  print(f\"ROC AUC Score: {roc_auc_score(y_test, y_pred)}\")\n",
    "  fpr, tpr, thresholds = roc_curve(y_test, y_pred)\n",
    "  plt.plot(fpr, tpr, color='orange', label='ROC')\n",
    "  plt.plot([0, 1], [0, 1], color='darkblue', linestyle='--')\n",
    "  plt.xlabel('False Positive Rate')\n",
    "  plt.ylabel('True Positive Rate')\n",
    "  plt.title('Receiver Operating Characteristic (ROC) Curve')\n",
    "  plt.legend()\n",
    "  plt.show()"
   ]
  },
  {
   "cell_type": "code",
   "execution_count": 54,
   "metadata": {
    "id": "img6cFlf5BJP"
   },
   "outputs": [],
   "source": [
    "# splitting the data into training and testing set into 75: 25\n",
    "from sklearn.model_selection import train_test_split\n",
    "X_train, X_test, y_train, y_test = train_test_split(X, y, test_size=0.25, random_state=42)"
   ]
  },
  {
   "cell_type": "markdown",
   "metadata": {
    "id": "OkzHJ3ZFFwSe"
   },
   "source": [
    "### Function for kfold Cross validation, where k = 5\n"
   ]
  },
  {
   "cell_type": "code",
   "execution_count": 55,
   "metadata": {
    "id": "ZpIhNhGH-vqP"
   },
   "outputs": [],
   "source": [
    "# importing necessary libraries for cross validation for logistic regression\n",
    "from sklearn.model_selection import KFold, cross_val_score\n",
    "from sklearn.metrics import accuracy_score\n",
    "\n",
    "def kfoldcv(X_train_sm,y_t):\n",
    "  # Kfolds cv where splits = 5\n",
    "  kf = KFold(n_splits=5)\n",
    "  # List to store accuracy scores\n",
    "  accuracy_lis = []\n",
    "\n",
    "  # K-Fold Cross Validation\n",
    "  for train_index, test_index in kf.split(X_train_sm):\n",
    "      X_train, X_test = X_train_sm.iloc[train_index], X_train_sm.iloc[test_index]\n",
    "      y_train, y_test = y_t.iloc[train_index], y_t.iloc[test_index]\n",
    "\n",
    "      # Fit the OLS model\n",
    "      model = sm.GLM(y_train,X_train, family = sm.families.Binomial()).fit()\n",
    "      # model = sm.OLS(y_train, X_train).fit()\n",
    "\n",
    "      # Predict on the test data\n",
    "      y_pred = model.predict(X_test)\n",
    "      y_pred = np.where(y_pred>0.5,1,0)\n",
    "\n",
    "\n",
    "      # Calculate accuracy for the test set\n",
    "      accuracy = accuracy_score(y_test, y_pred)\n",
    "      accuracy_lis.append(accuracy)\n",
    "\n",
    "  # Print the accuracy scores for each fold\n",
    "  print(\"Cross-validated Accuracy scores:\", accuracy_lis)\n",
    "  print(\"Mean Accuracy score:\", np.mean(accuracy_lis))"
   ]
  },
  {
   "cell_type": "markdown",
   "metadata": {
    "id": "FSb3ui9LGOpj"
   },
   "source": [
    "### Logistic Model 1 : res1"
   ]
  },
  {
   "cell_type": "code",
   "execution_count": 56,
   "metadata": {
    "colab": {
     "base_uri": "https://localhost:8080/"
    },
    "id": "h5U82mNM6Cn9",
    "outputId": "4d79569a-3653-42c9-aec3-44f52d1709d4"
   },
   "outputs": [
    {
     "name": "stdout",
     "output_type": "stream",
     "text": [
      "                 Generalized Linear Model Regression Results                  \n",
      "==============================================================================\n",
      "Dep. Variable:                 TARGET   No. Observations:                 8250\n",
      "Model:                            GLM   Df Residuals:                     8241\n",
      "Model Family:                Binomial   Df Model:                            8\n",
      "Link Function:                  Logit   Scale:                          1.0000\n",
      "Method:                          IRLS   Log-Likelihood:                -3669.3\n",
      "Date:                Sun, 20 Oct 2024   Deviance:                       7338.5\n",
      "Time:                        22:54:11   Pearson chi2:                 1.71e+06\n",
      "No. Iterations:                     6   Pseudo R-squ. (CS):             0.2480\n",
      "Covariance Type:            nonrobust                                         \n",
      "=======================================================================================\n",
      "                          coef    std err          z      P>|z|      [0.025      0.975]\n",
      "---------------------------------------------------------------------------------------\n",
      "const                 -41.1408      1.492    -27.576      0.000     -44.065     -38.217\n",
      "type_A                 -0.1806      0.048     -3.799      0.000      -0.274      -0.087\n",
      "type_B                 -0.1997      0.076     -2.628      0.009      -0.349      -0.051\n",
      "prod_B                 -0.5236      0.265     -1.978      0.048      -1.042      -0.005\n",
      "loyalty_low            -0.2391      0.093     -2.563      0.010      -0.422      -0.056\n",
      "logscale_age            1.9740      0.097     20.382      0.000       1.784       2.164\n",
      "logscale_turnover_A     6.3653      0.242     26.354      0.000       5.892       6.839\n",
      "logscale_turnover_B    -0.7166      0.110     -6.488      0.000      -0.933      -0.500\n",
      "logscale_lor_M          0.1730      0.103      1.678      0.093      -0.029       0.375\n",
      "=======================================================================================\n",
      "Cross validation\n",
      "Cross-validated Accuracy scores: [0.7921212121212121, 0.8133333333333334, 0.7981818181818182, 0.8018181818181818, 0.8121212121212121]\n",
      "Mean Accuracy score: 0.8035151515151515\n"
     ]
    }
   ],
   "source": [
    "# Logistic regression using statsmodel library:\n",
    "import statsmodels.api as sm\n",
    "logm1 = sm.GLM(y_train,X_train, family = sm.families.Binomial()) # Binnomial classification\n",
    "res1 = logm1.fit()\n",
    "print(res1.summary())\n",
    "print(\"Cross validation\")\n",
    "kfoldcv(X_train,y_train)"
   ]
  },
  {
   "cell_type": "code",
   "execution_count": 57,
   "metadata": {
    "colab": {
     "base_uri": "https://localhost:8080/",
     "height": 732
    },
    "id": "BmeGwx0K6FDd",
    "outputId": "fd7ee5a9-b371-4a39-dcfb-b52a37cfc056"
   },
   "outputs": [
    {
     "name": "stdout",
     "output_type": "stream",
     "text": [
      "Accuracy Score: 0.8127272727272727\n",
      "Confusion Matrix: \n",
      "[[1867  138]\n",
      " [ 377  368]]\n",
      "Classification Report: \n",
      "              precision    recall  f1-score   support\n",
      "\n",
      "           0       0.83      0.93      0.88      2005\n",
      "           1       0.73      0.49      0.59       745\n",
      "\n",
      "    accuracy                           0.81      2750\n",
      "   macro avg       0.78      0.71      0.73      2750\n",
      "weighted avg       0.80      0.81      0.80      2750\n",
      "\n",
      "ROC AUC Score: 0.7125659006845304\n"
     ]
    },
    {
     "data": {
      "image/png": "[encoded data removed]",
      "text/plain": [
       "<Figure size 640x480 with 1 Axes>"
      ]
     },
     "metadata": {},
     "output_type": "display_data"
    }
   ],
   "source": [
    "y_pred = res1.predict(X_test)\n",
    "y_pred = np.where(y_pred>0.5,1,0)\n",
    "LR_metrics(y_test, y_pred)\n",
    "ROC_AUC_curve(y_test, y_pred)"
   ]
  },
  {
   "cell_type": "markdown",
   "metadata": {
    "id": "xMZzpaLOHgxt"
   },
   "source": [
    "### Model 1:\n",
    "\n",
    "- **8** independent variables, selected using RFE (Recursive Feature Elimination), were used to build the model.\n",
    "- The average cross-validation (CV) accuracy score is approximately 0.8035.\n",
    "- The accuracy score on the test data is approximately 0.8127.\n",
    "- Model `res1` can be considered a good model, based on the mean CV accuracy score and the accuracy score on the test data.\n",
    "- There are certain variables whose p-values are greater than 0.05, and their coefficient values are close to zero.\n",
    "- The ROC-AUC score is 0.7125. Based on the curve, we can say the model is decent, but other machine learning models could be explored to improve the ROC-AUC score.\n"
   ]
  },
  {
   "cell_type": "code",
   "execution_count": 58,
   "metadata": {
    "colab": {
     "base_uri": "https://localhost:8080/"
    },
    "id": "zp9dJ00j77WW",
    "outputId": "fb207b25-064a-40c9-8342-9715b87b461c"
   },
   "outputs": [
    {
     "data": {
      "text/plain": [
       "0.7290909090909091"
      ]
     },
     "execution_count": 58,
     "metadata": {},
     "output_type": "execute_result"
    }
   ],
   "source": [
    "# null error rate\n",
    "y_test.value_counts()[0]/y_test.shape[0]"
   ]
  },
  {
   "cell_type": "markdown",
   "metadata": {
    "id": "sI4Pb92T6ZJ2"
   },
   "source": [
    "### Logistic Model 2 : res2"
   ]
  },
  {
   "cell_type": "code",
   "execution_count": 59,
   "metadata": {
    "id": "_wOQQ4OK7nyy"
   },
   "outputs": [],
   "source": [
    "# Drop prod_B since it has p > 0.05\n",
    "X2=X.drop(['logscale_lor_M'],axis=1)"
   ]
  },
  {
   "cell_type": "code",
   "execution_count": 60,
   "metadata": {
    "id": "sWcJ-5A873oG"
   },
   "outputs": [],
   "source": [
    "# splitting the data into training and testing set into 75: 25\n",
    "X_train, X_test, y_train, y_test = train_test_split(X2, y, test_size=0.25, random_state=42)"
   ]
  },
  {
   "cell_type": "code",
   "execution_count": 61,
   "metadata": {
    "colab": {
     "base_uri": "https://localhost:8080/"
    },
    "id": "c15VKRMb8EyN",
    "outputId": "98a638a3-6195-4093-8f50-27ab401a7a78"
   },
   "outputs": [
    {
     "name": "stdout",
     "output_type": "stream",
     "text": [
      "                 Generalized Linear Model Regression Results                  \n",
      "==============================================================================\n",
      "Dep. Variable:                 TARGET   No. Observations:                 8250\n",
      "Model:                            GLM   Df Residuals:                     8242\n",
      "Model Family:                Binomial   Df Model:                            7\n",
      "Link Function:                  Logit   Scale:                          1.0000\n",
      "Method:                          IRLS   Log-Likelihood:                -3670.7\n",
      "Date:                Sun, 20 Oct 2024   Deviance:                       7341.4\n",
      "Time:                        22:54:12   Pearson chi2:                 1.60e+06\n",
      "No. Iterations:                     6   Pseudo R-squ. (CS):             0.2477\n",
      "Covariance Type:            nonrobust                                         \n",
      "=======================================================================================\n",
      "                          coef    std err          z      P>|z|      [0.025      0.975]\n",
      "---------------------------------------------------------------------------------------\n",
      "const                 -40.8593      1.481    -27.585      0.000     -43.762     -37.956\n",
      "type_A                 -0.2014      0.046     -4.389      0.000      -0.291      -0.111\n",
      "type_B                 -0.1652      0.073     -2.272      0.023      -0.308      -0.023\n",
      "prod_B                 -0.3118      0.232     -1.344      0.179      -0.766       0.143\n",
      "loyalty_low            -0.1771      0.086     -2.071      0.038      -0.345      -0.009\n",
      "logscale_age            1.9871      0.097     20.585      0.000       1.798       2.176\n",
      "logscale_turnover_A     6.3882      0.241     26.483      0.000       5.915       6.861\n",
      "logscale_turnover_B    -0.7560      0.108     -7.002      0.000      -0.968      -0.544\n",
      "=======================================================================================\n",
      "Cross validation\n",
      "Cross-validated Accuracy scores: [0.7915151515151515, 0.813939393939394, 0.7981818181818182, 0.803030303030303, 0.8109090909090909]\n",
      "Mean Accuracy score: 0.8035151515151515\n"
     ]
    }
   ],
   "source": [
    "logm2 = sm.GLM(y_train,X_train, family = sm.families.Binomial())\n",
    "res2 = logm2.fit()\n",
    "print(res2.summary())\n",
    "print(\"Cross validation\")\n",
    "kfoldcv(X_train,y_train)"
   ]
  },
  {
   "cell_type": "code",
   "execution_count": 62,
   "metadata": {
    "colab": {
     "base_uri": "https://localhost:8080/"
    },
    "id": "8plT4tu28HZe",
    "outputId": "6e3c4df1-b7b4-41f8-96ab-366d3fcfc713"
   },
   "outputs": [
    {
     "name": "stdout",
     "output_type": "stream",
     "text": [
      "Accuracy Score: 0.8116363636363636\n",
      "Confusion Matrix: \n",
      "[[1865  140]\n",
      " [ 378  367]]\n",
      "Classification Report: \n",
      "              precision    recall  f1-score   support\n",
      "\n",
      "           0       0.83      0.93      0.88      2005\n",
      "           1       0.72      0.49      0.59       745\n",
      "\n",
      "    accuracy                           0.81      2750\n",
      "   macro avg       0.78      0.71      0.73      2750\n",
      "weighted avg       0.80      0.81      0.80      2750\n",
      "\n"
     ]
    }
   ],
   "source": [
    "y_pred = res2.predict(X_test)\n",
    "y_pred = np.where(y_pred>0.5,1,0)\n",
    "LR_metrics(y_test, y_pred)"
   ]
  },
  {
   "cell_type": "markdown",
   "metadata": {
    "id": "1j9V0BoWMOv-"
   },
   "source": [
    "### Model 2:\n",
    "\n",
    "- Seven independent variables were used to build the model after dropping `logscale_lor_M`, which had a p-value of 0.093 (greater than 0.05).\n",
    "- The average cross-validation (CV) accuracy score is approximately 0.8035.\n",
    "- The accuracy score on the test data is approximately 0.8116.\n",
    "- Model `res2` can be considered a good model, based on the mean CV accuracy score and the accuracy score on the test data.\n",
    "- There are certain variables whose p-values are greater than 0.05, and their coefficient values are close to zero.\n",
    "- Metrics like precision and recall also look good for the model.\n"
   ]
  },
  {
   "cell_type": "code",
   "execution_count": 63,
   "metadata": {
    "id": "RcsNoxsN8QEp"
   },
   "outputs": [],
   "source": [
    "# drop prod_b\n",
    "X3=X2.drop(['prod_B'],axis=1)"
   ]
  },
  {
   "cell_type": "code",
   "execution_count": 64,
   "metadata": {
    "id": "DEfoVIvZ9QlB"
   },
   "outputs": [],
   "source": [
    "X_train, X_test, y_train, y_test = train_test_split(X3, y, test_size=0.25, random_state=42)"
   ]
  },
  {
   "cell_type": "markdown",
   "metadata": {
    "id": "5K9ubwbMGtLG"
   },
   "source": [
    "### Logistic Model 3 : res3"
   ]
  },
  {
   "cell_type": "code",
   "execution_count": 65,
   "metadata": {
    "colab": {
     "base_uri": "https://localhost:8080/"
    },
    "id": "lTcKGLEL9Vzk",
    "outputId": "eb7e6e88-8e91-41ff-c8c3-99740d301a27"
   },
   "outputs": [
    {
     "name": "stdout",
     "output_type": "stream",
     "text": [
      "                 Generalized Linear Model Regression Results                  \n",
      "==============================================================================\n",
      "Dep. Variable:                 TARGET   No. Observations:                 8250\n",
      "Model:                            GLM   Df Residuals:                     8243\n",
      "Model Family:                Binomial   Df Model:                            6\n",
      "Link Function:                  Logit   Scale:                          1.0000\n",
      "Method:                          IRLS   Log-Likelihood:                -3671.6\n",
      "Date:                Sun, 20 Oct 2024   Deviance:                       7343.1\n",
      "Time:                        22:54:12   Pearson chi2:                 1.76e+06\n",
      "No. Iterations:                     5   Pseudo R-squ. (CS):             0.2476\n",
      "Covariance Type:            nonrobust                                         \n",
      "=======================================================================================\n",
      "                          coef    std err          z      P>|z|      [0.025      0.975]\n",
      "---------------------------------------------------------------------------------------\n",
      "const                 -41.0378      1.476    -27.809      0.000     -43.930     -38.145\n",
      "type_A                 -0.2184      0.044     -4.944      0.000      -0.305      -0.132\n",
      "type_B                 -0.2450      0.044     -5.561      0.000      -0.331      -0.159\n",
      "loyalty_low            -0.1869      0.085     -2.193      0.028      -0.354      -0.020\n",
      "logscale_age            1.9862      0.096     20.583      0.000       1.797       2.175\n",
      "logscale_turnover_A     6.3939      0.241     26.499      0.000       5.921       6.867\n",
      "logscale_turnover_B    -0.7306      0.106     -6.917      0.000      -0.938      -0.524\n",
      "=======================================================================================\n",
      "Cross validation\n",
      "Cross-validated Accuracy scores: [0.7927272727272727, 0.8145454545454546, 0.7963636363636364, 0.803030303030303, 0.8127272727272727]\n",
      "Mean Accuracy score: 0.8038787878787879\n"
     ]
    }
   ],
   "source": [
    "logm3 = sm.GLM(y_train,X_train, family = sm.families.Binomial())\n",
    "res3 = logm3.fit()\n",
    "print(res3.summary())\n",
    "print(\"Cross validation\")\n",
    "kfoldcv(X_train,y_train)"
   ]
  },
  {
   "cell_type": "code",
   "execution_count": 66,
   "metadata": {
    "colab": {
     "base_uri": "https://localhost:8080/"
    },
    "id": "lkBM5vci9Yjm",
    "outputId": "3004cc30-65bd-4d0c-c693-ff884e433b01"
   },
   "outputs": [
    {
     "name": "stdout",
     "output_type": "stream",
     "text": [
      "Accuracy Score: 0.812\n",
      "Confusion Matrix: \n",
      "[[1865  140]\n",
      " [ 377  368]]\n",
      "Classification Report: \n",
      "              precision    recall  f1-score   support\n",
      "\n",
      "           0       0.83      0.93      0.88      2005\n",
      "           1       0.72      0.49      0.59       745\n",
      "\n",
      "    accuracy                           0.81      2750\n",
      "   macro avg       0.78      0.71      0.73      2750\n",
      "weighted avg       0.80      0.81      0.80      2750\n",
      "\n"
     ]
    }
   ],
   "source": [
    "y_pred = res3.predict(X_test)\n",
    "y_pred = np.where(y_pred>0.5,1,0)\n",
    "LR_metrics(y_test, y_pred)"
   ]
  },
  {
   "cell_type": "markdown",
   "metadata": {
    "id": "lNvdi3dKN_kA"
   },
   "source": [
    "### Model 3:\n",
    "\n",
    "- 6 independent variables were used to build the model after dropping `prod_B`, which had a p-value of 0.179 (greater than 0.05).\n",
    "- The average cross-validation (CV) accuracy score is approximately 0.8038.\n",
    "- The accuracy score on the test data is approximately 0.812.\n",
    "- Model `res3` can be considered a good model, based on the mean CV accuracy score and the accuracy score on the test data.\n",
    "- There are certain variables whose p-values are greater than 0.05, and their coefficient values are close to zero.\n",
    "- Metrics like precision and recall also look good for the model.\n"
   ]
  },
  {
   "cell_type": "markdown",
   "metadata": {
    "id": "X8OHdmVF9kxF"
   },
   "source": [
    "### PCA"
   ]
  },
  {
   "cell_type": "code",
   "execution_count": 67,
   "metadata": {
    "id": "lJb3MOS49fA1"
   },
   "outputs": [],
   "source": [
    "X = df.drop('TARGET',axis=1)\n",
    "y = df.TARGET.reset_index(drop=True)"
   ]
  },
  {
   "cell_type": "code",
   "execution_count": 68,
   "metadata": {
    "id": "yH-JkFIb9mRb"
   },
   "outputs": [],
   "source": [
    "PCA_group=['logscale_age', 'logscale_turnover_A',\n",
    "       'logscale_turnover_B', 'logscale_lor_M']"
   ]
  },
  {
   "cell_type": "code",
   "execution_count": 69,
   "metadata": {
    "colab": {
     "base_uri": "https://localhost:8080/"
    },
    "id": "C9nyo0fj9mO8",
    "outputId": "0a84c134-8d5c-4082-e8b4-71b4cae6d60f"
   },
   "outputs": [
    {
     "name": "stdout",
     "output_type": "stream",
     "text": [
      "Original number of features: 4\n",
      "Number of PCA components: 3\n",
      "[0.6571561  0.23984587 0.08314761]\n",
      "Total variance explained by selected components: 0.9801495880132031\n"
     ]
    }
   ],
   "source": [
    "from sklearn.decomposition import PCA\n",
    "# Apply PCA\n",
    "pca = PCA(n_components=.95)  # Retain 95% of variance\n",
    "X_pca = pca.fit_transform(X[PCA_group])\n",
    "\n",
    "# Output the number of components retained\n",
    "print(f'Original number of features: {X[PCA_group].shape[1]}')\n",
    "print(f'Number of PCA components: {X_pca.shape[1]}')\n",
    "\n",
    "print(pca.explained_variance_ratio_)  # Variance explained by each component\n",
    "print(f'Total variance explained by selected components: {sum(pca.explained_variance_ratio_)}')"
   ]
  },
  {
   "cell_type": "code",
   "execution_count": 70,
   "metadata": {
    "colab": {
     "base_uri": "https://localhost:8080/",
     "height": 564
    },
    "id": "UK6cP35C9mMq",
    "outputId": "f78671ab-1bb3-4e94-be83-0d52cc2e3b75"
   },
   "outputs": [
    {
     "data": {
      "image/png": "[encoded data removed]",
      "text/plain": [
       "<Figure size 1000x600 with 1 Axes>"
      ]
     },
     "metadata": {},
     "output_type": "display_data"
    }
   ],
   "source": [
    "cumulative_variance = np.cumsum(pca.explained_variance_ratio_)\n",
    "plt.figure(figsize=(10, 6))\n",
    "plt.plot(range(1, len(cumulative_variance) + 1), cumulative_variance, marker='o', color='blue')\n",
    "plt.axhline(y=0.95, color='r', linestyle='--')  # Horizontal line for 95%\n",
    "plt.title('Cumulative Explained Variance')\n",
    "plt.xlabel('Number of Principal Components')\n",
    "plt.ylabel('Cumulative Variance Explained')\n",
    "plt.xticks(range(1, len(cumulative_variance) + 1))\n",
    "plt.grid()\n",
    "plt.show()"
   ]
  },
  {
   "cell_type": "code",
   "execution_count": 71,
   "metadata": {
    "id": "7jjtj9xV9mJW"
   },
   "outputs": [],
   "source": [
    "pca = PCA(n_components=3)  # Specify the number of components again if you want\n",
    "X_pca = pca.fit_transform(X[PCA_group])\n",
    "\n",
    "pca_columns = [f'PC{i+1}' for i in range(X_pca.shape[1])]\n",
    "df_pca = pd.DataFrame(X_pca, columns=pca_columns)"
   ]
  },
  {
   "cell_type": "code",
   "execution_count": 72,
   "metadata": {
    "id": "Q1NAOFcJ992Y"
   },
   "outputs": [],
   "source": [
    "df_gp2 = X.reset_index().drop('index', axis = 1)\n",
    "new_df = pd.concat([df_gp2, df_pca], axis = 1)\n",
    "X = new_df.drop(PCA_group, axis = 1)\n",
    "import statsmodels.api as sm\n",
    "X = sm.add_constant(X)"
   ]
  },
  {
   "cell_type": "code",
   "execution_count": 73,
   "metadata": {
    "id": "b4WLTPMh-DhG"
   },
   "outputs": [],
   "source": [
    "from sklearn.model_selection import train_test_split\n",
    "X_train, X_test, y_train, y_test = train_test_split(X, y, test_size=0.25, random_state=42)"
   ]
  },
  {
   "cell_type": "markdown",
   "metadata": {
    "id": "qP4mmXsRGx5R"
   },
   "source": [
    "### Logistic Model 4 : res4"
   ]
  },
  {
   "cell_type": "code",
   "execution_count": 74,
   "metadata": {
    "colab": {
     "base_uri": "https://localhost:8080/"
    },
    "id": "z1ue5lS7-D45",
    "outputId": "ed71a888-6cea-43af-e287-f1a1e152d0f4"
   },
   "outputs": [
    {
     "name": "stdout",
     "output_type": "stream",
     "text": [
      "                 Generalized Linear Model Regression Results                  \n",
      "==============================================================================\n",
      "Dep. Variable:                 TARGET   No. Observations:                 8250\n",
      "Model:                            GLM   Df Residuals:                     8237\n",
      "Model Family:                Binomial   Df Model:                           12\n",
      "Link Function:                  Logit   Scale:                          1.0000\n",
      "Method:                          IRLS   Log-Likelihood:                -4045.0\n",
      "Date:                Sun, 20 Oct 2024   Deviance:                       8090.0\n",
      "Time:                        22:54:13   Pearson chi2:                 8.15e+03\n",
      "No. Iterations:                    22   Pseudo R-squ. (CS):             0.1763\n",
      "Covariance Type:            nonrobust                                         \n",
      "========================================================================================\n",
      "                           coef    std err          z      P>|z|      [0.025      0.975]\n",
      "----------------------------------------------------------------------------------------\n",
      "const                   -2.7257   1390.755     -0.002      0.998   -2728.555    2723.103\n",
      "prod_A                  -2.0472      0.610     -3.359      0.001      -3.242      -0.853\n",
      "type_A                   0.7548      0.203      3.712      0.000       0.356       1.153\n",
      "type_B                  -0.5548      0.079     -7.012      0.000      -0.710      -0.400\n",
      "prod_B                  -0.4726      0.265     -1.786      0.074      -0.991       0.046\n",
      "loyalty_none           -17.3565   9735.282     -0.002      0.999   -1.91e+04    1.91e+04\n",
      "loyalty_low              3.6051   2086.132      0.002      0.999   -4085.138    4092.349\n",
      "loyalty_medium           3.5467   2086.132      0.002      0.999   -4085.197    4092.290\n",
      "loyalty_high             3.5963   2086.132      0.002      0.999   -4085.147    4092.340\n",
      "loyalty_unclassified     3.8826   2086.132      0.002      0.999   -4084.861    4092.626\n",
      "city_2                  -0.8349    695.377     -0.001      0.999   -1363.749    1362.080\n",
      "other_city              -1.8908    695.377     -0.003      0.998   -1364.805    1361.024\n",
      "PC1                      0.5503      0.105      5.235      0.000       0.344       0.756\n",
      "PC2                      0.6268      0.079      7.953      0.000       0.472       0.781\n",
      "PC3                      2.1838      0.098     22.299      0.000       1.992       2.376\n",
      "========================================================================================\n",
      "Cross validation\n",
      "Cross-validated Accuracy scores: [0.7496969696969698, 0.7739393939393939, 0.7733333333333333, 0.756969696969697, 0.7709090909090909]\n",
      "Mean Accuracy score: 0.764969696969697\n"
     ]
    }
   ],
   "source": [
    "  # Logistic regression using statsmodel library:\n",
    "import statsmodels.api as sm\n",
    "logm4 = sm.GLM(y_train,X_train, family = sm.families.Binomial())\n",
    "res4 = logm4.fit()\n",
    "print(res4.summary())\n",
    "print(\"Cross validation\")\n",
    "kfoldcv(X_train,y_train)"
   ]
  },
  {
   "cell_type": "code",
   "execution_count": 75,
   "metadata": {
    "colab": {
     "base_uri": "https://localhost:8080/"
    },
    "id": "nIKoZQmT-Ddr",
    "outputId": "2d668535-af50-406a-9d56-1e7f7448b6df"
   },
   "outputs": [
    {
     "name": "stdout",
     "output_type": "stream",
     "text": [
      "Accuracy Score: 0.7734545454545455\n",
      "Confusion Matrix: \n",
      "[[1849  156]\n",
      " [ 467  278]]\n",
      "Classification Report: \n",
      "              precision    recall  f1-score   support\n",
      "\n",
      "           0       0.80      0.92      0.86      2005\n",
      "           1       0.64      0.37      0.47       745\n",
      "\n",
      "    accuracy                           0.77      2750\n",
      "   macro avg       0.72      0.65      0.66      2750\n",
      "weighted avg       0.76      0.77      0.75      2750\n",
      "\n"
     ]
    }
   ],
   "source": [
    "y_pred = res4.predict(X_test)\n",
    "y_pred = np.where(y_pred>0.5,1,0)\n",
    "LR_metrics(y_test, y_pred)"
   ]
  },
  {
   "cell_type": "markdown",
   "metadata": {
    "id": "UvhwoDLSOfmw"
   },
   "source": [
    "### Model 4:\n",
    "\n",
    "- Fourteen independent variables were used to build the model after performing PCA.\n",
    "- The average cross-validation (CV) accuracy score is approximately 0.76.\n",
    "- The accuracy score on the test data is approximately 0.77.\n",
    "- Model `res4` can be considered a decent model based on the mean CV accuracy score and the accuracy score on the test data. However, it is not as good compared to the other three models, so we can disregard this model.\n",
    "- There are many variables whose p-values are greater than 0.05.\n",
    "- Further dropping variables only decreases accuracy and does not improve the model compared to the initial models built without PCA. Therefore, we are going to reject this model.\n"
   ]
  },
  {
   "cell_type": "markdown",
   "metadata": {
    "id": "jyPlLr-EHWS4"
   },
   "source": [
    "### Model Comparison\n",
    "\n",
    "| Model         | mean CV Score | Precision (Class 1) | Recall (Class 1) |Accuracy(test)|\n",
    "|---------------|---------------|---------------------|------------------|--------------|\n",
    "| First Model   | 0.8035        | 0.73                | 0.49             | 0.8127       |\n",
    "| Second Model  | 0.8035        | 0.72                | 0.49             | 0.8116       |\n",
    "| Third Model   | 0.8038        | 0.72                | 0.49             | 0.812        |\n",
    "| Fourth Model  | 0.7649        | 0.64                | 0.37             | 0.7734       |\n",
    "\n",
    "All four models demonstrate good accuracy, precision, and recall, with consistent performance across the metrics. However, the third model stands out due to its slightly higher mean CV score with fewer independent variables compared to the other models. On the other hand, the fourth model, built using PCA, can be considered the weakest among the four models and therefore is not suitable for prediction.\n",
    "\n",
    "\n",
    "### Best fit model Comparison with Null Error Rate\n",
    "\n",
    "| Metric                 | Third Model  |\n",
    "|------------------------|--------------|\n",
    "| Accuracy(CV)           | 0.8038       |\n",
    "| Precision (Class 1)    | 0.72         |\n",
    "| Recall (Class 1)       | 0.49         |\n",
    "| Accuracy(Test)         | 0.812        |\n",
    "\n",
    "- **Null Error Rate:** 0.7290\n",
    "\n",
    "The null error rate represents the accuracy achieved by a model that always predicts the majority class. Comparing the 3rd model's accuracy of 81.2% with the null error rate of 72.9%, we can see that the model significantly outperforms the null model. Additionally, the precision, recall, and F1-score metrics for class 1 indicate that the model effectively identifies positive instances despite the class imbalance.\n",
    "\n",
    "\n",
    "\n",
    "### Conclusion\n",
    "\n",
    "The project aimed to develop logistic regression models to predict customer purchases of an additional insurance product based on various customer attributes and buying behavior.\n",
    "\n",
    "**Key Findings:**\n",
    "\n",
    "1. **Data Exploration:**\n",
    "   - The dataset comprised customer information such as age, loyalty level, buying behavior of other products, and contract type.\n",
    "   - Exploratory Data Analysis (EDA) provided insights into the distribution of features, including age, loyalty, and turnover of products.\n",
    "\n",
    "2. **Data Preparation:**\n",
    "   - Data preprocessing steps included One Hot Encoding, handling duplicate values  and meaningless data.\n",
    "   - Scaling of the data.\n",
    "\n",
    "3. **Model Building:**\n",
    "   - Four logistic regression models were constructed:\n",
    "   - Three of them were built using different sets of features selected based on RFE and p-values.\n",
    "   - The fourth model was built using a set of features that includes principal components from PCA.\n",
    "   - Evaluation metrics such as accuracy, precision, recall, and F1-score were utilized to assess model performance.\n",
    "\n",
    "4. **Model Evaluation:**\n",
    "   - The models demonstrated good accuracy, precision, and recall, indicating their effectiveness in predicting customer purchases of the additional insurance product.\n",
    "   - Comparison with the null error rate showed that the models significantly outperformed a baseline model.\n",
    "\n",
    "\n",
    "\n",
    "the logistic regression models developed in this project offer valuable insights into customer behavior and purchasing patterns. By leveraging customer attributes and buying behavior data, insurance companies can better understand customer preferences and tailor marketing strategies to target potential buyers effectively. Further research could explore additional features or employ more advanced machine learning techniques to enhance predictive performance. Overall, this project lays the foundation for leveraging data-driven approaches to improve business outcomes in the insurance industry.\n"
   ]
  },
  {
   "cell_type": "code",
   "execution_count": null,
   "metadata": {},
   "outputs": [],
   "source": [
    "from sklearn.metrics import accuracy_score\n",
    "\n",
    "\n",
    "knn = KNeighborsClassifier(n_neighbors=3)\n",
    "knn.fit(X_train, y_train)\n",
    "y_pred = knn.predict(X_test)\n",
    "accuracy = accuracy_score(y_test, y_pred)\n",
    "print(f'Accuracy: {accuracy:.2f}')\n",
    "\n"
   ]
  },
  {
   "cell_type": "code",
   "execution_count": null,
   "metadata": {},
   "outputs": [],
   "source": [
    "from sklearn.neighbors import KNeighborsClassifier\n",
    "from sklearn.model_selection import cross_val_score\n",
    "\n",
    "# Define a range of k values to test\n",
    "k_range = range(1, 31)\n",
    "\n",
    "# Create a list to store cross-validation scores for each k\n",
    "cv_scores = []\n",
    "\n",
    "# Perform cross-validation to find the best k\n",
    "for k in k_range:\n",
    "    knn = KNeighborsClassifier(n_neighbors=k)\n",
    "    # Use 10-fold cross-validation and take the mean of the accuracy scores\n",
    "    scores = cross_val_score(knn, X_train, y_train, cv=5, scoring='accuracy')\n",
    "    cv_scores.append(scores.mean())\n",
    "\n",
    "# Find the optimal k (the one with the highest cross-validation score)\n",
    "optimal_k = k_range[np.argmax(cv_scores)]\n",
    "print(f\"The optimal number of neighbors is {optimal_k}\")\n",
    "\n",
    "# Plotting the results\n",
    "plt.plot(k_range, cv_scores)\n",
    "plt.xlabel('Number of Neighbors K')\n",
    "plt.ylabel('Cross-Validated Accuracy')\n",
    "plt.title('KNN: Optimal k based on Cross-Validation')\n",
    "plt.show()\n"
   ]
  },
  {
   "cell_type": "code",
   "execution_count": null,
   "metadata": {},
   "outputs": [],
   "source": [
    "from sklearn.model_selection import GridSearchCV\n",
    "\n",
    "# Define parameter grid\n",
    "param_grid = {'C': [0.1, 1, 10], 'gamma': ['scale', 'auto'], 'kernel': ['rbf', 'linear']}\n",
    "\n",
    "# Initialize GridSearchCV with SVM\n",
    "grid = GridSearchCV(SVC(), param_grid, refit=True, verbose=2, cv=5)\n",
    "\n",
    "# Fit on the training data\n",
    "grid.fit(X_train, y_train)\n",
    "\n",
    "# Best parameters\n",
    "print(\"Best Parameters: \", grid.best_params_)\n"
   ]
  },
  {
   "cell_type": "code",
   "execution_count": null,
   "metadata": {},
   "outputs": [],
   "source": [
    "svm_rbf_model = SVC(kernel='rbf', C=10, gamma='auto',)\n",
    "\n",
    "# Fit the model on the training data\n",
    "svm_rbf_model.fit(X_train, y_train)\n",
    "\n",
    "# Make predictions on the test data\n",
    "y_pred_rbf = svm_rbf_model.predict(X_test)\n",
    "\n",
    "KNN_metrics(y_test, y_pred_rbf)"
   ]
  }
 ],
 "metadata": {
  "colab": {
   "provenance": []
  },
  "kernelspec": {
   "display_name": "Python 3",
   "language": "python",
   "name": "python3"
  },
  "language_info": {
   "codemirror_mode": {
    "name": "ipython",
    "version": 3
   },
   "file_extension": ".py",
   "mimetype": "text/x-python",
   "name": "python",
   "nbconvert_exporter": "python",
   "pygments_lexer": "ipython3",
   "version": "3.7.3"
  }
 },
 "nbformat": 4,
 "nbformat_minor": 4
}
