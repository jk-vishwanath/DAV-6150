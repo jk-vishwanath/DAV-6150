{
 "cells": [
  {
   "cell_type": "markdown",
   "metadata": {},
   "source": [
    "**Module 5 Assignment - 1**\n",
    "By Group 2: Jyothi K Vishwanath, Praveen Maranur, Dheeraj Singh and Niyanta Pandey"
   ]
  },
  {
   "cell_type": "markdown",
   "metadata": {
    "id": "TwAH-Dh2y74R"
   },
   "source": [
    "# **Introduction**\n",
    "In this assignment, we aim to evaluate the performance of a binary classification model using a combination of custom Python functions and pre-built functions from the `scikit-learn` library. The dataset provided contains approximately 180 observations, each with a binary classification (`0` or `1`). Our tasks include calculating various performance metrics such as accuracy, precision, recall, specificity, F1 score, and the Area Under the Curve (AUC) for the Receiver Operating Characteristic (ROC) curve.\n",
    "\n"
   ]
  },
  {
   "cell_type": "markdown",
   "metadata": {
    "id": "eDbZZrfRzfi6"
   },
   "source": [
    "\n",
    "We will perform the following steps:\n",
    "1. Read dataset from github repository. \n",
    "2. Load dataset into pandas dataframe. \n",
    "3. Create confusion matrix sing crosstab function in pandas. \n",
    "4. Extract True Positive, False Positive, True Negative and False Negative metrics from confusion  matrix.  \n",
    "5. Calculate Accuracy using User defined function. \n",
    "6. Calculate Precision using User defined function. \n",
    "7. Calculate Sensitivity(Recall) using User defined function. \n",
    "8. Calculate Specificity using User definned function. \n",
    "9. Calculate F1 Score using User defined function. \n",
    "10. ROC Curve and AUC calculation using user defined function. \n",
    "11. Invoking/Calling User defined functions.\n",
    "12. Comparison of metrics with scikit-learn pre defined functions. \n",
    "13. Comparison of ROC AUC curve with scikit line pre defined function generated curve. "
   ]
  },
  {
   "cell_type": "code",
   "execution_count": null,
   "metadata": {
    "id": "jC0k_rqM84WJ"
   },
   "outputs": [],
   "source": [
    "# Importing neccessary libraries\n",
    "import pandas as pd\n",
    "import numpy as np\n",
    "import matplotlib.pyplot as plt\n",
    "import seaborn as sns"
   ]
  },
  {
   "cell_type": "markdown",
   "metadata": {
    "id": "a1xIcLDcDNAd"
   },
   "source": [
    "## Step 1 & 2:\n",
    "Reading the data set from Github repository and load it into a Pandas dataframe\n"
   ]
  },
  {
   "cell_type": "code",
   "execution_count": null,
   "metadata": {
    "colab": {
     "base_uri": "https://localhost:8080/",
     "height": 206
    },
    "id": "OXQqWyxa87qT",
    "outputId": "01ed6ce0-a3d5-4e0f-c03e-51c79a7650f0"
   },
   "outputs": [
    {
     "data": {
      "application/vnd.google.colaboratory.intrinsic+json": {
       "summary": "{\n  \"name\": \"df\",\n  \"rows\": 181,\n  \"fields\": [\n    {\n      \"column\": \"pregnant\",\n      \"properties\": {\n        \"dtype\": \"number\",\n        \"std\": 3,\n        \"min\": 0,\n        \"max\": 15,\n        \"num_unique_values\": 15,\n        \"samples\": [\n          0,\n          6,\n          7\n        ],\n        \"semantic_type\": \"\",\n        \"description\": \"\"\n      }\n    },\n    {\n      \"column\": \"glucose\",\n      \"properties\": {\n        \"dtype\": \"number\",\n        \"std\": 30,\n        \"min\": 57,\n        \"max\": 197,\n        \"num_unique_values\": 89,\n        \"samples\": [\n          147,\n          154,\n          187\n        ],\n        \"semantic_type\": \"\",\n        \"description\": \"\"\n      }\n    },\n    {\n      \"column\": \"diastolic\",\n      \"properties\": {\n        \"dtype\": \"number\",\n        \"std\": 11,\n        \"min\": 38,\n        \"max\": 104,\n        \"num_unique_values\": 33,\n        \"samples\": [\n          94,\n          88,\n          80\n        ],\n        \"semantic_type\": \"\",\n        \"description\": \"\"\n      }\n    },\n    {\n      \"column\": \"skinfold\",\n      \"properties\": {\n        \"dtype\": \"number\",\n        \"std\": 15,\n        \"min\": 0,\n        \"max\": 54,\n        \"num_unique_values\": 43,\n        \"samples\": [\n          20,\n          35,\n          38\n        ],\n        \"semantic_type\": \"\",\n        \"description\": \"\"\n      }\n    },\n    {\n      \"column\": \"insulin\",\n      \"properties\": {\n        \"dtype\": \"number\",\n        \"std\": 88,\n        \"min\": 0,\n        \"max\": 543,\n        \"num_unique_values\": 65,\n        \"samples\": [\n          125,\n          122,\n          215\n        ],\n        \"semantic_type\": \"\",\n        \"description\": \"\"\n      }\n    },\n    {\n      \"column\": \"bmi\",\n      \"properties\": {\n        \"dtype\": \"number\",\n        \"std\": 6.659934768703715,\n        \"min\": 19.4,\n        \"max\": 50.0,\n        \"num_unique_values\": 123,\n        \"samples\": [\n          40.5,\n          31.9,\n          39.4\n        ],\n        \"semantic_type\": \"\",\n        \"description\": \"\"\n      }\n    },\n    {\n      \"column\": \"pedigree\",\n      \"properties\": {\n        \"dtype\": \"number\",\n        \"std\": 0.28400557171234986,\n        \"min\": 0.085,\n        \"max\": 2.288,\n        \"num_unique_values\": 161,\n        \"samples\": [\n          0.293,\n          0.141,\n          0.187\n        ],\n        \"semantic_type\": \"\",\n        \"description\": \"\"\n      }\n    },\n    {\n      \"column\": \"age\",\n      \"properties\": {\n        \"dtype\": \"number\",\n        \"std\": 11,\n        \"min\": 21,\n        \"max\": 67,\n        \"num_unique_values\": 41,\n        \"samples\": [\n          50,\n          32,\n          41\n        ],\n        \"semantic_type\": \"\",\n        \"description\": \"\"\n      }\n    },\n    {\n      \"column\": \"class\",\n      \"properties\": {\n        \"dtype\": \"number\",\n        \"std\": 0,\n        \"min\": 0,\n        \"max\": 1,\n        \"num_unique_values\": 2,\n        \"samples\": [\n          1,\n          0\n        ],\n        \"semantic_type\": \"\",\n        \"description\": \"\"\n      }\n    },\n    {\n      \"column\": \"scored.class\",\n      \"properties\": {\n        \"dtype\": \"number\",\n        \"std\": 0,\n        \"min\": 0,\n        \"max\": 1,\n        \"num_unique_values\": 2,\n        \"samples\": [\n          1,\n          0\n        ],\n        \"semantic_type\": \"\",\n        \"description\": \"\"\n      }\n    },\n    {\n      \"column\": \"scored.probability\",\n      \"properties\": {\n        \"dtype\": \"number\",\n        \"std\": 0.23123462807425746,\n        \"min\": 0.023228027,\n        \"max\": 0.946334183,\n        \"num_unique_values\": 181,\n        \"samples\": [\n          0.144916177,\n          0.187961385\n        ],\n        \"semantic_type\": \"\",\n        \"description\": \"\"\n      }\n    }\n  ]\n}",
       "type": "dataframe",
       "variable_name": "df"
      },
      "text/html": [
       "\n",
       "  <div id=\"df-2dbc3402-9bf7-4a78-967f-ca3ddf9d384d\" class=\"colab-df-container\">\n",
       "    <div>\n",
       "<style scoped>\n",
       "    .dataframe tbody tr th:only-of-type {\n",
       "        vertical-align: middle;\n",
       "    }\n",
       "\n",
       "    .dataframe tbody tr th {\n",
       "        vertical-align: top;\n",
       "    }\n",
       "\n",
       "    .dataframe thead th {\n",
       "        text-align: right;\n",
       "    }\n",
       "</style>\n",
       "<table border=\"1\" class=\"dataframe\">\n",
       "  <thead>\n",
       "    <tr style=\"text-align: right;\">\n",
       "      <th></th>\n",
       "      <th>pregnant</th>\n",
       "      <th>glucose</th>\n",
       "      <th>diastolic</th>\n",
       "      <th>skinfold</th>\n",
       "      <th>insulin</th>\n",
       "      <th>bmi</th>\n",
       "      <th>pedigree</th>\n",
       "      <th>age</th>\n",
       "      <th>class</th>\n",
       "      <th>scored.class</th>\n",
       "      <th>scored.probability</th>\n",
       "    </tr>\n",
       "  </thead>\n",
       "  <tbody>\n",
       "    <tr>\n",
       "      <th>0</th>\n",
       "      <td>7</td>\n",
       "      <td>124</td>\n",
       "      <td>70</td>\n",
       "      <td>33</td>\n",
       "      <td>215</td>\n",
       "      <td>25.5</td>\n",
       "      <td>0.161</td>\n",
       "      <td>37</td>\n",
       "      <td>0</td>\n",
       "      <td>0</td>\n",
       "      <td>0.328452</td>\n",
       "    </tr>\n",
       "    <tr>\n",
       "      <th>1</th>\n",
       "      <td>2</td>\n",
       "      <td>122</td>\n",
       "      <td>76</td>\n",
       "      <td>27</td>\n",
       "      <td>200</td>\n",
       "      <td>35.9</td>\n",
       "      <td>0.483</td>\n",
       "      <td>26</td>\n",
       "      <td>0</td>\n",
       "      <td>0</td>\n",
       "      <td>0.273190</td>\n",
       "    </tr>\n",
       "    <tr>\n",
       "      <th>2</th>\n",
       "      <td>3</td>\n",
       "      <td>107</td>\n",
       "      <td>62</td>\n",
       "      <td>13</td>\n",
       "      <td>48</td>\n",
       "      <td>22.9</td>\n",
       "      <td>0.678</td>\n",
       "      <td>23</td>\n",
       "      <td>1</td>\n",
       "      <td>0</td>\n",
       "      <td>0.109660</td>\n",
       "    </tr>\n",
       "    <tr>\n",
       "      <th>3</th>\n",
       "      <td>1</td>\n",
       "      <td>91</td>\n",
       "      <td>64</td>\n",
       "      <td>24</td>\n",
       "      <td>0</td>\n",
       "      <td>29.2</td>\n",
       "      <td>0.192</td>\n",
       "      <td>21</td>\n",
       "      <td>0</td>\n",
       "      <td>0</td>\n",
       "      <td>0.055998</td>\n",
       "    </tr>\n",
       "    <tr>\n",
       "      <th>4</th>\n",
       "      <td>4</td>\n",
       "      <td>83</td>\n",
       "      <td>86</td>\n",
       "      <td>19</td>\n",
       "      <td>0</td>\n",
       "      <td>29.3</td>\n",
       "      <td>0.317</td>\n",
       "      <td>34</td>\n",
       "      <td>0</td>\n",
       "      <td>0</td>\n",
       "      <td>0.100491</td>\n",
       "    </tr>\n",
       "  </tbody>\n",
       "</table>\n",
       "</div>\n",
       "    <div class=\"colab-df-buttons\">\n",
       "\n",
       "  <div class=\"colab-df-container\">\n",
       "    <button class=\"colab-df-convert\" onclick=\"convertToInteractive('df-2dbc3402-9bf7-4a78-967f-ca3ddf9d384d')\"\n",
       "            title=\"Convert this dataframe to an interactive table.\"\n",
       "            style=\"display:none;\">\n",
       "\n",
       "  <svg xmlns=\"http://www.w3.org/2000/svg\" height=\"24px\" viewBox=\"0 -960 960 960\">\n",
       "    <path d=\"M120-120v-720h720v720H120Zm60-500h600v-160H180v160Zm220 220h160v-160H400v160Zm0 220h160v-160H400v160ZM180-400h160v-160H180v160Zm440 0h160v-160H620v160ZM180-180h160v-160H180v160Zm440 0h160v-160H620v160Z\"/>\n",
       "  </svg>\n",
       "    </button>\n",
       "\n",
       "  <style>\n",
       "    .colab-df-container {\n",
       "      display:flex;\n",
       "      gap: 12px;\n",
       "    }\n",
       "\n",
       "    .colab-df-convert {\n",
       "      background-color: #E8F0FE;\n",
       "      border: none;\n",
       "      border-radius: 50%;\n",
       "      cursor: pointer;\n",
       "      display: none;\n",
       "      fill: #1967D2;\n",
       "      height: 32px;\n",
       "      padding: 0 0 0 0;\n",
       "      width: 32px;\n",
       "    }\n",
       "\n",
       "    .colab-df-convert:hover {\n",
       "      background-color: #E2EBFA;\n",
       "      box-shadow: 0px 1px 2px rgba(60, 64, 67, 0.3), 0px 1px 3px 1px rgba(60, 64, 67, 0.15);\n",
       "      fill: #174EA6;\n",
       "    }\n",
       "\n",
       "    .colab-df-buttons div {\n",
       "      margin-bottom: 4px;\n",
       "    }\n",
       "\n",
       "    [theme=dark] .colab-df-convert {\n",
       "      background-color: #3B4455;\n",
       "      fill: #D2E3FC;\n",
       "    }\n",
       "\n",
       "    [theme=dark] .colab-df-convert:hover {\n",
       "      background-color: #434B5C;\n",
       "      box-shadow: 0px 1px 3px 1px rgba(0, 0, 0, 0.15);\n",
       "      filter: drop-shadow(0px 1px 2px rgba(0, 0, 0, 0.3));\n",
       "      fill: #FFFFFF;\n",
       "    }\n",
       "  </style>\n",
       "\n",
       "    <script>\n",
       "      const buttonEl =\n",
       "        document.querySelector('#df-2dbc3402-9bf7-4a78-967f-ca3ddf9d384d button.colab-df-convert');\n",
       "      buttonEl.style.display =\n",
       "        google.colab.kernel.accessAllowed ? 'block' : 'none';\n",
       "\n",
       "      async function convertToInteractive(key) {\n",
       "        const element = document.querySelector('#df-2dbc3402-9bf7-4a78-967f-ca3ddf9d384d');\n",
       "        const dataTable =\n",
       "          await google.colab.kernel.invokeFunction('convertToInteractive',\n",
       "                                                    [key], {});\n",
       "        if (!dataTable) return;\n",
       "\n",
       "        const docLinkHtml = 'Like what you see? Visit the ' +\n",
       "          '<a target=\"_blank\" href=https://colab.research.google.com/notebooks/data_table.ipynb>data table notebook</a>'\n",
       "          + ' to learn more about interactive tables.';\n",
       "        element.innerHTML = '';\n",
       "        dataTable['output_type'] = 'display_data';\n",
       "        await google.colab.output.renderOutput(dataTable, element);\n",
       "        const docLink = document.createElement('div');\n",
       "        docLink.innerHTML = docLinkHtml;\n",
       "        element.appendChild(docLink);\n",
       "      }\n",
       "    </script>\n",
       "  </div>\n",
       "\n",
       "\n",
       "<div id=\"df-73d5dff5-bd48-4f32-b53e-53693f712034\">\n",
       "  <button class=\"colab-df-quickchart\" onclick=\"quickchart('df-73d5dff5-bd48-4f32-b53e-53693f712034')\"\n",
       "            title=\"Suggest charts\"\n",
       "            style=\"display:none;\">\n",
       "\n",
       "<svg xmlns=\"http://www.w3.org/2000/svg\" height=\"24px\"viewBox=\"0 0 24 24\"\n",
       "     width=\"24px\">\n",
       "    <g>\n",
       "        <path d=\"M19 3H5c-1.1 0-2 .9-2 2v14c0 1.1.9 2 2 2h14c1.1 0 2-.9 2-2V5c0-1.1-.9-2-2-2zM9 17H7v-7h2v7zm4 0h-2V7h2v10zm4 0h-2v-4h2v4z\"/>\n",
       "    </g>\n",
       "</svg>\n",
       "  </button>\n",
       "\n",
       "<style>\n",
       "  .colab-df-quickchart {\n",
       "      --bg-color: #E8F0FE;\n",
       "      --fill-color: #1967D2;\n",
       "      --hover-bg-color: #E2EBFA;\n",
       "      --hover-fill-color: #174EA6;\n",
       "      --disabled-fill-color: #AAA;\n",
       "      --disabled-bg-color: #DDD;\n",
       "  }\n",
       "\n",
       "  [theme=dark] .colab-df-quickchart {\n",
       "      --bg-color: #3B4455;\n",
       "      --fill-color: #D2E3FC;\n",
       "      --hover-bg-color: #434B5C;\n",
       "      --hover-fill-color: #FFFFFF;\n",
       "      --disabled-bg-color: #3B4455;\n",
       "      --disabled-fill-color: #666;\n",
       "  }\n",
       "\n",
       "  .colab-df-quickchart {\n",
       "    background-color: var(--bg-color);\n",
       "    border: none;\n",
       "    border-radius: 50%;\n",
       "    cursor: pointer;\n",
       "    display: none;\n",
       "    fill: var(--fill-color);\n",
       "    height: 32px;\n",
       "    padding: 0;\n",
       "    width: 32px;\n",
       "  }\n",
       "\n",
       "  .colab-df-quickchart:hover {\n",
       "    background-color: var(--hover-bg-color);\n",
       "    box-shadow: 0 1px 2px rgba(60, 64, 67, 0.3), 0 1px 3px 1px rgba(60, 64, 67, 0.15);\n",
       "    fill: var(--button-hover-fill-color);\n",
       "  }\n",
       "\n",
       "  .colab-df-quickchart-complete:disabled,\n",
       "  .colab-df-quickchart-complete:disabled:hover {\n",
       "    background-color: var(--disabled-bg-color);\n",
       "    fill: var(--disabled-fill-color);\n",
       "    box-shadow: none;\n",
       "  }\n",
       "\n",
       "  .colab-df-spinner {\n",
       "    border: 2px solid var(--fill-color);\n",
       "    border-color: transparent;\n",
       "    border-bottom-color: var(--fill-color);\n",
       "    animation:\n",
       "      spin 1s steps(1) infinite;\n",
       "  }\n",
       "\n",
       "  @keyframes spin {\n",
       "    0% {\n",
       "      border-color: transparent;\n",
       "      border-bottom-color: var(--fill-color);\n",
       "      border-left-color: var(--fill-color);\n",
       "    }\n",
       "    20% {\n",
       "      border-color: transparent;\n",
       "      border-left-color: var(--fill-color);\n",
       "      border-top-color: var(--fill-color);\n",
       "    }\n",
       "    30% {\n",
       "      border-color: transparent;\n",
       "      border-left-color: var(--fill-color);\n",
       "      border-top-color: var(--fill-color);\n",
       "      border-right-color: var(--fill-color);\n",
       "    }\n",
       "    40% {\n",
       "      border-color: transparent;\n",
       "      border-right-color: var(--fill-color);\n",
       "      border-top-color: var(--fill-color);\n",
       "    }\n",
       "    60% {\n",
       "      border-color: transparent;\n",
       "      border-right-color: var(--fill-color);\n",
       "    }\n",
       "    80% {\n",
       "      border-color: transparent;\n",
       "      border-right-color: var(--fill-color);\n",
       "      border-bottom-color: var(--fill-color);\n",
       "    }\n",
       "    90% {\n",
       "      border-color: transparent;\n",
       "      border-bottom-color: var(--fill-color);\n",
       "    }\n",
       "  }\n",
       "</style>\n",
       "\n",
       "  <script>\n",
       "    async function quickchart(key) {\n",
       "      const quickchartButtonEl =\n",
       "        document.querySelector('#' + key + ' button');\n",
       "      quickchartButtonEl.disabled = true;  // To prevent multiple clicks.\n",
       "      quickchartButtonEl.classList.add('colab-df-spinner');\n",
       "      try {\n",
       "        const charts = await google.colab.kernel.invokeFunction(\n",
       "            'suggestCharts', [key], {});\n",
       "      } catch (error) {\n",
       "        console.error('Error during call to suggestCharts:', error);\n",
       "      }\n",
       "      quickchartButtonEl.classList.remove('colab-df-spinner');\n",
       "      quickchartButtonEl.classList.add('colab-df-quickchart-complete');\n",
       "    }\n",
       "    (() => {\n",
       "      let quickchartButtonEl =\n",
       "        document.querySelector('#df-73d5dff5-bd48-4f32-b53e-53693f712034 button');\n",
       "      quickchartButtonEl.style.display =\n",
       "        google.colab.kernel.accessAllowed ? 'block' : 'none';\n",
       "    })();\n",
       "  </script>\n",
       "</div>\n",
       "\n",
       "    </div>\n",
       "  </div>\n"
      ],
      "text/plain": [
       "   pregnant  glucose  diastolic  skinfold  insulin   bmi  pedigree  age  \\\n",
       "0         7      124         70        33      215  25.5     0.161   37   \n",
       "1         2      122         76        27      200  35.9     0.483   26   \n",
       "2         3      107         62        13       48  22.9     0.678   23   \n",
       "3         1       91         64        24        0  29.2     0.192   21   \n",
       "4         4       83         86        19        0  29.3     0.317   34   \n",
       "\n",
       "   class  scored.class  scored.probability  \n",
       "0      0             0            0.328452  \n",
       "1      0             0            0.273190  \n",
       "2      1             0            0.109660  \n",
       "3      0             0            0.055998  \n",
       "4      0             0            0.100491  "
      ]
     },
     "execution_count": 3,
     "metadata": {},
     "output_type": "execute_result"
    }
   ],
   "source": [
    "# Step 1 & 2\n",
    "url = 'https://raw.githubusercontent.com/jk-vishwanath/DAV-6150/refs/heads/main/M5_Data.csv'\n",
    "df = pd.read_csv(url)\n",
    "df.head()"
   ]
  },
  {
   "cell_type": "markdown",
   "metadata": {
    "id": "vne_mr_PDQts"
   },
   "source": [
    "**Creating a new DataFrame, `new_df`, to assign new column names for simplification.**\n"
   ]
  },
  {
   "cell_type": "code",
   "execution_count": null,
   "metadata": {
    "id": "ieyh-yX28_BP"
   },
   "outputs": [],
   "source": [
    "new_df = df[['class','scored.class','scored.probability']]\n",
    "new_df.columns = ['Actual_Class', 'Predicted_Class', 'Predic_probability']"
   ]
  },
  {
   "cell_type": "markdown",
   "metadata": {
    "id": "lWVtt5oLDe5w"
   },
   "source": [
    "## Step 3:\n",
    "**Using crosstab() function from pandas to create Confusion matrix and verifying the content**"
   ]
  },
  {
   "cell_type": "code",
   "execution_count": null,
   "metadata": {
    "colab": {
     "base_uri": "https://localhost:8080/",
     "height": 143
    },
    "id": "sAfCs9PW9LLJ",
    "outputId": "5f436575-5d36-44b8-b32c-52b69aff7291"
   },
   "outputs": [
    {
     "data": {
      "application/vnd.google.colaboratory.intrinsic+json": {
       "summary": "{\n  \"name\": \"conf_matrix\",\n  \"rows\": 2,\n  \"fields\": [\n    {\n      \"column\": \"Actual_Class\",\n      \"properties\": {\n        \"dtype\": \"number\",\n        \"std\": 0,\n        \"min\": 0,\n        \"max\": 1,\n        \"num_unique_values\": 2,\n        \"samples\": [\n          1,\n          0\n        ],\n        \"semantic_type\": \"\",\n        \"description\": \"\"\n      }\n    },\n    {\n      \"column\": 0,\n      \"properties\": {\n        \"dtype\": \"number\",\n        \"std\": 62,\n        \"min\": 30,\n        \"max\": 119,\n        \"num_unique_values\": 2,\n        \"samples\": [\n          30,\n          119\n        ],\n        \"semantic_type\": \"\",\n        \"description\": \"\"\n      }\n    },\n    {\n      \"column\": 1,\n      \"properties\": {\n        \"dtype\": \"number\",\n        \"std\": 15,\n        \"min\": 5,\n        \"max\": 27,\n        \"num_unique_values\": 2,\n        \"samples\": [\n          27,\n          5\n        ],\n        \"semantic_type\": \"\",\n        \"description\": \"\"\n      }\n    }\n  ]\n}",
       "type": "dataframe",
       "variable_name": "conf_matrix"
      },
      "text/html": [
       "\n",
       "  <div id=\"df-5c4d6df7-43e1-4ad6-a851-b6c592ec4417\" class=\"colab-df-container\">\n",
       "    <div>\n",
       "<style scoped>\n",
       "    .dataframe tbody tr th:only-of-type {\n",
       "        vertical-align: middle;\n",
       "    }\n",
       "\n",
       "    .dataframe tbody tr th {\n",
       "        vertical-align: top;\n",
       "    }\n",
       "\n",
       "    .dataframe thead th {\n",
       "        text-align: right;\n",
       "    }\n",
       "</style>\n",
       "<table border=\"1\" class=\"dataframe\">\n",
       "  <thead>\n",
       "    <tr style=\"text-align: right;\">\n",
       "      <th>Predicted_Class</th>\n",
       "      <th>0</th>\n",
       "      <th>1</th>\n",
       "    </tr>\n",
       "    <tr>\n",
       "      <th>Actual_Class</th>\n",
       "      <th></th>\n",
       "      <th></th>\n",
       "    </tr>\n",
       "  </thead>\n",
       "  <tbody>\n",
       "    <tr>\n",
       "      <th>0</th>\n",
       "      <td>119</td>\n",
       "      <td>5</td>\n",
       "    </tr>\n",
       "    <tr>\n",
       "      <th>1</th>\n",
       "      <td>30</td>\n",
       "      <td>27</td>\n",
       "    </tr>\n",
       "  </tbody>\n",
       "</table>\n",
       "</div>\n",
       "    <div class=\"colab-df-buttons\">\n",
       "\n",
       "  <div class=\"colab-df-container\">\n",
       "    <button class=\"colab-df-convert\" onclick=\"convertToInteractive('df-5c4d6df7-43e1-4ad6-a851-b6c592ec4417')\"\n",
       "            title=\"Convert this dataframe to an interactive table.\"\n",
       "            style=\"display:none;\">\n",
       "\n",
       "  <svg xmlns=\"http://www.w3.org/2000/svg\" height=\"24px\" viewBox=\"0 -960 960 960\">\n",
       "    <path d=\"M120-120v-720h720v720H120Zm60-500h600v-160H180v160Zm220 220h160v-160H400v160Zm0 220h160v-160H400v160ZM180-400h160v-160H180v160Zm440 0h160v-160H620v160ZM180-180h160v-160H180v160Zm440 0h160v-160H620v160Z\"/>\n",
       "  </svg>\n",
       "    </button>\n",
       "\n",
       "  <style>\n",
       "    .colab-df-container {\n",
       "      display:flex;\n",
       "      gap: 12px;\n",
       "    }\n",
       "\n",
       "    .colab-df-convert {\n",
       "      background-color: #E8F0FE;\n",
       "      border: none;\n",
       "      border-radius: 50%;\n",
       "      cursor: pointer;\n",
       "      display: none;\n",
       "      fill: #1967D2;\n",
       "      height: 32px;\n",
       "      padding: 0 0 0 0;\n",
       "      width: 32px;\n",
       "    }\n",
       "\n",
       "    .colab-df-convert:hover {\n",
       "      background-color: #E2EBFA;\n",
       "      box-shadow: 0px 1px 2px rgba(60, 64, 67, 0.3), 0px 1px 3px 1px rgba(60, 64, 67, 0.15);\n",
       "      fill: #174EA6;\n",
       "    }\n",
       "\n",
       "    .colab-df-buttons div {\n",
       "      margin-bottom: 4px;\n",
       "    }\n",
       "\n",
       "    [theme=dark] .colab-df-convert {\n",
       "      background-color: #3B4455;\n",
       "      fill: #D2E3FC;\n",
       "    }\n",
       "\n",
       "    [theme=dark] .colab-df-convert:hover {\n",
       "      background-color: #434B5C;\n",
       "      box-shadow: 0px 1px 3px 1px rgba(0, 0, 0, 0.15);\n",
       "      filter: drop-shadow(0px 1px 2px rgba(0, 0, 0, 0.3));\n",
       "      fill: #FFFFFF;\n",
       "    }\n",
       "  </style>\n",
       "\n",
       "    <script>\n",
       "      const buttonEl =\n",
       "        document.querySelector('#df-5c4d6df7-43e1-4ad6-a851-b6c592ec4417 button.colab-df-convert');\n",
       "      buttonEl.style.display =\n",
       "        google.colab.kernel.accessAllowed ? 'block' : 'none';\n",
       "\n",
       "      async function convertToInteractive(key) {\n",
       "        const element = document.querySelector('#df-5c4d6df7-43e1-4ad6-a851-b6c592ec4417');\n",
       "        const dataTable =\n",
       "          await google.colab.kernel.invokeFunction('convertToInteractive',\n",
       "                                                    [key], {});\n",
       "        if (!dataTable) return;\n",
       "\n",
       "        const docLinkHtml = 'Like what you see? Visit the ' +\n",
       "          '<a target=\"_blank\" href=https://colab.research.google.com/notebooks/data_table.ipynb>data table notebook</a>'\n",
       "          + ' to learn more about interactive tables.';\n",
       "        element.innerHTML = '';\n",
       "        dataTable['output_type'] = 'display_data';\n",
       "        await google.colab.output.renderOutput(dataTable, element);\n",
       "        const docLink = document.createElement('div');\n",
       "        docLink.innerHTML = docLinkHtml;\n",
       "        element.appendChild(docLink);\n",
       "      }\n",
       "    </script>\n",
       "  </div>\n",
       "\n",
       "\n",
       "<div id=\"df-b31aa8be-f904-4104-8cbb-2de0149dff6f\">\n",
       "  <button class=\"colab-df-quickchart\" onclick=\"quickchart('df-b31aa8be-f904-4104-8cbb-2de0149dff6f')\"\n",
       "            title=\"Suggest charts\"\n",
       "            style=\"display:none;\">\n",
       "\n",
       "<svg xmlns=\"http://www.w3.org/2000/svg\" height=\"24px\"viewBox=\"0 0 24 24\"\n",
       "     width=\"24px\">\n",
       "    <g>\n",
       "        <path d=\"M19 3H5c-1.1 0-2 .9-2 2v14c0 1.1.9 2 2 2h14c1.1 0 2-.9 2-2V5c0-1.1-.9-2-2-2zM9 17H7v-7h2v7zm4 0h-2V7h2v10zm4 0h-2v-4h2v4z\"/>\n",
       "    </g>\n",
       "</svg>\n",
       "  </button>\n",
       "\n",
       "<style>\n",
       "  .colab-df-quickchart {\n",
       "      --bg-color: #E8F0FE;\n",
       "      --fill-color: #1967D2;\n",
       "      --hover-bg-color: #E2EBFA;\n",
       "      --hover-fill-color: #174EA6;\n",
       "      --disabled-fill-color: #AAA;\n",
       "      --disabled-bg-color: #DDD;\n",
       "  }\n",
       "\n",
       "  [theme=dark] .colab-df-quickchart {\n",
       "      --bg-color: #3B4455;\n",
       "      --fill-color: #D2E3FC;\n",
       "      --hover-bg-color: #434B5C;\n",
       "      --hover-fill-color: #FFFFFF;\n",
       "      --disabled-bg-color: #3B4455;\n",
       "      --disabled-fill-color: #666;\n",
       "  }\n",
       "\n",
       "  .colab-df-quickchart {\n",
       "    background-color: var(--bg-color);\n",
       "    border: none;\n",
       "    border-radius: 50%;\n",
       "    cursor: pointer;\n",
       "    display: none;\n",
       "    fill: var(--fill-color);\n",
       "    height: 32px;\n",
       "    padding: 0;\n",
       "    width: 32px;\n",
       "  }\n",
       "\n",
       "  .colab-df-quickchart:hover {\n",
       "    background-color: var(--hover-bg-color);\n",
       "    box-shadow: 0 1px 2px rgba(60, 64, 67, 0.3), 0 1px 3px 1px rgba(60, 64, 67, 0.15);\n",
       "    fill: var(--button-hover-fill-color);\n",
       "  }\n",
       "\n",
       "  .colab-df-quickchart-complete:disabled,\n",
       "  .colab-df-quickchart-complete:disabled:hover {\n",
       "    background-color: var(--disabled-bg-color);\n",
       "    fill: var(--disabled-fill-color);\n",
       "    box-shadow: none;\n",
       "  }\n",
       "\n",
       "  .colab-df-spinner {\n",
       "    border: 2px solid var(--fill-color);\n",
       "    border-color: transparent;\n",
       "    border-bottom-color: var(--fill-color);\n",
       "    animation:\n",
       "      spin 1s steps(1) infinite;\n",
       "  }\n",
       "\n",
       "  @keyframes spin {\n",
       "    0% {\n",
       "      border-color: transparent;\n",
       "      border-bottom-color: var(--fill-color);\n",
       "      border-left-color: var(--fill-color);\n",
       "    }\n",
       "    20% {\n",
       "      border-color: transparent;\n",
       "      border-left-color: var(--fill-color);\n",
       "      border-top-color: var(--fill-color);\n",
       "    }\n",
       "    30% {\n",
       "      border-color: transparent;\n",
       "      border-left-color: var(--fill-color);\n",
       "      border-top-color: var(--fill-color);\n",
       "      border-right-color: var(--fill-color);\n",
       "    }\n",
       "    40% {\n",
       "      border-color: transparent;\n",
       "      border-right-color: var(--fill-color);\n",
       "      border-top-color: var(--fill-color);\n",
       "    }\n",
       "    60% {\n",
       "      border-color: transparent;\n",
       "      border-right-color: var(--fill-color);\n",
       "    }\n",
       "    80% {\n",
       "      border-color: transparent;\n",
       "      border-right-color: var(--fill-color);\n",
       "      border-bottom-color: var(--fill-color);\n",
       "    }\n",
       "    90% {\n",
       "      border-color: transparent;\n",
       "      border-bottom-color: var(--fill-color);\n",
       "    }\n",
       "  }\n",
       "</style>\n",
       "\n",
       "  <script>\n",
       "    async function quickchart(key) {\n",
       "      const quickchartButtonEl =\n",
       "        document.querySelector('#' + key + ' button');\n",
       "      quickchartButtonEl.disabled = true;  // To prevent multiple clicks.\n",
       "      quickchartButtonEl.classList.add('colab-df-spinner');\n",
       "      try {\n",
       "        const charts = await google.colab.kernel.invokeFunction(\n",
       "            'suggestCharts', [key], {});\n",
       "      } catch (error) {\n",
       "        console.error('Error during call to suggestCharts:', error);\n",
       "      }\n",
       "      quickchartButtonEl.classList.remove('colab-df-spinner');\n",
       "      quickchartButtonEl.classList.add('colab-df-quickchart-complete');\n",
       "    }\n",
       "    (() => {\n",
       "      let quickchartButtonEl =\n",
       "        document.querySelector('#df-b31aa8be-f904-4104-8cbb-2de0149dff6f button');\n",
       "      quickchartButtonEl.style.display =\n",
       "        google.colab.kernel.accessAllowed ? 'block' : 'none';\n",
       "    })();\n",
       "  </script>\n",
       "</div>\n",
       "\n",
       "  <div id=\"id_b3daaad3-b9e2-4b4d-9079-ca56b631aa9f\">\n",
       "    <style>\n",
       "      .colab-df-generate {\n",
       "        background-color: #E8F0FE;\n",
       "        border: none;\n",
       "        border-radius: 50%;\n",
       "        cursor: pointer;\n",
       "        display: none;\n",
       "        fill: #1967D2;\n",
       "        height: 32px;\n",
       "        padding: 0 0 0 0;\n",
       "        width: 32px;\n",
       "      }\n",
       "\n",
       "      .colab-df-generate:hover {\n",
       "        background-color: #E2EBFA;\n",
       "        box-shadow: 0px 1px 2px rgba(60, 64, 67, 0.3), 0px 1px 3px 1px rgba(60, 64, 67, 0.15);\n",
       "        fill: #174EA6;\n",
       "      }\n",
       "\n",
       "      [theme=dark] .colab-df-generate {\n",
       "        background-color: #3B4455;\n",
       "        fill: #D2E3FC;\n",
       "      }\n",
       "\n",
       "      [theme=dark] .colab-df-generate:hover {\n",
       "        background-color: #434B5C;\n",
       "        box-shadow: 0px 1px 3px 1px rgba(0, 0, 0, 0.15);\n",
       "        filter: drop-shadow(0px 1px 2px rgba(0, 0, 0, 0.3));\n",
       "        fill: #FFFFFF;\n",
       "      }\n",
       "    </style>\n",
       "    <button class=\"colab-df-generate\" onclick=\"generateWithVariable('conf_matrix')\"\n",
       "            title=\"Generate code using this dataframe.\"\n",
       "            style=\"display:none;\">\n",
       "\n",
       "  <svg xmlns=\"http://www.w3.org/2000/svg\" height=\"24px\"viewBox=\"0 0 24 24\"\n",
       "       width=\"24px\">\n",
       "    <path d=\"M7,19H8.4L18.45,9,17,7.55,7,17.6ZM5,21V16.75L18.45,3.32a2,2,0,0,1,2.83,0l1.4,1.43a1.91,1.91,0,0,1,.58,1.4,1.91,1.91,0,0,1-.58,1.4L9.25,21ZM18.45,9,17,7.55Zm-12,3A5.31,5.31,0,0,0,4.9,8.1,5.31,5.31,0,0,0,1,6.5,5.31,5.31,0,0,0,4.9,4.9,5.31,5.31,0,0,0,6.5,1,5.31,5.31,0,0,0,8.1,4.9,5.31,5.31,0,0,0,12,6.5,5.46,5.46,0,0,0,6.5,12Z\"/>\n",
       "  </svg>\n",
       "    </button>\n",
       "    <script>\n",
       "      (() => {\n",
       "      const buttonEl =\n",
       "        document.querySelector('#id_b3daaad3-b9e2-4b4d-9079-ca56b631aa9f button.colab-df-generate');\n",
       "      buttonEl.style.display =\n",
       "        google.colab.kernel.accessAllowed ? 'block' : 'none';\n",
       "\n",
       "      buttonEl.onclick = () => {\n",
       "        google.colab.notebook.generateWithVariable('conf_matrix');\n",
       "      }\n",
       "      })();\n",
       "    </script>\n",
       "  </div>\n",
       "\n",
       "    </div>\n",
       "  </div>\n"
      ],
      "text/plain": [
       "Predicted_Class    0   1\n",
       "Actual_Class            \n",
       "0                119   5\n",
       "1                 30  27"
      ]
     },
     "execution_count": 5,
     "metadata": {},
     "output_type": "execute_result"
    }
   ],
   "source": [
    "# Step 3\n",
    "conf_matrix = pd.crosstab(new_df['Actual_Class'],new_df['Predicted_Class'])\n",
    "conf_matrix"
   ]
  },
  {
   "cell_type": "code",
   "execution_count": null,
   "metadata": {
    "colab": {
     "base_uri": "https://localhost:8080/",
     "height": 178
    },
    "id": "eBLKP4S0940g",
    "outputId": "a8e0b974-fc1f-4764-8118-e7deca4fdf76"
   },
   "outputs": [
    {
     "data": {
      "text/html": [
       "<div>\n",
       "<style scoped>\n",
       "    .dataframe tbody tr th:only-of-type {\n",
       "        vertical-align: middle;\n",
       "    }\n",
       "\n",
       "    .dataframe tbody tr th {\n",
       "        vertical-align: top;\n",
       "    }\n",
       "\n",
       "    .dataframe thead th {\n",
       "        text-align: right;\n",
       "    }\n",
       "</style>\n",
       "<table border=\"1\" class=\"dataframe\">\n",
       "  <thead>\n",
       "    <tr style=\"text-align: right;\">\n",
       "      <th></th>\n",
       "      <th>count</th>\n",
       "    </tr>\n",
       "    <tr>\n",
       "      <th>Actual_Class</th>\n",
       "      <th></th>\n",
       "    </tr>\n",
       "  </thead>\n",
       "  <tbody>\n",
       "    <tr>\n",
       "      <th>0</th>\n",
       "      <td>124</td>\n",
       "    </tr>\n",
       "    <tr>\n",
       "      <th>1</th>\n",
       "      <td>57</td>\n",
       "    </tr>\n",
       "  </tbody>\n",
       "</table>\n",
       "</div><br><label><b>dtype:</b> int64</label>"
      ],
      "text/plain": [
       "Actual_Class\n",
       "0    124\n",
       "1     57\n",
       "Name: count, dtype: int64"
      ]
     },
     "execution_count": 6,
     "metadata": {},
     "output_type": "execute_result"
    }
   ],
   "source": [
    "new_df.Actual_Class.value_counts()"
   ]
  },
  {
   "cell_type": "markdown",
   "metadata": {
    "id": "laQ95F8TorBT"
   },
   "source": [
    "**Count of zeros in Actual class are 124 while count of 1's are 57**."
   ]
  },
  {
   "cell_type": "code",
   "execution_count": null,
   "metadata": {
    "colab": {
     "base_uri": "https://localhost:8080/"
    },
    "id": "2w4JP4zM-BZe",
    "outputId": "da786c65-0036-460d-978c-4b9be393e6b6"
   },
   "outputs": [
    {
     "data": {
      "text/plain": [
       "124"
      ]
     },
     "execution_count": 7,
     "metadata": {},
     "output_type": "execute_result"
    }
   ],
   "source": [
    "# count of actual negative class (1st row)\n",
    "conf_matrix.iloc[0,:].sum()"
   ]
  },
  {
   "cell_type": "markdown",
   "metadata": {
    "id": "s5B22jlYo39t"
   },
   "source": [
    "**Total sum of zeros for 1st row in confucion matrix is 124**."
   ]
  },
  {
   "cell_type": "code",
   "execution_count": null,
   "metadata": {
    "colab": {
     "base_uri": "https://localhost:8080/"
    },
    "id": "ZeV4qp28_HYJ",
    "outputId": "cbdc9340-001d-4aa4-e784-6b8feb7956ec"
   },
   "outputs": [
    {
     "data": {
      "text/plain": [
       "57"
      ]
     },
     "execution_count": 8,
     "metadata": {},
     "output_type": "execute_result"
    }
   ],
   "source": [
    "# count of actual positive class (2nd Row)\n",
    "conf_matrix.iloc[1,:].sum()"
   ]
  },
  {
   "cell_type": "markdown",
   "metadata": {
    "id": "jj5m8NXDpCLY"
   },
   "source": [
    "**Total sum of 1's for 2nd row in confusion matrix is 57, Hence we can state that the row wise indicates Actual Class**."
   ]
  },
  {
   "cell_type": "markdown",
   "metadata": {
    "id": "2_oUgcfeR-jM"
   },
   "source": [
    "**Row's represents Actual Class**"
   ]
  },
  {
   "cell_type": "code",
   "execution_count": null,
   "metadata": {
    "colab": {
     "base_uri": "https://localhost:8080/",
     "height": 178
    },
    "id": "2qifMqmw_hf2",
    "outputId": "d0671640-76b5-42c5-8ebb-61d37b916291"
   },
   "outputs": [
    {
     "data": {
      "text/html": [
       "<div>\n",
       "<style scoped>\n",
       "    .dataframe tbody tr th:only-of-type {\n",
       "        vertical-align: middle;\n",
       "    }\n",
       "\n",
       "    .dataframe tbody tr th {\n",
       "        vertical-align: top;\n",
       "    }\n",
       "\n",
       "    .dataframe thead th {\n",
       "        text-align: right;\n",
       "    }\n",
       "</style>\n",
       "<table border=\"1\" class=\"dataframe\">\n",
       "  <thead>\n",
       "    <tr style=\"text-align: right;\">\n",
       "      <th></th>\n",
       "      <th>count</th>\n",
       "    </tr>\n",
       "    <tr>\n",
       "      <th>Predicted_Class</th>\n",
       "      <th></th>\n",
       "    </tr>\n",
       "  </thead>\n",
       "  <tbody>\n",
       "    <tr>\n",
       "      <th>0</th>\n",
       "      <td>149</td>\n",
       "    </tr>\n",
       "    <tr>\n",
       "      <th>1</th>\n",
       "      <td>32</td>\n",
       "    </tr>\n",
       "  </tbody>\n",
       "</table>\n",
       "</div><br><label><b>dtype:</b> int64</label>"
      ],
      "text/plain": [
       "Predicted_Class\n",
       "0    149\n",
       "1     32\n",
       "Name: count, dtype: int64"
      ]
     },
     "execution_count": 9,
     "metadata": {},
     "output_type": "execute_result"
    }
   ],
   "source": [
    "new_df.Predicted_Class.value_counts()"
   ]
  },
  {
   "cell_type": "markdown",
   "metadata": {
    "id": "HtBt7sdtpW6u"
   },
   "source": [
    "**Count of zeros in Presicted class are 149 while count of 1's are 32**."
   ]
  },
  {
   "cell_type": "code",
   "execution_count": null,
   "metadata": {
    "colab": {
     "base_uri": "https://localhost:8080/"
    },
    "id": "Ef8sUV_v_pyd",
    "outputId": "faa48da8-9cfa-4b7e-df6d-9e0e33acac90"
   },
   "outputs": [
    {
     "data": {
      "text/plain": [
       "149"
      ]
     },
     "execution_count": 10,
     "metadata": {},
     "output_type": "execute_result"
    }
   ],
   "source": [
    "# count of negative predicted class (1st Column)\n",
    "conf_matrix.iloc[:,0].sum()"
   ]
  },
  {
   "cell_type": "markdown",
   "metadata": {
    "id": "2D2l4QFNpmxZ"
   },
   "source": [
    "**Total sum of zeros for 1st column in confusion matrix is 149**"
   ]
  },
  {
   "cell_type": "code",
   "execution_count": null,
   "metadata": {
    "colab": {
     "base_uri": "https://localhost:8080/"
    },
    "id": "MFzmPavR_t92",
    "outputId": "35d90855-addf-48bd-d795-4a4bc2713a72"
   },
   "outputs": [
    {
     "data": {
      "text/plain": [
       "32"
      ]
     },
     "execution_count": 11,
     "metadata": {},
     "output_type": "execute_result"
    }
   ],
   "source": [
    "# count of positive predicted class (2nd Column)\n",
    "conf_matrix.iloc[:,1].sum()"
   ]
  },
  {
   "cell_type": "markdown",
   "metadata": {
    "id": "fxvAzIkbpSzs"
   },
   "source": [
    "**Total sum of 1's for 2nd column in confusion matrix is 32, Hence we can state that the row wise indicates Predicted Class**"
   ]
  },
  {
   "cell_type": "markdown",
   "metadata": {
    "id": "wR3hsWXNqA9p"
   },
   "source": [
    "**Columns represent Predicted Class**"
   ]
  },
  {
   "cell_type": "markdown",
   "metadata": {
    "id": "XHKKLQdMGhVw"
   },
   "source": [
    "## **Step 4: Extract TP,FP,TN and FN**\n",
    "Extracting True Positive (TP), False Positive (FP), True Negative (TN), and False Negative (FN) values from the confusion matrix for further use in metric calculations."
   ]
  },
  {
   "cell_type": "code",
   "execution_count": null,
   "metadata": {
    "id": "Ct4QGW0x_90T"
   },
   "outputs": [],
   "source": [
    "# Step 4\n",
    "TP = conf_matrix.iloc[1,1]\n",
    "TN = conf_matrix.iloc[0,0]\n",
    "FP = conf_matrix.iloc[0,1]\n",
    "FN = conf_matrix.iloc[1,0]"
   ]
  },
  {
   "cell_type": "markdown",
   "metadata": {
    "id": "gZGA0ZqAqnDs"
   },
   "source": [
    "# Definitions of True Positive, True Negative, False Positive, and False Negative\n",
    "\n",
    "### True Positive (TP)\n",
    "A **True Positive** occurs when the model correctly predicts the positive class. In the context of binary classification:\n",
    "- The actual class is **positive** (1), and the model also predicts it as **positive** (1).\n",
    "\n",
    "### True Negative (TN)\n",
    "A **True Negative** occurs when the model correctly predicts the negative class. In the context of binary classification:\n",
    "- The actual class is **negative** (0), and the model predicts it as **negative** (0).\n",
    "\n",
    "### False Positive (FP)\n",
    "A **False Positive** occurs when the model incorrectly predicts the positive class. In the context of binary classification:\n",
    "- The actual class is **negative** (0), but the model predicts it as **positive** (1).\n",
    "- This is also known as a **Type I Error**.\n",
    "\n",
    "### False Negative (FN)\n",
    "A **False Negative** occurs when the model incorrectly predicts the negative class. In the context of binary classification:\n",
    "- The actual class is **positive** (1), but the model predicts it as **negative** (0).\n",
    "- This is also known as a **Type II Error**."
   ]
  },
  {
   "cell_type": "code",
   "execution_count": null,
   "metadata": {
    "colab": {
     "base_uri": "https://localhost:8080/"
    },
    "id": "vpyz7ig4ARri",
    "outputId": "6a6392c9-fe26-4ed2-ef35-743635e121e2"
   },
   "outputs": [
    {
     "name": "stdout",
     "output_type": "stream",
     "text": [
      "TP:  27\n",
      "TN:  119\n",
      "FP:  5\n",
      "FN:  30\n"
     ]
    }
   ],
   "source": [
    "# Printing the values for the TP, FP, FN, TN\n",
    "print('TP: ',TP)\n",
    "print('TN: ',TN)\n",
    "print('FP: ',FP)\n",
    "print('FN: ',FN)"
   ]
  },
  {
   "cell_type": "markdown",
   "metadata": {
    "id": "OZ9Jbu6wGvBj"
   },
   "source": [
    "## **Step 5: Calculate Accuracy**\n",
    "Calculating accuracy using actual and predicted classifications using custom function."
   ]
  },
  {
   "cell_type": "code",
   "execution_count": null,
   "metadata": {
    "id": "Ol-X4p4ZAS_L"
   },
   "outputs": [],
   "source": [
    "# Step 5\n",
    "# Accuracy function\n",
    "def accuracy(Actual_Class,Predicted_Class):\n",
    "  conf_matrix = pd.crosstab(Actual_Class, Predicted_Class, rownames=['Actual_Class'], colnames=['Predicted_Class'])\n",
    "  TP = conf_matrix.iloc[1,1]\n",
    "  TN = conf_matrix.iloc[0,0]\n",
    "  FP = conf_matrix.iloc[0,1]\n",
    "  FN = conf_matrix.iloc[1,0]\n",
    "\n",
    "  return np.round((TP+TN)/(TP+TN+FP+FN),4)"
   ]
  },
  {
   "cell_type": "markdown",
   "metadata": {
    "id": "x7N5nCtsq8XB"
   },
   "source": [
    "\n",
    "### Accuracy\n",
    "**Accuracy** is a metric used to evaluate the performance of a classification model. It measures the proportion of correctly classified instances (both positive and negative) out of the total number of instances.\n",
    "\n",
    "### Formula:\n",
    "<center>\n",
    "$\n",
    "\\text{Accuracy} = \\frac{\\text{True Positives} + \\text{True Negatives}}{\\text{Total Predictions}}\n",
    "$\n",
    "</center>"
   ]
  },
  {
   "cell_type": "markdown",
   "metadata": {
    "id": "FZ6xy43ZHH9X"
   },
   "source": [
    "## **Step 6: Calculate Precision**\n",
    "Calculating precision using actual and predicted classifications using custom function."
   ]
  },
  {
   "cell_type": "code",
   "execution_count": null,
   "metadata": {
    "id": "NjdnEFSyCNcE"
   },
   "outputs": [],
   "source": [
    "# Step 6\n",
    "# precision function\n",
    "def precision(Actual_Class,Predicted_Class):\n",
    "  conf_matrix = pd.crosstab(Actual_Class, Predicted_Class, rownames=['Actual_Class'], colnames=['Predicted_Class'])\n",
    "  TP = conf_matrix.iloc[1,1]\n",
    "  FP = conf_matrix.iloc[0,1]\n",
    "  return np.round(TP/(TP+FP),4)"
   ]
  },
  {
   "cell_type": "markdown",
   "metadata": {
    "id": "Qn2cr6w-rZGW"
   },
   "source": [
    "\n",
    "### Precision\n",
    "**Precision** is a metric used to evaluate the performance of a classification model, particularly for the positive class. It measures the proportion of correctly predicted positive instances out of all instances that were predicted as positive.\n",
    "\n",
    "### Formula:\n",
    "<center>\n",
    "$\n",
    "\\text{Precision} = \\frac{TP}{TP + FP}\n",
    "$\n",
    "</center>\n",
    "\n",
    "\n"
   ]
  },
  {
   "cell_type": "markdown",
   "metadata": {
    "id": "QcXniBgrHMGO"
   },
   "source": [
    "## **Step 7: Calculate Sensitivity(Recall)**\n",
    "Calculating sensitivity (recall) using actual and predicted classifications using custom function.\n"
   ]
  },
  {
   "cell_type": "code",
   "execution_count": null,
   "metadata": {
    "id": "wrIjt6LtC4yd"
   },
   "outputs": [],
   "source": [
    "# Step 7\n",
    "# sensitivity function\n",
    "def sensitivity(Actual_Class,Predicted_Class):\n",
    "  conf_matrix = pd.crosstab(Actual_Class, Predicted_Class, rownames=['Actual_Class'], colnames=['Predicted_Class'])\n",
    "  TP = conf_matrix.iloc[1,1]\n",
    "  FN = conf_matrix.iloc[1,0]\n",
    "  return np.round(TP/(TP+FN),4)"
   ]
  },
  {
   "cell_type": "markdown",
   "metadata": {
    "id": "4e4kr4aNsw3F"
   },
   "source": [
    "### Sensitivity\n",
    "**Sensitivity**, also known as **Recall** or **True Positive Rate (TPR)**, is a metric used to measure the ability of a model to correctly identify positive instances. It calculates the proportion of actual positive instances that were correctly predicted by the model.\n",
    "\n",
    "### Formula:\n",
    "<center>\n",
    "$\n",
    "\\text{Sensitivity} = \\frac{TP}{TP + FN}\n",
    "$\n",
    "</center>\n"
   ]
  },
  {
   "cell_type": "markdown",
   "metadata": {
    "id": "59O8GcJDHPFX"
   },
   "source": [
    "## **Step 8: Calculate Specificity**\n",
    "Calculating specificity using actual and predicted using custom function."
   ]
  },
  {
   "cell_type": "code",
   "execution_count": null,
   "metadata": {
    "id": "CqbH0NRcDM0c"
   },
   "outputs": [],
   "source": [
    "# Step 8\n",
    "# specificity function\n",
    "def specificity(Actual_Class,Predicted_Class):\n",
    "  conf_matrix = pd.crosstab(Actual_Class, Predicted_Class, rownames=['Actual_Class'], colnames=['Predicted_Class'])\n",
    "  TN = conf_matrix.iloc[0,0]\n",
    "  FP = conf_matrix.iloc[0,1]\n",
    "  return np.round(TN/(TN+FP),4)"
   ]
  },
  {
   "cell_type": "markdown",
   "metadata": {
    "id": "tYigjjzwtHHD"
   },
   "source": [
    "### Specificity\n",
    "**Specificity**, also known as the **True Negative Rate (TNR)**, is a metric used to evaluate the performance of a classification model. It measures the proportion of actual negative instances that are correctly identified by the model.\n",
    "\n",
    "### Formula:\n",
    "<center>\n",
    "$\n",
    "\\text{Specificity} = \\frac{TN}{TN + FP}\n",
    "$\n",
    "</center>"
   ]
  },
  {
   "cell_type": "markdown",
   "metadata": {
    "id": "J6jrdDFFHSRj"
   },
   "source": [
    "## **Step 9: F1 Score Calculation**\n",
    "Calculating the F1 Score using actual and predicted classifications using custom function.\n"
   ]
  },
  {
   "cell_type": "code",
   "execution_count": null,
   "metadata": {
    "id": "QK1SiGobDXhQ"
   },
   "outputs": [],
   "source": [
    "# Step 9\n",
    "# f1 score function\n",
    "def f1_score(Actual_Class,Predicted_Class):\n",
    "  conf_matrix = pd.crosstab(Actual_Class, Predicted_Class, rownames=['Actual_Class'], colnames=['Predicted_Class'])\n",
    "  TP = conf_matrix.iloc[1,1]\n",
    "  TN = conf_matrix.iloc[0,0]\n",
    "  FP = conf_matrix.iloc[0,1]\n",
    "  FN = conf_matrix.iloc[1,0]\n",
    "  return np.round((2*TP)/((2*TP)+FP+FN),4)"
   ]
  },
  {
   "cell_type": "markdown",
   "metadata": {
    "id": "3fF55XGjtgII"
   },
   "source": [
    "### F1 Score\n",
    "The **F1 Score** is the harmonic mean of **Precision** and **Recall** (Sensitivity). It provides a single metric that balances the trade-off between precision and recall, making it useful when you want to find a balance between avoiding false positives and false negatives.\n",
    "\n",
    "### Formula:\n",
    "<center>\n",
    "$\n",
    "F1 = \\frac{2TP}{{2TP}+FP+FN} =2 \\times \\frac{\\text{Precision} \\times \\text{Recall}}{\\text{Precision} + \\text{Recall}}\n",
    "$\n",
    "</center>"
   ]
  },
  {
   "cell_type": "markdown",
   "metadata": {
    "id": "xw1ApcwaHXVv"
   },
   "source": [
    "## **Step 10: ROC Curve and AUC Calculation**\n",
    "Plotting the ROC curve and calculating AUC using actual classifications and predicted probabilities using custom function."
   ]
  },
  {
   "cell_type": "code",
   "execution_count": null,
   "metadata": {
    "id": "lrAMOKWVDius"
   },
   "outputs": [],
   "source": [
    "# Step 10\n",
    "# ROC_AUC Curve\n",
    "def plot_roc_auc(Actual_Class,Predict_probability):\n",
    "  P_C = np.array(Predict_probability)\n",
    "  A_C = np.array(Actual_Class)\n",
    "  df = pd.DataFrame([ A_C,P_C]).T\n",
    "  df.columns = ['Actual_Class', 'Predict_Prob']\n",
    "  df = df.sort_values('Predict_Prob', ascending=False, ignore_index=True)\n",
    "\n",
    "  P = df.Actual_Class.sum()  # Total positive instances\n",
    "  N = df.Actual_Class.count() - df.Actual_Class.sum()  # Total negative instances\n",
    "  no_rows = df.shape[0]  # Total number of rows\n",
    "\n",
    "  tpr = []  # True Positive Rate\n",
    "  fpr = []  # False Positive Rate\n",
    "  auc = 0  # AUC initialization\n",
    "\n",
    "    # Running counts of TP and FP\n",
    "  tp = 0  # True positives\n",
    "  fp = 0  # False positives\n",
    "\n",
    "  for i in range(no_rows):\n",
    "      # If it's a positive instance\n",
    "      if df.Actual_Class[i] == 1:\n",
    "        tp += 1\n",
    "      else:\n",
    "        fp += 1\n",
    "\n",
    "        # Calculate TPR and FPR for the current threshold\n",
    "      tpr.append(tp / P)\n",
    "      fpr.append(fp / N)\n",
    "\n",
    "        # Calculate the trapezoid area between the current point and the previous point\n",
    "      if i > 0:\n",
    "          auc += (fpr[i] - fpr[i-1]) * (tpr[i] + tpr[i-1]) / 2\n",
    "\n",
    "    # Plot the ROC curve\n",
    "  plt.figure(figsize=(8,6))\n",
    "  plt.plot(fpr, tpr, color='blue', label=f'ROC curve (AUC = {auc:.2f})')\n",
    "  plt.plot([0, 1], [0, 1], color='red', linestyle='--')  # Diagonal line\n",
    "  plt.xlabel('False Positive Rate')\n",
    "  plt.ylabel('True Positive Rate')\n",
    "  plt.title('ROC Curve')\n",
    "  plt.legend()\n",
    "  plt.grid()\n",
    "  plt.show()\n",
    "\n",
    "  print(f\"AUC: {auc:.4f}\")\n",
    "  return auc"
   ]
  },
  {
   "cell_type": "code",
   "execution_count": null,
   "metadata": {
    "colab": {
     "base_uri": "https://localhost:8080/",
     "height": 600
    },
    "id": "s6iqAPEK9klP",
    "outputId": "880eba90-c56f-4c90-d2fb-0be6466f749a"
   },
   "outputs": [
    {
     "data": {
      "image/png": "[encoded data removed]",
      "text/plain": [
       "<Figure size 800x600 with 1 Axes>"
      ]
     },
     "metadata": {},
     "output_type": "display_data"
    },
    {
     "name": "stdout",
     "output_type": "stream",
     "text": [
      "AUC: 0.8503\n",
      "AUC for given model is : 0.8503\n"
     ]
    }
   ],
   "source": [
    "auc = plot_roc_auc(new_df.Actual_Class,new_df.Predic_probability)\n",
    "print(\"AUC for given model is :\",np.round(auc,4))"
   ]
  },
  {
   "cell_type": "markdown",
   "metadata": {
    "id": "7FT4sksWufrw"
   },
   "source": [
    "\n",
    "### ROC Curve\n",
    "The **Receiver Operating Characteristic (ROC) Curve** is a graphical representation of a classification model's performance across all possible classification thresholds. It plots:\n",
    "- **True Positive Rate (TPR)** (also called Recall or Sensitivity) on the y-axis.\n",
    "- **False Positive Rate (FPR)** on the x-axis.\n",
    "\n",
    "The ROC curve shows the trade-off between the TPR and FPR as the classification threshold is varied.\n",
    "\n",
    "### AUC\n",
    "**Area Under the Curve (AUC)** is a single scalar value that represents the area under the ROC curve. It provides a measure of how well the model distinguishes between positive and negative classes.\n",
    "- AUC ranges between 0 and 1.\n",
    "  - AUC of **1** indicates perfect performance.\n",
    "  - AUC of **0.5** indicates random guessing.\n",
    "  \n",
    "**In our case, the function we built to plot the ROC curve resulted in an AUC of approximately 0.8503, which can be considered a good model.**\n"
   ]
  },
  {
   "cell_type": "markdown",
   "metadata": {
    "id": "UkKMrN5THhj6"
   },
   "source": [
    "## **Step 11: Calling previously defined functions**\n",
    "Calling functions to the dataset to compute accuracy, precision, recall, specificity, and F1 Score."
   ]
  },
  {
   "cell_type": "code",
   "execution_count": null,
   "metadata": {
    "colab": {
     "base_uri": "https://localhost:8080/"
    },
    "id": "prRcCWEk-lPk",
    "outputId": "f5134fb6-1a74-4d80-9ad5-a0ccf7a2f121"
   },
   "outputs": [
    {
     "name": "stdout",
     "output_type": "stream",
     "text": [
      "Accuracy    :  0.8066\n",
      "Precision   :  0.8438\n",
      "Sensitivity :  0.4737\n",
      "Specificity :  0.9597\n",
      "F1 Score.   :  0.6067\n"
     ]
    }
   ],
   "source": [
    "# Step 11\n",
    "print('Accuracy    : ',accuracy(new_df['Actual_Class'],new_df['Predicted_Class']))\n",
    "print('Precision   : ',precision(new_df['Actual_Class'],new_df['Predicted_Class']))\n",
    "print('Sensitivity : ',sensitivity(new_df['Actual_Class'],new_df['Predicted_Class']))\n",
    "print('Specificity : ',specificity(new_df['Actual_Class'],new_df['Predicted_Class']))\n",
    "print('F1 Score.   : ', f1_score(new_df['Actual_Class'],new_df['Predicted_Class']))"
   ]
  },
  {
   "cell_type": "markdown",
   "metadata": {
    "id": "1PeIFsJaRcH1"
   },
   "source": [
    "## **Step 12: Comparison with scikit-learn**\n",
    "Compare the outputs of your custom functions with `scikit-learn`'s pre-built functions, including confusion_matrix(), accuracy_score(), precision_score(), recall_score(), and f1_score()."
   ]
  },
  {
   "cell_type": "code",
   "execution_count": null,
   "metadata": {
    "colab": {
     "base_uri": "https://localhost:8080/"
    },
    "id": "EpEl5fZl97PW",
    "outputId": "b096a344-5a48-4fba-9b79-e7aea2f285f9"
   },
   "outputs": [
    {
     "name": "stdout",
     "output_type": "stream",
     "text": [
      "Confusion Matrix (scikit-learn):\n",
      " [[119   5]\n",
      " [ 30  27]]\n",
      "Accuracy (scikit-learn)    : 0.8066\n",
      "Precision (scikit-learn)   : 0.8438\n",
      "Recall (scikit-learn).     : 0.4737\n",
      "Specificity (scikit-learn) : 0.9597\n",
      "F1 Score (scikit-learn).   : 0.6067\n"
     ]
    }
   ],
   "source": [
    "# Step 12: Compare with scikit-learn built-in functions\n",
    "from sklearn.metrics import roc_curve, auc, confusion_matrix, accuracy_score, precision_score, recall_score, f1_score\n",
    "\n",
    "# Confusion matrix using scikit-learn\n",
    "conf_matrix_sklearn = confusion_matrix(df['class'], df['scored.class'])\n",
    "print(\"Confusion Matrix (scikit-learn):\\n\", conf_matrix_sklearn)\n",
    "\n",
    "# Accuracy\n",
    "accuracy_sklearn = accuracy_score(df['class'], df['scored.class'])\n",
    "print(f\"Accuracy (scikit-learn)    : {accuracy_sklearn:.4f}\")\n",
    "\n",
    "# Precision\n",
    "precision_sklearn = precision_score(df['class'], df['scored.class'])\n",
    "print(f\"Precision (scikit-learn)   : {precision_sklearn:.4f}\")\n",
    "\n",
    "# Recall (Sensitivity)\n",
    "recall_sklearn = recall_score(df['class'], df['scored.class'])\n",
    "print(f\"Recall (scikit-learn).     : {recall_sklearn:.4f}\")\n",
    "\n",
    "# Specificity\n",
    "specificity_sklearn = recall_score(df['class'], df['scored.class'], pos_label=0)\n",
    "print(f\"Specificity (scikit-learn) : {specificity_sklearn:.4f}\")\n",
    "\n",
    "# F1 Score\n",
    "f1_sklearn = f1_score(df['class'], df['scored.class'])\n",
    "print(f\"F1 Score (scikit-learn).   : {f1_sklearn:.4f}\")\n"
   ]
  },
  {
   "cell_type": "markdown",
   "metadata": {
    "id": "evATJYry857x"
   },
   "source": [
    "### Explanation:\n",
    "The performance comparison between the custom functions and scikit-learn's built-in methods demonstrates that the results are highly consistent across the board. The key metrics—accuracy, precision, sensitivity, specificity, and F1 score—are nearly identical, confirming the correctness of the custom implementations.\n",
    "\n",
    "- **Accuracy**: Both scikit-learn and the custom function yield an accuracy of **80.66%**, indicating the model’s correct prediction rate is identical across both methods.\n",
    "\n",
    "- **Precision**: The precision metric is also identical at **84.38%**, meaning both approaches are equally effective at minimizing false positives.\n",
    "\n",
    "- **Sensitivity/Recall**: Both methods report a sensitivity (recall) of **47.37%**, reflecting that the model is less effective at identifying true positives (i.e., detecting actual positives correctly), though this result is consistent across both implementations.\n",
    "\n",
    "- **Specificity**: Specificity, which measures the ability to correctly identify true negatives, remains very high for both the custom and scikit-learn methods, at **95.97%**.\n",
    "\n",
    "- **F1 Score**: The F1 Score is very similar between both methods, with scikit-learn reporting **0.6067** and the custom function returning **0.6067**, demonstrating consistent handling of the trade-off between precision and recall."
   ]
  },
  {
   "cell_type": "markdown",
   "metadata": {
    "id": "FsQ12Vq8RfSr"
   },
   "source": [
    "## **Step 13: ROC Curve and AUC with scikit-learn**\n",
    "Using `scikit-learn`'s plot_roc_curve() and auc() functions to generate the ROC curve and AUC, then compare the results with your custom function."
   ]
  },
  {
   "cell_type": "code",
   "execution_count": null,
   "metadata": {
    "colab": {
     "base_uri": "https://localhost:8080/",
     "height": 582
    },
    "collapsed": true,
    "id": "11gV-UET-5ro",
    "outputId": "1022de09-9df4-4abd-b9f4-abedb0f8cc11"
   },
   "outputs": [
    {
     "data": {
      "image/png": "[encoded data removed]",
      "text/plain": [
       "<Figure size 800x600 with 1 Axes>"
      ]
     },
     "metadata": {},
     "output_type": "display_data"
    },
    {
     "name": "stdout",
     "output_type": "stream",
     "text": [
      "AUC (scikit-learn): 0.8503\n"
     ]
    }
   ],
   "source": [
    "#Step 13\n",
    "# ROC curve and AUC using scikit-learn\n",
    "fpr_sklearn, tpr_sklearn, _ = roc_curve(df['class'], df['scored.probability'])\n",
    "auc_score_sklearn = auc(fpr_sklearn, tpr_sklearn)\n",
    "\n",
    "plt.figure(figsize=(8,6))\n",
    "plt.plot(fpr_sklearn, tpr_sklearn, color='blue', label=f\"ROC curve (AUC = {auc_score_sklearn:.2f})\")\n",
    "plt.plot([0, 1], [0, 1], color='red', linestyle='--')\n",
    "plt.xlabel(\"False Positive Rate\")\n",
    "plt.ylabel(\"True Positive Rate\")\n",
    "plt.title(\"ROC Curve (scikit-learn)\")\n",
    "plt.legend(loc=\"lower right\")\n",
    "plt.grid(True)\n",
    "plt.show()\n",
    "\n",
    "print(f\"AUC (scikit-learn): {auc_score_sklearn:.4f}\")"
   ]
  },
  {
   "cell_type": "markdown",
   "metadata": {
    "id": "B57O8QRj9cQ3"
   },
   "source": [
    "### Explanation:\n",
    "Both ROC curves (one generated via custom function and the other using scikit-learn’s `roc_curve` function) show a similar pattern, with an **AUC** (Area Under Curve) of **0.85** in both cases. This suggests that both methods provide equivalent insights into the model’s discriminatory power, and the custom function performs comparably to scikit-learn’s built-in function in terms of ROC plotting and AUC calculation.\n"
   ]
  },
  {
   "cell_type": "markdown",
   "metadata": {
    "id": "GkJOWP0zW7G0"
   },
   "source": [
    "### Conclusion\n",
    "The custom-built functions have accurately replicated the performance metrics provided by scikit-learn, and the ROC/AUC analysis further strengthens this consistency. The slight visual differences between the ROC curves are negligible, and overall, the custom implementations prove to be both reliable and insightful."
   ]
  }
 ],
 "metadata": {
  "colab": {
   "provenance": []
  },
  "kernelspec": {
   "display_name": "Python 3",
   "language": "python",
   "name": "python3"
  },
  "language_info": {
   "codemirror_mode": {
    "name": "ipython",
    "version": 3
   },
   "file_extension": ".py",
   "mimetype": "text/x-python",
   "name": "python",
   "nbconvert_exporter": "python",
   "pygments_lexer": "ipython3",
   "version": "3.7.3"
  }
 },
 "nbformat": 4,
 "nbformat_minor": 1
}
